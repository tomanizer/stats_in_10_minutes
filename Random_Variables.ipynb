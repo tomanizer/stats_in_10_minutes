{
  "nbformat": 4,
  "nbformat_minor": 0,
  "metadata": {
    "colab": {
      "name": "Random Variables.ipynb",
      "provenance": [],
      "collapsed_sections": [],
      "authorship_tag": "ABX9TyP/lTstAtb2bdG0tIlQGtOw",
      "include_colab_link": true
    },
    "kernelspec": {
      "name": "python3",
      "display_name": "Python 3"
    }
  },
  "cells": [
    {
      "cell_type": "markdown",
      "metadata": {
        "id": "view-in-github",
        "colab_type": "text"
      },
      "source": [
        "<a href=\"https://colab.research.google.com/github/tomanizer/stats_in_10_minutes/blob/master/Random_Variables.ipynb\" target=\"_parent\"><img src=\"https://colab.research.google.com/assets/colab-badge.svg\" alt=\"Open In Colab\"/></a>"
      ]
    },
    {
      "cell_type": "markdown",
      "metadata": {
        "id": "6Mgn388o56LC",
        "colab_type": "text"
      },
      "source": [
        "# What is a Random Variable?\n",
        "\n",
        "A *random variable* is a variable whose value depend on the outcomes of a random phenomenon.\n",
        "\n",
        "Random phenomena can be:\n",
        "1. A yet to be performed experiment. Because the experiment is in the future, its outcomes are uncertain. \n",
        "2. A past experiment where some already-existing value is uncertain, e.g. quantum uncertainty\n",
        "3. The results of an *objectively random process*, e.g. rolling dice\n",
        "4. *Subjective randomness* that results from incomplete knowledge, where a result could be known with certainty in theory, but where the examiner does not have sufficinet knowledge of the underlying process.\n",
        "\n",
        "Important terms relating to random variables:\n",
        "- The *domain* of a random variable is the set of possible outcomes.\n",
        "- A random variable must be *measurable*, in a sense that a value can be assigned to an outcome.\n",
        "- The *sample space* of the random variable is the set of possible values which the random variable can take.\n",
        "- *Discrete random variables* have a countable list of values.\n",
        "- *Continous random variables* take numerical values in an interval and have an uncountable range.\n",
        "- In statistical texts *random variables* are often denoted as $X$.\n",
        "\n",
        "## Creating a random variable\n",
        "\n",
        "We can easily create a random variable from an *objectively random process* (3).\n",
        "\n",
        "We get get Python do randomly draw a number from a known random distribution and store the result for this *random variable*.\n",
        "\n",
        "\n"
      ]
    },
    {
      "cell_type": "code",
      "metadata": {
        "id": "Hav2Xn_M5_ZZ",
        "colab_type": "code",
        "colab": {
          "base_uri": "https://localhost:8080/",
          "height": 34
        },
        "outputId": "20c228f6-9d0b-4d52-ca4d-dfd451528fe7"
      },
      "source": [
        "from random import randint\n",
        "\n",
        "x = randint(0,10)\n",
        "x"
      ],
      "execution_count": 20,
      "outputs": [
        {
          "output_type": "execute_result",
          "data": {
            "text/plain": [
              "1"
            ]
          },
          "metadata": {
            "tags": []
          },
          "execution_count": 20
        }
      ]
    },
    {
      "cell_type": "markdown",
      "metadata": {
        "id": "CfJtBou06SPj",
        "colab_type": "text"
      },
      "source": [
        "We can now create a series of instances of this random variable."
      ]
    },
    {
      "cell_type": "code",
      "metadata": {
        "id": "Rlc1m7R26LAg",
        "colab_type": "code",
        "colab": {
          "base_uri": "https://localhost:8080/",
          "height": 34
        },
        "outputId": "119b59ca-1c1e-4159-da44-23ab6ddb75db"
      },
      "source": [
        "n = 20\n",
        "X = [randint(0,10) for x in range(n)]\n",
        "X"
      ],
      "execution_count": 28,
      "outputs": [
        {
          "output_type": "execute_result",
          "data": {
            "text/plain": [
              "[3, 2, 10, 6, 6, 6, 0, 1, 3, 3, 2, 7, 8, 5, 0, 1, 4, 3, 8, 9]"
            ]
          },
          "metadata": {
            "tags": []
          },
          "execution_count": 28
        }
      ]
    },
    {
      "cell_type": "markdown",
      "metadata": {
        "id": "_M2bOE9d6hKB",
        "colab_type": "text"
      },
      "source": [
        "And plot the distribution of this random variable."
      ]
    },
    {
      "cell_type": "code",
      "metadata": {
        "id": "ofNctiws6lR3",
        "colab_type": "code",
        "colab": {
          "base_uri": "https://localhost:8080/",
          "height": 542
        },
        "outputId": "72ae2521-563e-46ba-db8b-7feb53a4f831"
      },
      "source": [
        "import plotly.graph_objects as go\n",
        "fig = go.Figure()\n",
        "fig.add_histogram(x=X, name=f\"X for {n}\", histnorm=\"probability density\")"
      ],
      "execution_count": 34,
      "outputs": [
        {
          "output_type": "display_data",
          "data": {
            "text/html": [
              "<html>\n",
              "<head><meta charset=\"utf-8\" /></head>\n",
              "<body>\n",
              "    <div>\n",
              "            <script src=\"https://cdnjs.cloudflare.com/ajax/libs/mathjax/2.7.5/MathJax.js?config=TeX-AMS-MML_SVG\"></script><script type=\"text/javascript\">if (window.MathJax) {MathJax.Hub.Config({SVG: {font: \"STIX-Web\"}});}</script>\n",
              "                <script type=\"text/javascript\">window.PlotlyConfig = {MathJaxConfig: 'local'};</script>\n",
              "        <script src=\"https://cdn.plot.ly/plotly-latest.min.js\"></script>    \n",
              "            <div id=\"93a1fdfb-cc64-4267-9ea9-a97d555c2b6a\" class=\"plotly-graph-div\" style=\"height:525px; width:100%;\"></div>\n",
              "            <script type=\"text/javascript\">\n",
              "                \n",
              "                    window.PLOTLYENV=window.PLOTLYENV || {};\n",
              "                    \n",
              "                if (document.getElementById(\"93a1fdfb-cc64-4267-9ea9-a97d555c2b6a\")) {\n",
              "                    Plotly.newPlot(\n",
              "                        '93a1fdfb-cc64-4267-9ea9-a97d555c2b6a',\n",
              "                        [{\"histnorm\": \"probability density\", \"name\": \"X for 1000\", \"type\": \"histogram\", \"x\": [8, 1, 7, 9, 8, 4, 9, 5, 9, 2, 4, 6, 8, 9, 2, 1, 10, 9, 4, 2, 8, 0, 1, 4, 2, 3, 10, 2, 3, 9, 1, 10, 8, 2, 10, 1, 9, 1, 2, 6, 9, 5, 0, 2, 10, 10, 5, 3, 1, 7, 4, 9, 1, 5, 5, 1, 8, 7, 8, 1, 7, 4, 3, 8, 1, 1, 6, 1, 9, 5, 0, 7, 3, 6, 5, 2, 5, 3, 0, 7, 4, 6, 9, 10, 2, 0, 3, 4, 0, 3, 9, 3, 7, 5, 0, 2, 8, 0, 5, 0, 4, 2, 7, 8, 7, 3, 10, 10, 10, 7, 0, 10, 1, 6, 6, 2, 2, 9, 6, 6, 7, 8, 8, 6, 8, 5, 7, 5, 10, 1, 1, 6, 3, 2, 6, 0, 10, 5, 2, 6, 0, 6, 7, 10, 3, 0, 4, 0, 7, 6, 7, 8, 0, 4, 5, 4, 4, 6, 3, 3, 0, 3, 3, 8, 5, 10, 3, 3, 6, 7, 10, 2, 10, 3, 4, 3, 8, 9, 3, 3, 5, 2, 0, 8, 4, 6, 3, 7, 3, 4, 4, 0, 2, 7, 2, 8, 2, 5, 9, 0, 4, 2, 6, 10, 10, 2, 7, 7, 2, 8, 7, 10, 2, 4, 6, 7, 8, 10, 3, 2, 6, 4, 0, 6, 6, 0, 7, 2, 8, 3, 9, 2, 6, 5, 7, 6, 10, 9, 1, 7, 4, 10, 5, 6, 9, 9, 3, 5, 7, 2, 6, 2, 9, 4, 5, 9, 4, 2, 9, 9, 5, 3, 0, 8, 1, 2, 0, 1, 6, 5, 6, 10, 6, 5, 10, 5, 4, 1, 1, 4, 4, 6, 10, 3, 0, 2, 10, 6, 7, 2, 4, 6, 7, 6, 7, 1, 2, 4, 3, 10, 8, 4, 3, 1, 6, 2, 5, 6, 9, 9, 9, 4, 1, 3, 1, 9, 3, 4, 7, 3, 9, 4, 10, 7, 8, 2, 7, 3, 5, 1, 3, 4, 3, 5, 6, 2, 5, 1, 5, 8, 3, 9, 3, 1, 6, 6, 6, 8, 3, 1, 9, 9, 7, 9, 4, 9, 7, 9, 5, 10, 5, 8, 3, 10, 1, 8, 10, 3, 7, 4, 1, 2, 9, 10, 4, 5, 7, 8, 2, 1, 3, 6, 10, 6, 10, 7, 3, 8, 4, 2, 2, 10, 6, 2, 1, 3, 0, 3, 5, 10, 9, 8, 2, 4, 1, 2, 5, 3, 4, 10, 6, 6, 4, 8, 1, 3, 6, 7, 1, 3, 9, 10, 7, 9, 8, 5, 1, 1, 0, 0, 0, 5, 9, 5, 8, 0, 10, 0, 3, 3, 6, 5, 4, 5, 1, 1, 7, 6, 10, 3, 1, 2, 9, 1, 7, 9, 3, 3, 8, 3, 3, 9, 2, 2, 9, 1, 2, 9, 9, 5, 0, 8, 8, 1, 3, 7, 9, 0, 6, 1, 1, 0, 5, 2, 8, 7, 6, 9, 2, 7, 4, 5, 2, 2, 3, 7, 6, 4, 4, 5, 7, 2, 4, 10, 4, 0, 1, 9, 6, 7, 10, 4, 0, 3, 10, 10, 6, 4, 7, 4, 8, 8, 2, 3, 7, 7, 3, 0, 0, 6, 2, 8, 4, 3, 5, 9, 0, 7, 10, 3, 9, 3, 8, 7, 7, 5, 2, 6, 7, 9, 4, 9, 8, 9, 9, 10, 1, 6, 3, 4, 2, 1, 2, 0, 6, 2, 9, 1, 2, 10, 10, 7, 3, 0, 10, 5, 5, 10, 8, 8, 6, 3, 10, 2, 1, 9, 2, 3, 10, 10, 8, 2, 6, 1, 3, 6, 4, 1, 8, 5, 9, 8, 5, 3, 8, 6, 6, 0, 1, 4, 1, 2, 10, 10, 2, 3, 10, 7, 0, 2, 5, 2, 4, 3, 3, 7, 7, 2, 7, 4, 1, 6, 10, 3, 0, 5, 0, 9, 9, 8, 3, 6, 6, 6, 7, 5, 0, 10, 3, 4, 0, 4, 0, 0, 6, 8, 7, 1, 4, 6, 9, 1, 4, 3, 5, 10, 0, 6, 3, 7, 1, 2, 2, 6, 8, 0, 2, 10, 1, 4, 1, 4, 7, 3, 1, 1, 9, 8, 7, 4, 7, 5, 10, 5, 3, 2, 7, 6, 9, 8, 3, 10, 3, 8, 7, 4, 2, 10, 10, 3, 5, 0, 3, 10, 6, 1, 5, 4, 10, 2, 7, 9, 0, 0, 0, 9, 0, 7, 10, 2, 10, 5, 1, 9, 9, 4, 5, 4, 10, 4, 0, 3, 4, 2, 5, 4, 1, 3, 5, 3, 4, 3, 7, 7, 9, 10, 8, 9, 8, 10, 9, 0, 10, 2, 7, 9, 2, 7, 5, 6, 9, 5, 8, 9, 2, 9, 1, 5, 2, 8, 0, 10, 0, 8, 5, 2, 2, 0, 3, 1, 8, 4, 0, 7, 9, 10, 9, 8, 5, 9, 7, 7, 2, 5, 0, 5, 3, 3, 9, 9, 0, 5, 5, 7, 4, 7, 9, 7, 0, 1, 0, 0, 3, 7, 5, 0, 3, 4, 5, 6, 7, 6, 4, 0, 0, 1, 9, 5, 5, 2, 7, 9, 2, 6, 10, 7, 2, 1, 2, 0, 6, 6, 1, 3, 3, 3, 5, 3, 9, 0, 2, 3, 1, 2, 10, 2, 8, 9, 8, 9, 6, 10, 9, 1, 5, 0, 7, 10, 0, 3, 8, 6, 6, 5, 0, 1, 5, 10, 0, 2, 1, 10, 5, 1, 4, 3, 3, 9, 8, 6, 4, 4, 4, 3, 3, 10, 7, 1, 1, 0, 7, 0, 1, 8, 8, 4, 1, 10, 2, 6, 0, 9, 4, 4, 2, 6, 6, 6, 8, 5, 7, 3, 7, 4, 8, 7, 4, 5, 7, 10, 9, 6, 8, 3, 6, 2, 7, 2, 5, 5, 8, 2, 8, 9, 3, 2, 5, 3, 8, 2, 6, 5, 7, 4, 9, 0, 5, 6, 1, 3, 7, 10, 8, 7, 0, 6, 2, 0, 0, 8, 5, 4, 6, 5, 5, 1, 2, 6, 10, 2, 1, 7, 1, 10, 10, 3, 10, 9, 2, 0]}],\n",
              "                        {\"template\": {\"data\": {\"bar\": [{\"error_x\": {\"color\": \"#2a3f5f\"}, \"error_y\": {\"color\": \"#2a3f5f\"}, \"marker\": {\"line\": {\"color\": \"#E5ECF6\", \"width\": 0.5}}, \"type\": \"bar\"}], \"barpolar\": [{\"marker\": {\"line\": {\"color\": \"#E5ECF6\", \"width\": 0.5}}, \"type\": \"barpolar\"}], \"carpet\": [{\"aaxis\": {\"endlinecolor\": \"#2a3f5f\", \"gridcolor\": \"white\", \"linecolor\": \"white\", \"minorgridcolor\": \"white\", \"startlinecolor\": \"#2a3f5f\"}, \"baxis\": {\"endlinecolor\": \"#2a3f5f\", \"gridcolor\": \"white\", \"linecolor\": \"white\", \"minorgridcolor\": \"white\", \"startlinecolor\": \"#2a3f5f\"}, \"type\": \"carpet\"}], \"choropleth\": [{\"colorbar\": {\"outlinewidth\": 0, \"ticks\": \"\"}, \"type\": \"choropleth\"}], \"contour\": [{\"colorbar\": {\"outlinewidth\": 0, \"ticks\": \"\"}, \"colorscale\": [[0.0, \"#0d0887\"], [0.1111111111111111, \"#46039f\"], [0.2222222222222222, \"#7201a8\"], [0.3333333333333333, \"#9c179e\"], [0.4444444444444444, \"#bd3786\"], [0.5555555555555556, \"#d8576b\"], [0.6666666666666666, \"#ed7953\"], [0.7777777777777778, \"#fb9f3a\"], [0.8888888888888888, \"#fdca26\"], [1.0, \"#f0f921\"]], \"type\": \"contour\"}], \"contourcarpet\": [{\"colorbar\": {\"outlinewidth\": 0, \"ticks\": \"\"}, \"type\": \"contourcarpet\"}], \"heatmap\": [{\"colorbar\": {\"outlinewidth\": 0, \"ticks\": \"\"}, \"colorscale\": [[0.0, \"#0d0887\"], [0.1111111111111111, \"#46039f\"], [0.2222222222222222, \"#7201a8\"], [0.3333333333333333, \"#9c179e\"], [0.4444444444444444, \"#bd3786\"], [0.5555555555555556, \"#d8576b\"], [0.6666666666666666, \"#ed7953\"], [0.7777777777777778, \"#fb9f3a\"], [0.8888888888888888, \"#fdca26\"], [1.0, \"#f0f921\"]], \"type\": \"heatmap\"}], \"heatmapgl\": [{\"colorbar\": {\"outlinewidth\": 0, \"ticks\": \"\"}, \"colorscale\": [[0.0, \"#0d0887\"], [0.1111111111111111, \"#46039f\"], [0.2222222222222222, \"#7201a8\"], [0.3333333333333333, \"#9c179e\"], [0.4444444444444444, \"#bd3786\"], [0.5555555555555556, \"#d8576b\"], [0.6666666666666666, \"#ed7953\"], [0.7777777777777778, \"#fb9f3a\"], [0.8888888888888888, \"#fdca26\"], [1.0, \"#f0f921\"]], \"type\": \"heatmapgl\"}], \"histogram\": [{\"marker\": {\"colorbar\": {\"outlinewidth\": 0, \"ticks\": \"\"}}, \"type\": \"histogram\"}], \"histogram2d\": [{\"colorbar\": {\"outlinewidth\": 0, \"ticks\": \"\"}, \"colorscale\": [[0.0, \"#0d0887\"], [0.1111111111111111, \"#46039f\"], [0.2222222222222222, \"#7201a8\"], [0.3333333333333333, \"#9c179e\"], [0.4444444444444444, \"#bd3786\"], [0.5555555555555556, \"#d8576b\"], [0.6666666666666666, \"#ed7953\"], [0.7777777777777778, \"#fb9f3a\"], [0.8888888888888888, \"#fdca26\"], [1.0, \"#f0f921\"]], \"type\": \"histogram2d\"}], \"histogram2dcontour\": [{\"colorbar\": {\"outlinewidth\": 0, \"ticks\": \"\"}, \"colorscale\": [[0.0, \"#0d0887\"], [0.1111111111111111, \"#46039f\"], [0.2222222222222222, \"#7201a8\"], [0.3333333333333333, \"#9c179e\"], [0.4444444444444444, \"#bd3786\"], [0.5555555555555556, \"#d8576b\"], [0.6666666666666666, \"#ed7953\"], [0.7777777777777778, \"#fb9f3a\"], [0.8888888888888888, \"#fdca26\"], [1.0, \"#f0f921\"]], \"type\": \"histogram2dcontour\"}], \"mesh3d\": [{\"colorbar\": {\"outlinewidth\": 0, \"ticks\": \"\"}, \"type\": \"mesh3d\"}], \"parcoords\": [{\"line\": {\"colorbar\": {\"outlinewidth\": 0, \"ticks\": \"\"}}, \"type\": \"parcoords\"}], \"pie\": [{\"automargin\": true, \"type\": \"pie\"}], \"scatter\": [{\"marker\": {\"colorbar\": {\"outlinewidth\": 0, \"ticks\": \"\"}}, \"type\": \"scatter\"}], \"scatter3d\": [{\"line\": {\"colorbar\": {\"outlinewidth\": 0, \"ticks\": \"\"}}, \"marker\": {\"colorbar\": {\"outlinewidth\": 0, \"ticks\": \"\"}}, \"type\": \"scatter3d\"}], \"scattercarpet\": [{\"marker\": {\"colorbar\": {\"outlinewidth\": 0, \"ticks\": \"\"}}, \"type\": \"scattercarpet\"}], \"scattergeo\": [{\"marker\": {\"colorbar\": {\"outlinewidth\": 0, \"ticks\": \"\"}}, \"type\": \"scattergeo\"}], \"scattergl\": [{\"marker\": {\"colorbar\": {\"outlinewidth\": 0, \"ticks\": \"\"}}, \"type\": \"scattergl\"}], \"scattermapbox\": [{\"marker\": {\"colorbar\": {\"outlinewidth\": 0, \"ticks\": \"\"}}, \"type\": \"scattermapbox\"}], \"scatterpolar\": [{\"marker\": {\"colorbar\": {\"outlinewidth\": 0, \"ticks\": \"\"}}, \"type\": \"scatterpolar\"}], \"scatterpolargl\": [{\"marker\": {\"colorbar\": {\"outlinewidth\": 0, \"ticks\": \"\"}}, \"type\": \"scatterpolargl\"}], \"scatterternary\": [{\"marker\": {\"colorbar\": {\"outlinewidth\": 0, \"ticks\": \"\"}}, \"type\": \"scatterternary\"}], \"surface\": [{\"colorbar\": {\"outlinewidth\": 0, \"ticks\": \"\"}, \"colorscale\": [[0.0, \"#0d0887\"], [0.1111111111111111, \"#46039f\"], [0.2222222222222222, \"#7201a8\"], [0.3333333333333333, \"#9c179e\"], [0.4444444444444444, \"#bd3786\"], [0.5555555555555556, \"#d8576b\"], [0.6666666666666666, \"#ed7953\"], [0.7777777777777778, \"#fb9f3a\"], [0.8888888888888888, \"#fdca26\"], [1.0, \"#f0f921\"]], \"type\": \"surface\"}], \"table\": [{\"cells\": {\"fill\": {\"color\": \"#EBF0F8\"}, \"line\": {\"color\": \"white\"}}, \"header\": {\"fill\": {\"color\": \"#C8D4E3\"}, \"line\": {\"color\": \"white\"}}, \"type\": \"table\"}]}, \"layout\": {\"annotationdefaults\": {\"arrowcolor\": \"#2a3f5f\", \"arrowhead\": 0, \"arrowwidth\": 1}, \"coloraxis\": {\"colorbar\": {\"outlinewidth\": 0, \"ticks\": \"\"}}, \"colorscale\": {\"diverging\": [[0, \"#8e0152\"], [0.1, \"#c51b7d\"], [0.2, \"#de77ae\"], [0.3, \"#f1b6da\"], [0.4, \"#fde0ef\"], [0.5, \"#f7f7f7\"], [0.6, \"#e6f5d0\"], [0.7, \"#b8e186\"], [0.8, \"#7fbc41\"], [0.9, \"#4d9221\"], [1, \"#276419\"]], \"sequential\": [[0.0, \"#0d0887\"], [0.1111111111111111, \"#46039f\"], [0.2222222222222222, \"#7201a8\"], [0.3333333333333333, \"#9c179e\"], [0.4444444444444444, \"#bd3786\"], [0.5555555555555556, \"#d8576b\"], [0.6666666666666666, \"#ed7953\"], [0.7777777777777778, \"#fb9f3a\"], [0.8888888888888888, \"#fdca26\"], [1.0, \"#f0f921\"]], \"sequentialminus\": [[0.0, \"#0d0887\"], [0.1111111111111111, \"#46039f\"], [0.2222222222222222, \"#7201a8\"], [0.3333333333333333, \"#9c179e\"], [0.4444444444444444, \"#bd3786\"], [0.5555555555555556, \"#d8576b\"], [0.6666666666666666, \"#ed7953\"], [0.7777777777777778, \"#fb9f3a\"], [0.8888888888888888, \"#fdca26\"], [1.0, \"#f0f921\"]]}, \"colorway\": [\"#636efa\", \"#EF553B\", \"#00cc96\", \"#ab63fa\", \"#FFA15A\", \"#19d3f3\", \"#FF6692\", \"#B6E880\", \"#FF97FF\", \"#FECB52\"], \"font\": {\"color\": \"#2a3f5f\"}, \"geo\": {\"bgcolor\": \"white\", \"lakecolor\": \"white\", \"landcolor\": \"#E5ECF6\", \"showlakes\": true, \"showland\": true, \"subunitcolor\": \"white\"}, \"hoverlabel\": {\"align\": \"left\"}, \"hovermode\": \"closest\", \"mapbox\": {\"style\": \"light\"}, \"paper_bgcolor\": \"white\", \"plot_bgcolor\": \"#E5ECF6\", \"polar\": {\"angularaxis\": {\"gridcolor\": \"white\", \"linecolor\": \"white\", \"ticks\": \"\"}, \"bgcolor\": \"#E5ECF6\", \"radialaxis\": {\"gridcolor\": \"white\", \"linecolor\": \"white\", \"ticks\": \"\"}}, \"scene\": {\"xaxis\": {\"backgroundcolor\": \"#E5ECF6\", \"gridcolor\": \"white\", \"gridwidth\": 2, \"linecolor\": \"white\", \"showbackground\": true, \"ticks\": \"\", \"zerolinecolor\": \"white\"}, \"yaxis\": {\"backgroundcolor\": \"#E5ECF6\", \"gridcolor\": \"white\", \"gridwidth\": 2, \"linecolor\": \"white\", \"showbackground\": true, \"ticks\": \"\", \"zerolinecolor\": \"white\"}, \"zaxis\": {\"backgroundcolor\": \"#E5ECF6\", \"gridcolor\": \"white\", \"gridwidth\": 2, \"linecolor\": \"white\", \"showbackground\": true, \"ticks\": \"\", \"zerolinecolor\": \"white\"}}, \"shapedefaults\": {\"line\": {\"color\": \"#2a3f5f\"}}, \"ternary\": {\"aaxis\": {\"gridcolor\": \"white\", \"linecolor\": \"white\", \"ticks\": \"\"}, \"baxis\": {\"gridcolor\": \"white\", \"linecolor\": \"white\", \"ticks\": \"\"}, \"bgcolor\": \"#E5ECF6\", \"caxis\": {\"gridcolor\": \"white\", \"linecolor\": \"white\", \"ticks\": \"\"}}, \"title\": {\"x\": 0.05}, \"xaxis\": {\"automargin\": true, \"gridcolor\": \"white\", \"linecolor\": \"white\", \"ticks\": \"\", \"title\": {\"standoff\": 15}, \"zerolinecolor\": \"white\", \"zerolinewidth\": 2}, \"yaxis\": {\"automargin\": true, \"gridcolor\": \"white\", \"linecolor\": \"white\", \"ticks\": \"\", \"title\": {\"standoff\": 15}, \"zerolinecolor\": \"white\", \"zerolinewidth\": 2}}}},\n",
              "                        {\"responsive\": true}\n",
              "                    ).then(function(){\n",
              "                            \n",
              "var gd = document.getElementById('93a1fdfb-cc64-4267-9ea9-a97d555c2b6a');\n",
              "var x = new MutationObserver(function (mutations, observer) {{\n",
              "        var display = window.getComputedStyle(gd).display;\n",
              "        if (!display || display === 'none') {{\n",
              "            console.log([gd, 'removed!']);\n",
              "            Plotly.purge(gd);\n",
              "            observer.disconnect();\n",
              "        }}\n",
              "}});\n",
              "\n",
              "// Listen for the removal of the full notebook cells\n",
              "var notebookContainer = gd.closest('#notebook-container');\n",
              "if (notebookContainer) {{\n",
              "    x.observe(notebookContainer, {childList: true});\n",
              "}}\n",
              "\n",
              "// Listen for the clearing of the current output cell\n",
              "var outputEl = gd.closest('.output');\n",
              "if (outputEl) {{\n",
              "    x.observe(outputEl, {childList: true});\n",
              "}}\n",
              "\n",
              "                        })\n",
              "                };\n",
              "                \n",
              "            </script>\n",
              "        </div>\n",
              "</body>\n",
              "</html>"
            ]
          },
          "metadata": {
            "tags": []
          }
        }
      ]
    },
    {
      "cell_type": "markdown",
      "metadata": {
        "id": "LhkdBYy86-kf",
        "colab_type": "text"
      },
      "source": [
        "And increase the number of samples taken for X."
      ]
    },
    {
      "cell_type": "code",
      "metadata": {
        "id": "6LSH34so7B9a",
        "colab_type": "code",
        "colab": {
          "base_uri": "https://localhost:8080/",
          "height": 542
        },
        "outputId": "a78b67bb-8c52-46f3-a66d-7010b06b609f"
      },
      "source": [
        "\n",
        "n = 100\n",
        "X = [randint(0,10) for x in range(n)]\n",
        "fig.add_histogram(x=X, name=f\"X for {n}\", histnorm=\"probability density\")\n"
      ],
      "execution_count": 35,
      "outputs": [
        {
          "output_type": "display_data",
          "data": {
            "text/html": [
              "<html>\n",
              "<head><meta charset=\"utf-8\" /></head>\n",
              "<body>\n",
              "    <div>\n",
              "            <script src=\"https://cdnjs.cloudflare.com/ajax/libs/mathjax/2.7.5/MathJax.js?config=TeX-AMS-MML_SVG\"></script><script type=\"text/javascript\">if (window.MathJax) {MathJax.Hub.Config({SVG: {font: \"STIX-Web\"}});}</script>\n",
              "                <script type=\"text/javascript\">window.PlotlyConfig = {MathJaxConfig: 'local'};</script>\n",
              "        <script src=\"https://cdn.plot.ly/plotly-latest.min.js\"></script>    \n",
              "            <div id=\"eaf99baf-52ee-4ded-8177-513bc5c09583\" class=\"plotly-graph-div\" style=\"height:525px; width:100%;\"></div>\n",
              "            <script type=\"text/javascript\">\n",
              "                \n",
              "                    window.PLOTLYENV=window.PLOTLYENV || {};\n",
              "                    \n",
              "                if (document.getElementById(\"eaf99baf-52ee-4ded-8177-513bc5c09583\")) {\n",
              "                    Plotly.newPlot(\n",
              "                        'eaf99baf-52ee-4ded-8177-513bc5c09583',\n",
              "                        [{\"histnorm\": \"probability density\", \"name\": \"X for 1000\", \"type\": \"histogram\", \"x\": [8, 1, 7, 9, 8, 4, 9, 5, 9, 2, 4, 6, 8, 9, 2, 1, 10, 9, 4, 2, 8, 0, 1, 4, 2, 3, 10, 2, 3, 9, 1, 10, 8, 2, 10, 1, 9, 1, 2, 6, 9, 5, 0, 2, 10, 10, 5, 3, 1, 7, 4, 9, 1, 5, 5, 1, 8, 7, 8, 1, 7, 4, 3, 8, 1, 1, 6, 1, 9, 5, 0, 7, 3, 6, 5, 2, 5, 3, 0, 7, 4, 6, 9, 10, 2, 0, 3, 4, 0, 3, 9, 3, 7, 5, 0, 2, 8, 0, 5, 0, 4, 2, 7, 8, 7, 3, 10, 10, 10, 7, 0, 10, 1, 6, 6, 2, 2, 9, 6, 6, 7, 8, 8, 6, 8, 5, 7, 5, 10, 1, 1, 6, 3, 2, 6, 0, 10, 5, 2, 6, 0, 6, 7, 10, 3, 0, 4, 0, 7, 6, 7, 8, 0, 4, 5, 4, 4, 6, 3, 3, 0, 3, 3, 8, 5, 10, 3, 3, 6, 7, 10, 2, 10, 3, 4, 3, 8, 9, 3, 3, 5, 2, 0, 8, 4, 6, 3, 7, 3, 4, 4, 0, 2, 7, 2, 8, 2, 5, 9, 0, 4, 2, 6, 10, 10, 2, 7, 7, 2, 8, 7, 10, 2, 4, 6, 7, 8, 10, 3, 2, 6, 4, 0, 6, 6, 0, 7, 2, 8, 3, 9, 2, 6, 5, 7, 6, 10, 9, 1, 7, 4, 10, 5, 6, 9, 9, 3, 5, 7, 2, 6, 2, 9, 4, 5, 9, 4, 2, 9, 9, 5, 3, 0, 8, 1, 2, 0, 1, 6, 5, 6, 10, 6, 5, 10, 5, 4, 1, 1, 4, 4, 6, 10, 3, 0, 2, 10, 6, 7, 2, 4, 6, 7, 6, 7, 1, 2, 4, 3, 10, 8, 4, 3, 1, 6, 2, 5, 6, 9, 9, 9, 4, 1, 3, 1, 9, 3, 4, 7, 3, 9, 4, 10, 7, 8, 2, 7, 3, 5, 1, 3, 4, 3, 5, 6, 2, 5, 1, 5, 8, 3, 9, 3, 1, 6, 6, 6, 8, 3, 1, 9, 9, 7, 9, 4, 9, 7, 9, 5, 10, 5, 8, 3, 10, 1, 8, 10, 3, 7, 4, 1, 2, 9, 10, 4, 5, 7, 8, 2, 1, 3, 6, 10, 6, 10, 7, 3, 8, 4, 2, 2, 10, 6, 2, 1, 3, 0, 3, 5, 10, 9, 8, 2, 4, 1, 2, 5, 3, 4, 10, 6, 6, 4, 8, 1, 3, 6, 7, 1, 3, 9, 10, 7, 9, 8, 5, 1, 1, 0, 0, 0, 5, 9, 5, 8, 0, 10, 0, 3, 3, 6, 5, 4, 5, 1, 1, 7, 6, 10, 3, 1, 2, 9, 1, 7, 9, 3, 3, 8, 3, 3, 9, 2, 2, 9, 1, 2, 9, 9, 5, 0, 8, 8, 1, 3, 7, 9, 0, 6, 1, 1, 0, 5, 2, 8, 7, 6, 9, 2, 7, 4, 5, 2, 2, 3, 7, 6, 4, 4, 5, 7, 2, 4, 10, 4, 0, 1, 9, 6, 7, 10, 4, 0, 3, 10, 10, 6, 4, 7, 4, 8, 8, 2, 3, 7, 7, 3, 0, 0, 6, 2, 8, 4, 3, 5, 9, 0, 7, 10, 3, 9, 3, 8, 7, 7, 5, 2, 6, 7, 9, 4, 9, 8, 9, 9, 10, 1, 6, 3, 4, 2, 1, 2, 0, 6, 2, 9, 1, 2, 10, 10, 7, 3, 0, 10, 5, 5, 10, 8, 8, 6, 3, 10, 2, 1, 9, 2, 3, 10, 10, 8, 2, 6, 1, 3, 6, 4, 1, 8, 5, 9, 8, 5, 3, 8, 6, 6, 0, 1, 4, 1, 2, 10, 10, 2, 3, 10, 7, 0, 2, 5, 2, 4, 3, 3, 7, 7, 2, 7, 4, 1, 6, 10, 3, 0, 5, 0, 9, 9, 8, 3, 6, 6, 6, 7, 5, 0, 10, 3, 4, 0, 4, 0, 0, 6, 8, 7, 1, 4, 6, 9, 1, 4, 3, 5, 10, 0, 6, 3, 7, 1, 2, 2, 6, 8, 0, 2, 10, 1, 4, 1, 4, 7, 3, 1, 1, 9, 8, 7, 4, 7, 5, 10, 5, 3, 2, 7, 6, 9, 8, 3, 10, 3, 8, 7, 4, 2, 10, 10, 3, 5, 0, 3, 10, 6, 1, 5, 4, 10, 2, 7, 9, 0, 0, 0, 9, 0, 7, 10, 2, 10, 5, 1, 9, 9, 4, 5, 4, 10, 4, 0, 3, 4, 2, 5, 4, 1, 3, 5, 3, 4, 3, 7, 7, 9, 10, 8, 9, 8, 10, 9, 0, 10, 2, 7, 9, 2, 7, 5, 6, 9, 5, 8, 9, 2, 9, 1, 5, 2, 8, 0, 10, 0, 8, 5, 2, 2, 0, 3, 1, 8, 4, 0, 7, 9, 10, 9, 8, 5, 9, 7, 7, 2, 5, 0, 5, 3, 3, 9, 9, 0, 5, 5, 7, 4, 7, 9, 7, 0, 1, 0, 0, 3, 7, 5, 0, 3, 4, 5, 6, 7, 6, 4, 0, 0, 1, 9, 5, 5, 2, 7, 9, 2, 6, 10, 7, 2, 1, 2, 0, 6, 6, 1, 3, 3, 3, 5, 3, 9, 0, 2, 3, 1, 2, 10, 2, 8, 9, 8, 9, 6, 10, 9, 1, 5, 0, 7, 10, 0, 3, 8, 6, 6, 5, 0, 1, 5, 10, 0, 2, 1, 10, 5, 1, 4, 3, 3, 9, 8, 6, 4, 4, 4, 3, 3, 10, 7, 1, 1, 0, 7, 0, 1, 8, 8, 4, 1, 10, 2, 6, 0, 9, 4, 4, 2, 6, 6, 6, 8, 5, 7, 3, 7, 4, 8, 7, 4, 5, 7, 10, 9, 6, 8, 3, 6, 2, 7, 2, 5, 5, 8, 2, 8, 9, 3, 2, 5, 3, 8, 2, 6, 5, 7, 4, 9, 0, 5, 6, 1, 3, 7, 10, 8, 7, 0, 6, 2, 0, 0, 8, 5, 4, 6, 5, 5, 1, 2, 6, 10, 2, 1, 7, 1, 10, 10, 3, 10, 9, 2, 0]}, {\"histnorm\": \"probability density\", \"name\": \"X for 100\", \"type\": \"histogram\", \"x\": [7, 8, 4, 8, 5, 1, 6, 0, 4, 0, 0, 8, 5, 1, 3, 4, 3, 0, 10, 8, 5, 10, 6, 7, 10, 4, 9, 3, 5, 6, 3, 3, 1, 3, 3, 1, 0, 9, 10, 1, 8, 10, 9, 7, 0, 4, 5, 9, 8, 0, 6, 3, 6, 10, 6, 1, 5, 6, 7, 8, 3, 8, 4, 8, 4, 9, 3, 4, 9, 0, 8, 2, 10, 8, 1, 5, 9, 2, 4, 10, 6, 7, 6, 3, 2, 10, 6, 0, 6, 8, 3, 7, 9, 3, 9, 9, 10, 3, 0, 4]}],\n",
              "                        {\"template\": {\"data\": {\"bar\": [{\"error_x\": {\"color\": \"#2a3f5f\"}, \"error_y\": {\"color\": \"#2a3f5f\"}, \"marker\": {\"line\": {\"color\": \"#E5ECF6\", \"width\": 0.5}}, \"type\": \"bar\"}], \"barpolar\": [{\"marker\": {\"line\": {\"color\": \"#E5ECF6\", \"width\": 0.5}}, \"type\": \"barpolar\"}], \"carpet\": [{\"aaxis\": {\"endlinecolor\": \"#2a3f5f\", \"gridcolor\": \"white\", \"linecolor\": \"white\", \"minorgridcolor\": \"white\", \"startlinecolor\": \"#2a3f5f\"}, \"baxis\": {\"endlinecolor\": \"#2a3f5f\", \"gridcolor\": \"white\", \"linecolor\": \"white\", \"minorgridcolor\": \"white\", \"startlinecolor\": \"#2a3f5f\"}, \"type\": \"carpet\"}], \"choropleth\": [{\"colorbar\": {\"outlinewidth\": 0, \"ticks\": \"\"}, \"type\": \"choropleth\"}], \"contour\": [{\"colorbar\": {\"outlinewidth\": 0, \"ticks\": \"\"}, \"colorscale\": [[0.0, \"#0d0887\"], [0.1111111111111111, \"#46039f\"], [0.2222222222222222, \"#7201a8\"], [0.3333333333333333, \"#9c179e\"], [0.4444444444444444, \"#bd3786\"], [0.5555555555555556, \"#d8576b\"], [0.6666666666666666, \"#ed7953\"], [0.7777777777777778, \"#fb9f3a\"], [0.8888888888888888, \"#fdca26\"], [1.0, \"#f0f921\"]], \"type\": \"contour\"}], \"contourcarpet\": [{\"colorbar\": {\"outlinewidth\": 0, \"ticks\": \"\"}, \"type\": \"contourcarpet\"}], \"heatmap\": [{\"colorbar\": {\"outlinewidth\": 0, \"ticks\": \"\"}, \"colorscale\": [[0.0, \"#0d0887\"], [0.1111111111111111, \"#46039f\"], [0.2222222222222222, \"#7201a8\"], [0.3333333333333333, \"#9c179e\"], [0.4444444444444444, \"#bd3786\"], [0.5555555555555556, \"#d8576b\"], [0.6666666666666666, \"#ed7953\"], [0.7777777777777778, \"#fb9f3a\"], [0.8888888888888888, \"#fdca26\"], [1.0, \"#f0f921\"]], \"type\": \"heatmap\"}], \"heatmapgl\": [{\"colorbar\": {\"outlinewidth\": 0, \"ticks\": \"\"}, \"colorscale\": [[0.0, \"#0d0887\"], [0.1111111111111111, \"#46039f\"], [0.2222222222222222, \"#7201a8\"], [0.3333333333333333, \"#9c179e\"], [0.4444444444444444, \"#bd3786\"], [0.5555555555555556, \"#d8576b\"], [0.6666666666666666, \"#ed7953\"], [0.7777777777777778, \"#fb9f3a\"], [0.8888888888888888, \"#fdca26\"], [1.0, \"#f0f921\"]], \"type\": \"heatmapgl\"}], \"histogram\": [{\"marker\": {\"colorbar\": {\"outlinewidth\": 0, \"ticks\": \"\"}}, \"type\": \"histogram\"}], \"histogram2d\": [{\"colorbar\": {\"outlinewidth\": 0, \"ticks\": \"\"}, \"colorscale\": [[0.0, \"#0d0887\"], [0.1111111111111111, \"#46039f\"], [0.2222222222222222, \"#7201a8\"], [0.3333333333333333, \"#9c179e\"], [0.4444444444444444, \"#bd3786\"], [0.5555555555555556, \"#d8576b\"], [0.6666666666666666, \"#ed7953\"], [0.7777777777777778, \"#fb9f3a\"], [0.8888888888888888, \"#fdca26\"], [1.0, \"#f0f921\"]], \"type\": \"histogram2d\"}], \"histogram2dcontour\": [{\"colorbar\": {\"outlinewidth\": 0, \"ticks\": \"\"}, \"colorscale\": [[0.0, \"#0d0887\"], [0.1111111111111111, \"#46039f\"], [0.2222222222222222, \"#7201a8\"], [0.3333333333333333, \"#9c179e\"], [0.4444444444444444, \"#bd3786\"], [0.5555555555555556, \"#d8576b\"], [0.6666666666666666, \"#ed7953\"], [0.7777777777777778, \"#fb9f3a\"], [0.8888888888888888, \"#fdca26\"], [1.0, \"#f0f921\"]], \"type\": \"histogram2dcontour\"}], \"mesh3d\": [{\"colorbar\": {\"outlinewidth\": 0, \"ticks\": \"\"}, \"type\": \"mesh3d\"}], \"parcoords\": [{\"line\": {\"colorbar\": {\"outlinewidth\": 0, \"ticks\": \"\"}}, \"type\": \"parcoords\"}], \"pie\": [{\"automargin\": true, \"type\": \"pie\"}], \"scatter\": [{\"marker\": {\"colorbar\": {\"outlinewidth\": 0, \"ticks\": \"\"}}, \"type\": \"scatter\"}], \"scatter3d\": [{\"line\": {\"colorbar\": {\"outlinewidth\": 0, \"ticks\": \"\"}}, \"marker\": {\"colorbar\": {\"outlinewidth\": 0, \"ticks\": \"\"}}, \"type\": \"scatter3d\"}], \"scattercarpet\": [{\"marker\": {\"colorbar\": {\"outlinewidth\": 0, \"ticks\": \"\"}}, \"type\": \"scattercarpet\"}], \"scattergeo\": [{\"marker\": {\"colorbar\": {\"outlinewidth\": 0, \"ticks\": \"\"}}, \"type\": \"scattergeo\"}], \"scattergl\": [{\"marker\": {\"colorbar\": {\"outlinewidth\": 0, \"ticks\": \"\"}}, \"type\": \"scattergl\"}], \"scattermapbox\": [{\"marker\": {\"colorbar\": {\"outlinewidth\": 0, \"ticks\": \"\"}}, \"type\": \"scattermapbox\"}], \"scatterpolar\": [{\"marker\": {\"colorbar\": {\"outlinewidth\": 0, \"ticks\": \"\"}}, \"type\": \"scatterpolar\"}], \"scatterpolargl\": [{\"marker\": {\"colorbar\": {\"outlinewidth\": 0, \"ticks\": \"\"}}, \"type\": \"scatterpolargl\"}], \"scatterternary\": [{\"marker\": {\"colorbar\": {\"outlinewidth\": 0, \"ticks\": \"\"}}, \"type\": \"scatterternary\"}], \"surface\": [{\"colorbar\": {\"outlinewidth\": 0, \"ticks\": \"\"}, \"colorscale\": [[0.0, \"#0d0887\"], [0.1111111111111111, \"#46039f\"], [0.2222222222222222, \"#7201a8\"], [0.3333333333333333, \"#9c179e\"], [0.4444444444444444, \"#bd3786\"], [0.5555555555555556, \"#d8576b\"], [0.6666666666666666, \"#ed7953\"], [0.7777777777777778, \"#fb9f3a\"], [0.8888888888888888, \"#fdca26\"], [1.0, \"#f0f921\"]], \"type\": \"surface\"}], \"table\": [{\"cells\": {\"fill\": {\"color\": \"#EBF0F8\"}, \"line\": {\"color\": \"white\"}}, \"header\": {\"fill\": {\"color\": \"#C8D4E3\"}, \"line\": {\"color\": \"white\"}}, \"type\": \"table\"}]}, \"layout\": {\"annotationdefaults\": {\"arrowcolor\": \"#2a3f5f\", \"arrowhead\": 0, \"arrowwidth\": 1}, \"coloraxis\": {\"colorbar\": {\"outlinewidth\": 0, \"ticks\": \"\"}}, \"colorscale\": {\"diverging\": [[0, \"#8e0152\"], [0.1, \"#c51b7d\"], [0.2, \"#de77ae\"], [0.3, \"#f1b6da\"], [0.4, \"#fde0ef\"], [0.5, \"#f7f7f7\"], [0.6, \"#e6f5d0\"], [0.7, \"#b8e186\"], [0.8, \"#7fbc41\"], [0.9, \"#4d9221\"], [1, \"#276419\"]], \"sequential\": [[0.0, \"#0d0887\"], [0.1111111111111111, \"#46039f\"], [0.2222222222222222, \"#7201a8\"], [0.3333333333333333, \"#9c179e\"], [0.4444444444444444, \"#bd3786\"], [0.5555555555555556, \"#d8576b\"], [0.6666666666666666, \"#ed7953\"], [0.7777777777777778, \"#fb9f3a\"], [0.8888888888888888, \"#fdca26\"], [1.0, \"#f0f921\"]], \"sequentialminus\": [[0.0, \"#0d0887\"], [0.1111111111111111, \"#46039f\"], [0.2222222222222222, \"#7201a8\"], [0.3333333333333333, \"#9c179e\"], [0.4444444444444444, \"#bd3786\"], [0.5555555555555556, \"#d8576b\"], [0.6666666666666666, \"#ed7953\"], [0.7777777777777778, \"#fb9f3a\"], [0.8888888888888888, \"#fdca26\"], [1.0, \"#f0f921\"]]}, \"colorway\": [\"#636efa\", \"#EF553B\", \"#00cc96\", \"#ab63fa\", \"#FFA15A\", \"#19d3f3\", \"#FF6692\", \"#B6E880\", \"#FF97FF\", \"#FECB52\"], \"font\": {\"color\": \"#2a3f5f\"}, \"geo\": {\"bgcolor\": \"white\", \"lakecolor\": \"white\", \"landcolor\": \"#E5ECF6\", \"showlakes\": true, \"showland\": true, \"subunitcolor\": \"white\"}, \"hoverlabel\": {\"align\": \"left\"}, \"hovermode\": \"closest\", \"mapbox\": {\"style\": \"light\"}, \"paper_bgcolor\": \"white\", \"plot_bgcolor\": \"#E5ECF6\", \"polar\": {\"angularaxis\": {\"gridcolor\": \"white\", \"linecolor\": \"white\", \"ticks\": \"\"}, \"bgcolor\": \"#E5ECF6\", \"radialaxis\": {\"gridcolor\": \"white\", \"linecolor\": \"white\", \"ticks\": \"\"}}, \"scene\": {\"xaxis\": {\"backgroundcolor\": \"#E5ECF6\", \"gridcolor\": \"white\", \"gridwidth\": 2, \"linecolor\": \"white\", \"showbackground\": true, \"ticks\": \"\", \"zerolinecolor\": \"white\"}, \"yaxis\": {\"backgroundcolor\": \"#E5ECF6\", \"gridcolor\": \"white\", \"gridwidth\": 2, \"linecolor\": \"white\", \"showbackground\": true, \"ticks\": \"\", \"zerolinecolor\": \"white\"}, \"zaxis\": {\"backgroundcolor\": \"#E5ECF6\", \"gridcolor\": \"white\", \"gridwidth\": 2, \"linecolor\": \"white\", \"showbackground\": true, \"ticks\": \"\", \"zerolinecolor\": \"white\"}}, \"shapedefaults\": {\"line\": {\"color\": \"#2a3f5f\"}}, \"ternary\": {\"aaxis\": {\"gridcolor\": \"white\", \"linecolor\": \"white\", \"ticks\": \"\"}, \"baxis\": {\"gridcolor\": \"white\", \"linecolor\": \"white\", \"ticks\": \"\"}, \"bgcolor\": \"#E5ECF6\", \"caxis\": {\"gridcolor\": \"white\", \"linecolor\": \"white\", \"ticks\": \"\"}}, \"title\": {\"x\": 0.05}, \"xaxis\": {\"automargin\": true, \"gridcolor\": \"white\", \"linecolor\": \"white\", \"ticks\": \"\", \"title\": {\"standoff\": 15}, \"zerolinecolor\": \"white\", \"zerolinewidth\": 2}, \"yaxis\": {\"automargin\": true, \"gridcolor\": \"white\", \"linecolor\": \"white\", \"ticks\": \"\", \"title\": {\"standoff\": 15}, \"zerolinecolor\": \"white\", \"zerolinewidth\": 2}}}},\n",
              "                        {\"responsive\": true}\n",
              "                    ).then(function(){\n",
              "                            \n",
              "var gd = document.getElementById('eaf99baf-52ee-4ded-8177-513bc5c09583');\n",
              "var x = new MutationObserver(function (mutations, observer) {{\n",
              "        var display = window.getComputedStyle(gd).display;\n",
              "        if (!display || display === 'none') {{\n",
              "            console.log([gd, 'removed!']);\n",
              "            Plotly.purge(gd);\n",
              "            observer.disconnect();\n",
              "        }}\n",
              "}});\n",
              "\n",
              "// Listen for the removal of the full notebook cells\n",
              "var notebookContainer = gd.closest('#notebook-container');\n",
              "if (notebookContainer) {{\n",
              "    x.observe(notebookContainer, {childList: true});\n",
              "}}\n",
              "\n",
              "// Listen for the clearing of the current output cell\n",
              "var outputEl = gd.closest('.output');\n",
              "if (outputEl) {{\n",
              "    x.observe(outputEl, {childList: true});\n",
              "}}\n",
              "\n",
              "                        })\n",
              "                };\n",
              "                \n",
              "            </script>\n",
              "        </div>\n",
              "</body>\n",
              "</html>"
            ]
          },
          "metadata": {
            "tags": []
          }
        }
      ]
    },
    {
      "cell_type": "code",
      "metadata": {
        "id": "GehFW3gK9g0q",
        "colab_type": "code",
        "colab": {
          "base_uri": "https://localhost:8080/",
          "height": 542
        },
        "outputId": "814f8bde-6688-488f-d8ed-68ae5d5ef437"
      },
      "source": [
        "n = 1000\n",
        "X = [randint(0,10) for x in range(n)]\n",
        "fig.add_histogram(x=X, name=f\"X for {n}\", histnorm=\"probability density\")"
      ],
      "execution_count": 36,
      "outputs": [
        {
          "output_type": "display_data",
          "data": {
            "text/html": [
              "<html>\n",
              "<head><meta charset=\"utf-8\" /></head>\n",
              "<body>\n",
              "    <div>\n",
              "            <script src=\"https://cdnjs.cloudflare.com/ajax/libs/mathjax/2.7.5/MathJax.js?config=TeX-AMS-MML_SVG\"></script><script type=\"text/javascript\">if (window.MathJax) {MathJax.Hub.Config({SVG: {font: \"STIX-Web\"}});}</script>\n",
              "                <script type=\"text/javascript\">window.PlotlyConfig = {MathJaxConfig: 'local'};</script>\n",
              "        <script src=\"https://cdn.plot.ly/plotly-latest.min.js\"></script>    \n",
              "            <div id=\"a026186f-dda8-4ac2-8153-f69cb3e2ed56\" class=\"plotly-graph-div\" style=\"height:525px; width:100%;\"></div>\n",
              "            <script type=\"text/javascript\">\n",
              "                \n",
              "                    window.PLOTLYENV=window.PLOTLYENV || {};\n",
              "                    \n",
              "                if (document.getElementById(\"a026186f-dda8-4ac2-8153-f69cb3e2ed56\")) {\n",
              "                    Plotly.newPlot(\n",
              "                        'a026186f-dda8-4ac2-8153-f69cb3e2ed56',\n",
              "                        [{\"histnorm\": \"probability density\", \"name\": \"X for 1000\", \"type\": \"histogram\", \"x\": [8, 1, 7, 9, 8, 4, 9, 5, 9, 2, 4, 6, 8, 9, 2, 1, 10, 9, 4, 2, 8, 0, 1, 4, 2, 3, 10, 2, 3, 9, 1, 10, 8, 2, 10, 1, 9, 1, 2, 6, 9, 5, 0, 2, 10, 10, 5, 3, 1, 7, 4, 9, 1, 5, 5, 1, 8, 7, 8, 1, 7, 4, 3, 8, 1, 1, 6, 1, 9, 5, 0, 7, 3, 6, 5, 2, 5, 3, 0, 7, 4, 6, 9, 10, 2, 0, 3, 4, 0, 3, 9, 3, 7, 5, 0, 2, 8, 0, 5, 0, 4, 2, 7, 8, 7, 3, 10, 10, 10, 7, 0, 10, 1, 6, 6, 2, 2, 9, 6, 6, 7, 8, 8, 6, 8, 5, 7, 5, 10, 1, 1, 6, 3, 2, 6, 0, 10, 5, 2, 6, 0, 6, 7, 10, 3, 0, 4, 0, 7, 6, 7, 8, 0, 4, 5, 4, 4, 6, 3, 3, 0, 3, 3, 8, 5, 10, 3, 3, 6, 7, 10, 2, 10, 3, 4, 3, 8, 9, 3, 3, 5, 2, 0, 8, 4, 6, 3, 7, 3, 4, 4, 0, 2, 7, 2, 8, 2, 5, 9, 0, 4, 2, 6, 10, 10, 2, 7, 7, 2, 8, 7, 10, 2, 4, 6, 7, 8, 10, 3, 2, 6, 4, 0, 6, 6, 0, 7, 2, 8, 3, 9, 2, 6, 5, 7, 6, 10, 9, 1, 7, 4, 10, 5, 6, 9, 9, 3, 5, 7, 2, 6, 2, 9, 4, 5, 9, 4, 2, 9, 9, 5, 3, 0, 8, 1, 2, 0, 1, 6, 5, 6, 10, 6, 5, 10, 5, 4, 1, 1, 4, 4, 6, 10, 3, 0, 2, 10, 6, 7, 2, 4, 6, 7, 6, 7, 1, 2, 4, 3, 10, 8, 4, 3, 1, 6, 2, 5, 6, 9, 9, 9, 4, 1, 3, 1, 9, 3, 4, 7, 3, 9, 4, 10, 7, 8, 2, 7, 3, 5, 1, 3, 4, 3, 5, 6, 2, 5, 1, 5, 8, 3, 9, 3, 1, 6, 6, 6, 8, 3, 1, 9, 9, 7, 9, 4, 9, 7, 9, 5, 10, 5, 8, 3, 10, 1, 8, 10, 3, 7, 4, 1, 2, 9, 10, 4, 5, 7, 8, 2, 1, 3, 6, 10, 6, 10, 7, 3, 8, 4, 2, 2, 10, 6, 2, 1, 3, 0, 3, 5, 10, 9, 8, 2, 4, 1, 2, 5, 3, 4, 10, 6, 6, 4, 8, 1, 3, 6, 7, 1, 3, 9, 10, 7, 9, 8, 5, 1, 1, 0, 0, 0, 5, 9, 5, 8, 0, 10, 0, 3, 3, 6, 5, 4, 5, 1, 1, 7, 6, 10, 3, 1, 2, 9, 1, 7, 9, 3, 3, 8, 3, 3, 9, 2, 2, 9, 1, 2, 9, 9, 5, 0, 8, 8, 1, 3, 7, 9, 0, 6, 1, 1, 0, 5, 2, 8, 7, 6, 9, 2, 7, 4, 5, 2, 2, 3, 7, 6, 4, 4, 5, 7, 2, 4, 10, 4, 0, 1, 9, 6, 7, 10, 4, 0, 3, 10, 10, 6, 4, 7, 4, 8, 8, 2, 3, 7, 7, 3, 0, 0, 6, 2, 8, 4, 3, 5, 9, 0, 7, 10, 3, 9, 3, 8, 7, 7, 5, 2, 6, 7, 9, 4, 9, 8, 9, 9, 10, 1, 6, 3, 4, 2, 1, 2, 0, 6, 2, 9, 1, 2, 10, 10, 7, 3, 0, 10, 5, 5, 10, 8, 8, 6, 3, 10, 2, 1, 9, 2, 3, 10, 10, 8, 2, 6, 1, 3, 6, 4, 1, 8, 5, 9, 8, 5, 3, 8, 6, 6, 0, 1, 4, 1, 2, 10, 10, 2, 3, 10, 7, 0, 2, 5, 2, 4, 3, 3, 7, 7, 2, 7, 4, 1, 6, 10, 3, 0, 5, 0, 9, 9, 8, 3, 6, 6, 6, 7, 5, 0, 10, 3, 4, 0, 4, 0, 0, 6, 8, 7, 1, 4, 6, 9, 1, 4, 3, 5, 10, 0, 6, 3, 7, 1, 2, 2, 6, 8, 0, 2, 10, 1, 4, 1, 4, 7, 3, 1, 1, 9, 8, 7, 4, 7, 5, 10, 5, 3, 2, 7, 6, 9, 8, 3, 10, 3, 8, 7, 4, 2, 10, 10, 3, 5, 0, 3, 10, 6, 1, 5, 4, 10, 2, 7, 9, 0, 0, 0, 9, 0, 7, 10, 2, 10, 5, 1, 9, 9, 4, 5, 4, 10, 4, 0, 3, 4, 2, 5, 4, 1, 3, 5, 3, 4, 3, 7, 7, 9, 10, 8, 9, 8, 10, 9, 0, 10, 2, 7, 9, 2, 7, 5, 6, 9, 5, 8, 9, 2, 9, 1, 5, 2, 8, 0, 10, 0, 8, 5, 2, 2, 0, 3, 1, 8, 4, 0, 7, 9, 10, 9, 8, 5, 9, 7, 7, 2, 5, 0, 5, 3, 3, 9, 9, 0, 5, 5, 7, 4, 7, 9, 7, 0, 1, 0, 0, 3, 7, 5, 0, 3, 4, 5, 6, 7, 6, 4, 0, 0, 1, 9, 5, 5, 2, 7, 9, 2, 6, 10, 7, 2, 1, 2, 0, 6, 6, 1, 3, 3, 3, 5, 3, 9, 0, 2, 3, 1, 2, 10, 2, 8, 9, 8, 9, 6, 10, 9, 1, 5, 0, 7, 10, 0, 3, 8, 6, 6, 5, 0, 1, 5, 10, 0, 2, 1, 10, 5, 1, 4, 3, 3, 9, 8, 6, 4, 4, 4, 3, 3, 10, 7, 1, 1, 0, 7, 0, 1, 8, 8, 4, 1, 10, 2, 6, 0, 9, 4, 4, 2, 6, 6, 6, 8, 5, 7, 3, 7, 4, 8, 7, 4, 5, 7, 10, 9, 6, 8, 3, 6, 2, 7, 2, 5, 5, 8, 2, 8, 9, 3, 2, 5, 3, 8, 2, 6, 5, 7, 4, 9, 0, 5, 6, 1, 3, 7, 10, 8, 7, 0, 6, 2, 0, 0, 8, 5, 4, 6, 5, 5, 1, 2, 6, 10, 2, 1, 7, 1, 10, 10, 3, 10, 9, 2, 0]}, {\"histnorm\": \"probability density\", \"name\": \"X for 100\", \"type\": \"histogram\", \"x\": [7, 8, 4, 8, 5, 1, 6, 0, 4, 0, 0, 8, 5, 1, 3, 4, 3, 0, 10, 8, 5, 10, 6, 7, 10, 4, 9, 3, 5, 6, 3, 3, 1, 3, 3, 1, 0, 9, 10, 1, 8, 10, 9, 7, 0, 4, 5, 9, 8, 0, 6, 3, 6, 10, 6, 1, 5, 6, 7, 8, 3, 8, 4, 8, 4, 9, 3, 4, 9, 0, 8, 2, 10, 8, 1, 5, 9, 2, 4, 10, 6, 7, 6, 3, 2, 10, 6, 0, 6, 8, 3, 7, 9, 3, 9, 9, 10, 3, 0, 4]}, {\"histnorm\": \"probability density\", \"name\": \"X for 1000\", \"type\": \"histogram\", \"x\": [2, 8, 2, 1, 2, 3, 8, 5, 2, 8, 1, 10, 7, 3, 2, 4, 7, 5, 7, 7, 6, 1, 9, 0, 2, 10, 4, 1, 4, 3, 1, 4, 0, 0, 9, 10, 5, 1, 7, 1, 8, 0, 10, 7, 8, 5, 8, 2, 3, 7, 1, 8, 1, 0, 10, 8, 0, 6, 10, 7, 9, 8, 0, 0, 9, 2, 0, 9, 6, 5, 9, 10, 0, 10, 4, 10, 5, 8, 6, 3, 10, 6, 9, 7, 1, 8, 4, 8, 7, 6, 1, 0, 4, 0, 1, 7, 0, 3, 3, 7, 2, 2, 4, 2, 10, 5, 7, 1, 3, 6, 9, 10, 7, 5, 2, 3, 3, 4, 2, 0, 10, 2, 9, 10, 5, 3, 1, 10, 4, 8, 10, 6, 5, 8, 0, 3, 5, 1, 6, 2, 3, 5, 0, 1, 0, 1, 4, 7, 9, 0, 0, 5, 1, 1, 2, 5, 9, 5, 10, 4, 6, 1, 10, 1, 10, 6, 2, 8, 2, 4, 5, 8, 4, 5, 4, 8, 8, 1, 6, 4, 1, 3, 6, 3, 10, 9, 6, 9, 4, 1, 3, 2, 3, 2, 9, 4, 4, 4, 0, 8, 10, 9, 4, 7, 4, 2, 6, 5, 7, 6, 0, 5, 4, 5, 8, 9, 5, 2, 5, 1, 10, 2, 4, 1, 1, 8, 0, 10, 4, 8, 2, 4, 7, 10, 4, 2, 10, 6, 10, 9, 5, 8, 3, 1, 0, 10, 6, 3, 6, 4, 0, 0, 1, 3, 5, 3, 6, 4, 9, 6, 1, 6, 4, 9, 0, 4, 3, 9, 10, 6, 6, 9, 2, 2, 2, 5, 3, 0, 10, 4, 1, 5, 4, 7, 0, 7, 10, 0, 0, 8, 4, 4, 7, 9, 4, 4, 0, 0, 8, 6, 7, 10, 2, 9, 6, 7, 6, 4, 7, 10, 10, 3, 2, 1, 2, 9, 9, 4, 9, 9, 7, 7, 10, 6, 10, 10, 7, 4, 5, 3, 0, 6, 7, 4, 10, 7, 5, 9, 2, 6, 2, 8, 5, 10, 5, 6, 6, 3, 8, 5, 0, 9, 9, 6, 9, 5, 1, 8, 0, 6, 8, 2, 0, 0, 8, 3, 8, 3, 3, 1, 6, 1, 5, 5, 8, 7, 10, 4, 9, 2, 1, 3, 1, 8, 10, 8, 6, 5, 6, 3, 7, 10, 7, 7, 6, 4, 1, 6, 10, 9, 0, 5, 6, 7, 5, 7, 4, 8, 5, 0, 4, 3, 4, 9, 6, 5, 10, 1, 1, 7, 9, 2, 5, 8, 4, 1, 2, 1, 8, 2, 3, 5, 4, 1, 8, 0, 6, 10, 2, 10, 5, 4, 5, 7, 6, 4, 6, 5, 0, 2, 6, 7, 10, 0, 7, 7, 4, 6, 8, 7, 1, 5, 10, 5, 4, 10, 7, 1, 1, 9, 7, 5, 5, 0, 8, 7, 1, 1, 7, 7, 7, 2, 2, 3, 4, 6, 2, 4, 6, 5, 9, 0, 8, 1, 7, 9, 3, 8, 7, 6, 6, 7, 9, 9, 2, 2, 7, 8, 2, 4, 0, 5, 1, 7, 9, 10, 9, 10, 9, 9, 2, 6, 8, 3, 1, 9, 6, 5, 3, 1, 2, 9, 5, 8, 4, 5, 10, 5, 9, 5, 2, 3, 4, 0, 0, 7, 6, 3, 1, 1, 6, 10, 9, 1, 0, 5, 8, 10, 3, 7, 1, 9, 5, 6, 2, 7, 7, 9, 6, 7, 9, 10, 4, 4, 7, 5, 6, 9, 9, 2, 4, 9, 10, 9, 7, 6, 5, 2, 10, 9, 6, 4, 1, 4, 10, 1, 2, 9, 5, 8, 2, 2, 4, 1, 4, 7, 5, 8, 10, 1, 9, 4, 6, 10, 0, 9, 10, 10, 6, 9, 9, 10, 3, 8, 7, 9, 9, 0, 3, 9, 7, 4, 6, 5, 10, 4, 7, 7, 0, 2, 5, 5, 4, 6, 1, 0, 8, 6, 4, 0, 5, 10, 3, 7, 4, 0, 4, 7, 7, 8, 8, 8, 3, 0, 5, 6, 7, 0, 3, 6, 6, 2, 2, 6, 8, 9, 4, 5, 0, 0, 4, 6, 9, 7, 5, 2, 4, 4, 4, 2, 0, 4, 0, 8, 9, 5, 9, 8, 4, 1, 10, 7, 3, 10, 6, 3, 0, 8, 5, 5, 10, 4, 7, 8, 8, 10, 6, 10, 8, 10, 4, 9, 8, 1, 6, 10, 8, 7, 10, 8, 0, 3, 6, 9, 7, 7, 0, 6, 9, 4, 3, 1, 0, 8, 2, 9, 1, 0, 7, 8, 4, 8, 8, 6, 8, 9, 4, 7, 4, 4, 10, 0, 2, 5, 1, 9, 10, 0, 4, 9, 4, 6, 6, 0, 1, 9, 4, 1, 2, 0, 4, 10, 3, 6, 2, 5, 9, 6, 3, 9, 7, 4, 2, 3, 8, 0, 9, 0, 6, 7, 1, 1, 8, 3, 5, 4, 2, 1, 8, 1, 2, 8, 2, 5, 9, 2, 2, 2, 0, 10, 8, 7, 3, 2, 7, 8, 7, 7, 0, 2, 9, 6, 6, 7, 7, 9, 4, 4, 7, 4, 0, 8, 2, 3, 9, 2, 1, 2, 9, 3, 8, 4, 8, 9, 3, 9, 3, 0, 9, 0, 4, 0, 5, 1, 3, 10, 8, 2, 3, 7, 1, 6, 4, 8, 1, 4, 0, 5, 1, 9, 3, 9, 8, 5, 4, 2, 7, 1, 3, 0, 4, 3, 7, 2, 6, 0, 2, 6, 2, 0, 2, 4, 8, 0, 5, 2, 7, 4, 0, 7, 3, 1, 6, 8, 10, 9, 1, 3, 5, 10, 0, 7, 3, 1, 4, 3, 9, 7, 8, 3, 1, 1, 0, 0, 7, 7, 8, 3, 7, 8, 4, 0, 9, 5, 4, 6, 4, 5, 10, 7, 2, 5, 0, 4, 3, 10, 1, 2, 4, 10, 3, 8, 2, 10, 6, 0, 6, 0, 3, 1, 2, 6, 6, 6, 2, 4, 10, 1, 9, 10, 10, 10, 0, 7, 0, 5, 7, 0, 8, 6, 3, 8, 10, 0, 0, 10, 3, 9, 1, 1]}],\n",
              "                        {\"template\": {\"data\": {\"bar\": [{\"error_x\": {\"color\": \"#2a3f5f\"}, \"error_y\": {\"color\": \"#2a3f5f\"}, \"marker\": {\"line\": {\"color\": \"#E5ECF6\", \"width\": 0.5}}, \"type\": \"bar\"}], \"barpolar\": [{\"marker\": {\"line\": {\"color\": \"#E5ECF6\", \"width\": 0.5}}, \"type\": \"barpolar\"}], \"carpet\": [{\"aaxis\": {\"endlinecolor\": \"#2a3f5f\", \"gridcolor\": \"white\", \"linecolor\": \"white\", \"minorgridcolor\": \"white\", \"startlinecolor\": \"#2a3f5f\"}, \"baxis\": {\"endlinecolor\": \"#2a3f5f\", \"gridcolor\": \"white\", \"linecolor\": \"white\", \"minorgridcolor\": \"white\", \"startlinecolor\": \"#2a3f5f\"}, \"type\": \"carpet\"}], \"choropleth\": [{\"colorbar\": {\"outlinewidth\": 0, \"ticks\": \"\"}, \"type\": \"choropleth\"}], \"contour\": [{\"colorbar\": {\"outlinewidth\": 0, \"ticks\": \"\"}, \"colorscale\": [[0.0, \"#0d0887\"], [0.1111111111111111, \"#46039f\"], [0.2222222222222222, \"#7201a8\"], [0.3333333333333333, \"#9c179e\"], [0.4444444444444444, \"#bd3786\"], [0.5555555555555556, \"#d8576b\"], [0.6666666666666666, \"#ed7953\"], [0.7777777777777778, \"#fb9f3a\"], [0.8888888888888888, \"#fdca26\"], [1.0, \"#f0f921\"]], \"type\": \"contour\"}], \"contourcarpet\": [{\"colorbar\": {\"outlinewidth\": 0, \"ticks\": \"\"}, \"type\": \"contourcarpet\"}], \"heatmap\": [{\"colorbar\": {\"outlinewidth\": 0, \"ticks\": \"\"}, \"colorscale\": [[0.0, \"#0d0887\"], [0.1111111111111111, \"#46039f\"], [0.2222222222222222, \"#7201a8\"], [0.3333333333333333, \"#9c179e\"], [0.4444444444444444, \"#bd3786\"], [0.5555555555555556, \"#d8576b\"], [0.6666666666666666, \"#ed7953\"], [0.7777777777777778, \"#fb9f3a\"], [0.8888888888888888, \"#fdca26\"], [1.0, \"#f0f921\"]], \"type\": \"heatmap\"}], \"heatmapgl\": [{\"colorbar\": {\"outlinewidth\": 0, \"ticks\": \"\"}, \"colorscale\": [[0.0, \"#0d0887\"], [0.1111111111111111, \"#46039f\"], [0.2222222222222222, \"#7201a8\"], [0.3333333333333333, \"#9c179e\"], [0.4444444444444444, \"#bd3786\"], [0.5555555555555556, \"#d8576b\"], [0.6666666666666666, \"#ed7953\"], [0.7777777777777778, \"#fb9f3a\"], [0.8888888888888888, \"#fdca26\"], [1.0, \"#f0f921\"]], \"type\": \"heatmapgl\"}], \"histogram\": [{\"marker\": {\"colorbar\": {\"outlinewidth\": 0, \"ticks\": \"\"}}, \"type\": \"histogram\"}], \"histogram2d\": [{\"colorbar\": {\"outlinewidth\": 0, \"ticks\": \"\"}, \"colorscale\": [[0.0, \"#0d0887\"], [0.1111111111111111, \"#46039f\"], [0.2222222222222222, \"#7201a8\"], [0.3333333333333333, \"#9c179e\"], [0.4444444444444444, \"#bd3786\"], [0.5555555555555556, \"#d8576b\"], [0.6666666666666666, \"#ed7953\"], [0.7777777777777778, \"#fb9f3a\"], [0.8888888888888888, \"#fdca26\"], [1.0, \"#f0f921\"]], \"type\": \"histogram2d\"}], \"histogram2dcontour\": [{\"colorbar\": {\"outlinewidth\": 0, \"ticks\": \"\"}, \"colorscale\": [[0.0, \"#0d0887\"], [0.1111111111111111, \"#46039f\"], [0.2222222222222222, \"#7201a8\"], [0.3333333333333333, \"#9c179e\"], [0.4444444444444444, \"#bd3786\"], [0.5555555555555556, \"#d8576b\"], [0.6666666666666666, \"#ed7953\"], [0.7777777777777778, \"#fb9f3a\"], [0.8888888888888888, \"#fdca26\"], [1.0, \"#f0f921\"]], \"type\": \"histogram2dcontour\"}], \"mesh3d\": [{\"colorbar\": {\"outlinewidth\": 0, \"ticks\": \"\"}, \"type\": \"mesh3d\"}], \"parcoords\": [{\"line\": {\"colorbar\": {\"outlinewidth\": 0, \"ticks\": \"\"}}, \"type\": \"parcoords\"}], \"pie\": [{\"automargin\": true, \"type\": \"pie\"}], \"scatter\": [{\"marker\": {\"colorbar\": {\"outlinewidth\": 0, \"ticks\": \"\"}}, \"type\": \"scatter\"}], \"scatter3d\": [{\"line\": {\"colorbar\": {\"outlinewidth\": 0, \"ticks\": \"\"}}, \"marker\": {\"colorbar\": {\"outlinewidth\": 0, \"ticks\": \"\"}}, \"type\": \"scatter3d\"}], \"scattercarpet\": [{\"marker\": {\"colorbar\": {\"outlinewidth\": 0, \"ticks\": \"\"}}, \"type\": \"scattercarpet\"}], \"scattergeo\": [{\"marker\": {\"colorbar\": {\"outlinewidth\": 0, \"ticks\": \"\"}}, \"type\": \"scattergeo\"}], \"scattergl\": [{\"marker\": {\"colorbar\": {\"outlinewidth\": 0, \"ticks\": \"\"}}, \"type\": \"scattergl\"}], \"scattermapbox\": [{\"marker\": {\"colorbar\": {\"outlinewidth\": 0, \"ticks\": \"\"}}, \"type\": \"scattermapbox\"}], \"scatterpolar\": [{\"marker\": {\"colorbar\": {\"outlinewidth\": 0, \"ticks\": \"\"}}, \"type\": \"scatterpolar\"}], \"scatterpolargl\": [{\"marker\": {\"colorbar\": {\"outlinewidth\": 0, \"ticks\": \"\"}}, \"type\": \"scatterpolargl\"}], \"scatterternary\": [{\"marker\": {\"colorbar\": {\"outlinewidth\": 0, \"ticks\": \"\"}}, \"type\": \"scatterternary\"}], \"surface\": [{\"colorbar\": {\"outlinewidth\": 0, \"ticks\": \"\"}, \"colorscale\": [[0.0, \"#0d0887\"], [0.1111111111111111, \"#46039f\"], [0.2222222222222222, \"#7201a8\"], [0.3333333333333333, \"#9c179e\"], [0.4444444444444444, \"#bd3786\"], [0.5555555555555556, \"#d8576b\"], [0.6666666666666666, \"#ed7953\"], [0.7777777777777778, \"#fb9f3a\"], [0.8888888888888888, \"#fdca26\"], [1.0, \"#f0f921\"]], \"type\": \"surface\"}], \"table\": [{\"cells\": {\"fill\": {\"color\": \"#EBF0F8\"}, \"line\": {\"color\": \"white\"}}, \"header\": {\"fill\": {\"color\": \"#C8D4E3\"}, \"line\": {\"color\": \"white\"}}, \"type\": \"table\"}]}, \"layout\": {\"annotationdefaults\": {\"arrowcolor\": \"#2a3f5f\", \"arrowhead\": 0, \"arrowwidth\": 1}, \"coloraxis\": {\"colorbar\": {\"outlinewidth\": 0, \"ticks\": \"\"}}, \"colorscale\": {\"diverging\": [[0, \"#8e0152\"], [0.1, \"#c51b7d\"], [0.2, \"#de77ae\"], [0.3, \"#f1b6da\"], [0.4, \"#fde0ef\"], [0.5, \"#f7f7f7\"], [0.6, \"#e6f5d0\"], [0.7, \"#b8e186\"], [0.8, \"#7fbc41\"], [0.9, \"#4d9221\"], [1, \"#276419\"]], \"sequential\": [[0.0, \"#0d0887\"], [0.1111111111111111, \"#46039f\"], [0.2222222222222222, \"#7201a8\"], [0.3333333333333333, \"#9c179e\"], [0.4444444444444444, \"#bd3786\"], [0.5555555555555556, \"#d8576b\"], [0.6666666666666666, \"#ed7953\"], [0.7777777777777778, \"#fb9f3a\"], [0.8888888888888888, \"#fdca26\"], [1.0, \"#f0f921\"]], \"sequentialminus\": [[0.0, \"#0d0887\"], [0.1111111111111111, \"#46039f\"], [0.2222222222222222, \"#7201a8\"], [0.3333333333333333, \"#9c179e\"], [0.4444444444444444, \"#bd3786\"], [0.5555555555555556, \"#d8576b\"], [0.6666666666666666, \"#ed7953\"], [0.7777777777777778, \"#fb9f3a\"], [0.8888888888888888, \"#fdca26\"], [1.0, \"#f0f921\"]]}, \"colorway\": [\"#636efa\", \"#EF553B\", \"#00cc96\", \"#ab63fa\", \"#FFA15A\", \"#19d3f3\", \"#FF6692\", \"#B6E880\", \"#FF97FF\", \"#FECB52\"], \"font\": {\"color\": \"#2a3f5f\"}, \"geo\": {\"bgcolor\": \"white\", \"lakecolor\": \"white\", \"landcolor\": \"#E5ECF6\", \"showlakes\": true, \"showland\": true, \"subunitcolor\": \"white\"}, \"hoverlabel\": {\"align\": \"left\"}, \"hovermode\": \"closest\", \"mapbox\": {\"style\": \"light\"}, \"paper_bgcolor\": \"white\", \"plot_bgcolor\": \"#E5ECF6\", \"polar\": {\"angularaxis\": {\"gridcolor\": \"white\", \"linecolor\": \"white\", \"ticks\": \"\"}, \"bgcolor\": \"#E5ECF6\", \"radialaxis\": {\"gridcolor\": \"white\", \"linecolor\": \"white\", \"ticks\": \"\"}}, \"scene\": {\"xaxis\": {\"backgroundcolor\": \"#E5ECF6\", \"gridcolor\": \"white\", \"gridwidth\": 2, \"linecolor\": \"white\", \"showbackground\": true, \"ticks\": \"\", \"zerolinecolor\": \"white\"}, \"yaxis\": {\"backgroundcolor\": \"#E5ECF6\", \"gridcolor\": \"white\", \"gridwidth\": 2, \"linecolor\": \"white\", \"showbackground\": true, \"ticks\": \"\", \"zerolinecolor\": \"white\"}, \"zaxis\": {\"backgroundcolor\": \"#E5ECF6\", \"gridcolor\": \"white\", \"gridwidth\": 2, \"linecolor\": \"white\", \"showbackground\": true, \"ticks\": \"\", \"zerolinecolor\": \"white\"}}, \"shapedefaults\": {\"line\": {\"color\": \"#2a3f5f\"}}, \"ternary\": {\"aaxis\": {\"gridcolor\": \"white\", \"linecolor\": \"white\", \"ticks\": \"\"}, \"baxis\": {\"gridcolor\": \"white\", \"linecolor\": \"white\", \"ticks\": \"\"}, \"bgcolor\": \"#E5ECF6\", \"caxis\": {\"gridcolor\": \"white\", \"linecolor\": \"white\", \"ticks\": \"\"}}, \"title\": {\"x\": 0.05}, \"xaxis\": {\"automargin\": true, \"gridcolor\": \"white\", \"linecolor\": \"white\", \"ticks\": \"\", \"title\": {\"standoff\": 15}, \"zerolinecolor\": \"white\", \"zerolinewidth\": 2}, \"yaxis\": {\"automargin\": true, \"gridcolor\": \"white\", \"linecolor\": \"white\", \"ticks\": \"\", \"title\": {\"standoff\": 15}, \"zerolinecolor\": \"white\", \"zerolinewidth\": 2}}}},\n",
              "                        {\"responsive\": true}\n",
              "                    ).then(function(){\n",
              "                            \n",
              "var gd = document.getElementById('a026186f-dda8-4ac2-8153-f69cb3e2ed56');\n",
              "var x = new MutationObserver(function (mutations, observer) {{\n",
              "        var display = window.getComputedStyle(gd).display;\n",
              "        if (!display || display === 'none') {{\n",
              "            console.log([gd, 'removed!']);\n",
              "            Plotly.purge(gd);\n",
              "            observer.disconnect();\n",
              "        }}\n",
              "}});\n",
              "\n",
              "// Listen for the removal of the full notebook cells\n",
              "var notebookContainer = gd.closest('#notebook-container');\n",
              "if (notebookContainer) {{\n",
              "    x.observe(notebookContainer, {childList: true});\n",
              "}}\n",
              "\n",
              "// Listen for the clearing of the current output cell\n",
              "var outputEl = gd.closest('.output');\n",
              "if (outputEl) {{\n",
              "    x.observe(outputEl, {childList: true});\n",
              "}}\n",
              "\n",
              "                        })\n",
              "                };\n",
              "                \n",
              "            </script>\n",
              "        </div>\n",
              "</body>\n",
              "</html>"
            ]
          },
          "metadata": {
            "tags": []
          }
        }
      ]
    },
    {
      "cell_type": "markdown",
      "metadata": {
        "id": "9cgeZhux9hVv",
        "colab_type": "text"
      },
      "source": [
        "The true distribution of randint is a discrete uniform distribution where each number in the range has exactly the same probability to be picked.\n",
        "\n",
        "So in this case \n",
        "$X \\sim \\frac{1}{n}$ where $n = 10$."
      ]
    },
    {
      "cell_type": "code",
      "metadata": {
        "id": "i-pobfjnC9f6",
        "colab_type": "code",
        "colab": {
          "base_uri": "https://localhost:8080/",
          "height": 542
        },
        "outputId": "541aac1b-f87b-4cfe-a169-8342ac7a2254"
      },
      "source": [
        "x = list(range(10))\n",
        "y = [1/10 for i in x]\n",
        "fig.add_scatter(x=x, y=y, name=\"True uniform distribution\")"
      ],
      "execution_count": 39,
      "outputs": [
        {
          "output_type": "display_data",
          "data": {
            "text/html": [
              "<html>\n",
              "<head><meta charset=\"utf-8\" /></head>\n",
              "<body>\n",
              "    <div>\n",
              "            <script src=\"https://cdnjs.cloudflare.com/ajax/libs/mathjax/2.7.5/MathJax.js?config=TeX-AMS-MML_SVG\"></script><script type=\"text/javascript\">if (window.MathJax) {MathJax.Hub.Config({SVG: {font: \"STIX-Web\"}});}</script>\n",
              "                <script type=\"text/javascript\">window.PlotlyConfig = {MathJaxConfig: 'local'};</script>\n",
              "        <script src=\"https://cdn.plot.ly/plotly-latest.min.js\"></script>    \n",
              "            <div id=\"f7dcdbd2-71a6-4088-a83d-167a0529acdc\" class=\"plotly-graph-div\" style=\"height:525px; width:100%;\"></div>\n",
              "            <script type=\"text/javascript\">\n",
              "                \n",
              "                    window.PLOTLYENV=window.PLOTLYENV || {};\n",
              "                    \n",
              "                if (document.getElementById(\"f7dcdbd2-71a6-4088-a83d-167a0529acdc\")) {\n",
              "                    Plotly.newPlot(\n",
              "                        'f7dcdbd2-71a6-4088-a83d-167a0529acdc',\n",
              "                        [{\"histnorm\": \"probability density\", \"name\": \"X for 1000\", \"type\": \"histogram\", \"x\": [8, 1, 7, 9, 8, 4, 9, 5, 9, 2, 4, 6, 8, 9, 2, 1, 10, 9, 4, 2, 8, 0, 1, 4, 2, 3, 10, 2, 3, 9, 1, 10, 8, 2, 10, 1, 9, 1, 2, 6, 9, 5, 0, 2, 10, 10, 5, 3, 1, 7, 4, 9, 1, 5, 5, 1, 8, 7, 8, 1, 7, 4, 3, 8, 1, 1, 6, 1, 9, 5, 0, 7, 3, 6, 5, 2, 5, 3, 0, 7, 4, 6, 9, 10, 2, 0, 3, 4, 0, 3, 9, 3, 7, 5, 0, 2, 8, 0, 5, 0, 4, 2, 7, 8, 7, 3, 10, 10, 10, 7, 0, 10, 1, 6, 6, 2, 2, 9, 6, 6, 7, 8, 8, 6, 8, 5, 7, 5, 10, 1, 1, 6, 3, 2, 6, 0, 10, 5, 2, 6, 0, 6, 7, 10, 3, 0, 4, 0, 7, 6, 7, 8, 0, 4, 5, 4, 4, 6, 3, 3, 0, 3, 3, 8, 5, 10, 3, 3, 6, 7, 10, 2, 10, 3, 4, 3, 8, 9, 3, 3, 5, 2, 0, 8, 4, 6, 3, 7, 3, 4, 4, 0, 2, 7, 2, 8, 2, 5, 9, 0, 4, 2, 6, 10, 10, 2, 7, 7, 2, 8, 7, 10, 2, 4, 6, 7, 8, 10, 3, 2, 6, 4, 0, 6, 6, 0, 7, 2, 8, 3, 9, 2, 6, 5, 7, 6, 10, 9, 1, 7, 4, 10, 5, 6, 9, 9, 3, 5, 7, 2, 6, 2, 9, 4, 5, 9, 4, 2, 9, 9, 5, 3, 0, 8, 1, 2, 0, 1, 6, 5, 6, 10, 6, 5, 10, 5, 4, 1, 1, 4, 4, 6, 10, 3, 0, 2, 10, 6, 7, 2, 4, 6, 7, 6, 7, 1, 2, 4, 3, 10, 8, 4, 3, 1, 6, 2, 5, 6, 9, 9, 9, 4, 1, 3, 1, 9, 3, 4, 7, 3, 9, 4, 10, 7, 8, 2, 7, 3, 5, 1, 3, 4, 3, 5, 6, 2, 5, 1, 5, 8, 3, 9, 3, 1, 6, 6, 6, 8, 3, 1, 9, 9, 7, 9, 4, 9, 7, 9, 5, 10, 5, 8, 3, 10, 1, 8, 10, 3, 7, 4, 1, 2, 9, 10, 4, 5, 7, 8, 2, 1, 3, 6, 10, 6, 10, 7, 3, 8, 4, 2, 2, 10, 6, 2, 1, 3, 0, 3, 5, 10, 9, 8, 2, 4, 1, 2, 5, 3, 4, 10, 6, 6, 4, 8, 1, 3, 6, 7, 1, 3, 9, 10, 7, 9, 8, 5, 1, 1, 0, 0, 0, 5, 9, 5, 8, 0, 10, 0, 3, 3, 6, 5, 4, 5, 1, 1, 7, 6, 10, 3, 1, 2, 9, 1, 7, 9, 3, 3, 8, 3, 3, 9, 2, 2, 9, 1, 2, 9, 9, 5, 0, 8, 8, 1, 3, 7, 9, 0, 6, 1, 1, 0, 5, 2, 8, 7, 6, 9, 2, 7, 4, 5, 2, 2, 3, 7, 6, 4, 4, 5, 7, 2, 4, 10, 4, 0, 1, 9, 6, 7, 10, 4, 0, 3, 10, 10, 6, 4, 7, 4, 8, 8, 2, 3, 7, 7, 3, 0, 0, 6, 2, 8, 4, 3, 5, 9, 0, 7, 10, 3, 9, 3, 8, 7, 7, 5, 2, 6, 7, 9, 4, 9, 8, 9, 9, 10, 1, 6, 3, 4, 2, 1, 2, 0, 6, 2, 9, 1, 2, 10, 10, 7, 3, 0, 10, 5, 5, 10, 8, 8, 6, 3, 10, 2, 1, 9, 2, 3, 10, 10, 8, 2, 6, 1, 3, 6, 4, 1, 8, 5, 9, 8, 5, 3, 8, 6, 6, 0, 1, 4, 1, 2, 10, 10, 2, 3, 10, 7, 0, 2, 5, 2, 4, 3, 3, 7, 7, 2, 7, 4, 1, 6, 10, 3, 0, 5, 0, 9, 9, 8, 3, 6, 6, 6, 7, 5, 0, 10, 3, 4, 0, 4, 0, 0, 6, 8, 7, 1, 4, 6, 9, 1, 4, 3, 5, 10, 0, 6, 3, 7, 1, 2, 2, 6, 8, 0, 2, 10, 1, 4, 1, 4, 7, 3, 1, 1, 9, 8, 7, 4, 7, 5, 10, 5, 3, 2, 7, 6, 9, 8, 3, 10, 3, 8, 7, 4, 2, 10, 10, 3, 5, 0, 3, 10, 6, 1, 5, 4, 10, 2, 7, 9, 0, 0, 0, 9, 0, 7, 10, 2, 10, 5, 1, 9, 9, 4, 5, 4, 10, 4, 0, 3, 4, 2, 5, 4, 1, 3, 5, 3, 4, 3, 7, 7, 9, 10, 8, 9, 8, 10, 9, 0, 10, 2, 7, 9, 2, 7, 5, 6, 9, 5, 8, 9, 2, 9, 1, 5, 2, 8, 0, 10, 0, 8, 5, 2, 2, 0, 3, 1, 8, 4, 0, 7, 9, 10, 9, 8, 5, 9, 7, 7, 2, 5, 0, 5, 3, 3, 9, 9, 0, 5, 5, 7, 4, 7, 9, 7, 0, 1, 0, 0, 3, 7, 5, 0, 3, 4, 5, 6, 7, 6, 4, 0, 0, 1, 9, 5, 5, 2, 7, 9, 2, 6, 10, 7, 2, 1, 2, 0, 6, 6, 1, 3, 3, 3, 5, 3, 9, 0, 2, 3, 1, 2, 10, 2, 8, 9, 8, 9, 6, 10, 9, 1, 5, 0, 7, 10, 0, 3, 8, 6, 6, 5, 0, 1, 5, 10, 0, 2, 1, 10, 5, 1, 4, 3, 3, 9, 8, 6, 4, 4, 4, 3, 3, 10, 7, 1, 1, 0, 7, 0, 1, 8, 8, 4, 1, 10, 2, 6, 0, 9, 4, 4, 2, 6, 6, 6, 8, 5, 7, 3, 7, 4, 8, 7, 4, 5, 7, 10, 9, 6, 8, 3, 6, 2, 7, 2, 5, 5, 8, 2, 8, 9, 3, 2, 5, 3, 8, 2, 6, 5, 7, 4, 9, 0, 5, 6, 1, 3, 7, 10, 8, 7, 0, 6, 2, 0, 0, 8, 5, 4, 6, 5, 5, 1, 2, 6, 10, 2, 1, 7, 1, 10, 10, 3, 10, 9, 2, 0]}, {\"histnorm\": \"probability density\", \"name\": \"X for 100\", \"type\": \"histogram\", \"x\": [7, 8, 4, 8, 5, 1, 6, 0, 4, 0, 0, 8, 5, 1, 3, 4, 3, 0, 10, 8, 5, 10, 6, 7, 10, 4, 9, 3, 5, 6, 3, 3, 1, 3, 3, 1, 0, 9, 10, 1, 8, 10, 9, 7, 0, 4, 5, 9, 8, 0, 6, 3, 6, 10, 6, 1, 5, 6, 7, 8, 3, 8, 4, 8, 4, 9, 3, 4, 9, 0, 8, 2, 10, 8, 1, 5, 9, 2, 4, 10, 6, 7, 6, 3, 2, 10, 6, 0, 6, 8, 3, 7, 9, 3, 9, 9, 10, 3, 0, 4]}, {\"histnorm\": \"probability density\", \"name\": \"X for 1000\", \"type\": \"histogram\", \"x\": [2, 8, 2, 1, 2, 3, 8, 5, 2, 8, 1, 10, 7, 3, 2, 4, 7, 5, 7, 7, 6, 1, 9, 0, 2, 10, 4, 1, 4, 3, 1, 4, 0, 0, 9, 10, 5, 1, 7, 1, 8, 0, 10, 7, 8, 5, 8, 2, 3, 7, 1, 8, 1, 0, 10, 8, 0, 6, 10, 7, 9, 8, 0, 0, 9, 2, 0, 9, 6, 5, 9, 10, 0, 10, 4, 10, 5, 8, 6, 3, 10, 6, 9, 7, 1, 8, 4, 8, 7, 6, 1, 0, 4, 0, 1, 7, 0, 3, 3, 7, 2, 2, 4, 2, 10, 5, 7, 1, 3, 6, 9, 10, 7, 5, 2, 3, 3, 4, 2, 0, 10, 2, 9, 10, 5, 3, 1, 10, 4, 8, 10, 6, 5, 8, 0, 3, 5, 1, 6, 2, 3, 5, 0, 1, 0, 1, 4, 7, 9, 0, 0, 5, 1, 1, 2, 5, 9, 5, 10, 4, 6, 1, 10, 1, 10, 6, 2, 8, 2, 4, 5, 8, 4, 5, 4, 8, 8, 1, 6, 4, 1, 3, 6, 3, 10, 9, 6, 9, 4, 1, 3, 2, 3, 2, 9, 4, 4, 4, 0, 8, 10, 9, 4, 7, 4, 2, 6, 5, 7, 6, 0, 5, 4, 5, 8, 9, 5, 2, 5, 1, 10, 2, 4, 1, 1, 8, 0, 10, 4, 8, 2, 4, 7, 10, 4, 2, 10, 6, 10, 9, 5, 8, 3, 1, 0, 10, 6, 3, 6, 4, 0, 0, 1, 3, 5, 3, 6, 4, 9, 6, 1, 6, 4, 9, 0, 4, 3, 9, 10, 6, 6, 9, 2, 2, 2, 5, 3, 0, 10, 4, 1, 5, 4, 7, 0, 7, 10, 0, 0, 8, 4, 4, 7, 9, 4, 4, 0, 0, 8, 6, 7, 10, 2, 9, 6, 7, 6, 4, 7, 10, 10, 3, 2, 1, 2, 9, 9, 4, 9, 9, 7, 7, 10, 6, 10, 10, 7, 4, 5, 3, 0, 6, 7, 4, 10, 7, 5, 9, 2, 6, 2, 8, 5, 10, 5, 6, 6, 3, 8, 5, 0, 9, 9, 6, 9, 5, 1, 8, 0, 6, 8, 2, 0, 0, 8, 3, 8, 3, 3, 1, 6, 1, 5, 5, 8, 7, 10, 4, 9, 2, 1, 3, 1, 8, 10, 8, 6, 5, 6, 3, 7, 10, 7, 7, 6, 4, 1, 6, 10, 9, 0, 5, 6, 7, 5, 7, 4, 8, 5, 0, 4, 3, 4, 9, 6, 5, 10, 1, 1, 7, 9, 2, 5, 8, 4, 1, 2, 1, 8, 2, 3, 5, 4, 1, 8, 0, 6, 10, 2, 10, 5, 4, 5, 7, 6, 4, 6, 5, 0, 2, 6, 7, 10, 0, 7, 7, 4, 6, 8, 7, 1, 5, 10, 5, 4, 10, 7, 1, 1, 9, 7, 5, 5, 0, 8, 7, 1, 1, 7, 7, 7, 2, 2, 3, 4, 6, 2, 4, 6, 5, 9, 0, 8, 1, 7, 9, 3, 8, 7, 6, 6, 7, 9, 9, 2, 2, 7, 8, 2, 4, 0, 5, 1, 7, 9, 10, 9, 10, 9, 9, 2, 6, 8, 3, 1, 9, 6, 5, 3, 1, 2, 9, 5, 8, 4, 5, 10, 5, 9, 5, 2, 3, 4, 0, 0, 7, 6, 3, 1, 1, 6, 10, 9, 1, 0, 5, 8, 10, 3, 7, 1, 9, 5, 6, 2, 7, 7, 9, 6, 7, 9, 10, 4, 4, 7, 5, 6, 9, 9, 2, 4, 9, 10, 9, 7, 6, 5, 2, 10, 9, 6, 4, 1, 4, 10, 1, 2, 9, 5, 8, 2, 2, 4, 1, 4, 7, 5, 8, 10, 1, 9, 4, 6, 10, 0, 9, 10, 10, 6, 9, 9, 10, 3, 8, 7, 9, 9, 0, 3, 9, 7, 4, 6, 5, 10, 4, 7, 7, 0, 2, 5, 5, 4, 6, 1, 0, 8, 6, 4, 0, 5, 10, 3, 7, 4, 0, 4, 7, 7, 8, 8, 8, 3, 0, 5, 6, 7, 0, 3, 6, 6, 2, 2, 6, 8, 9, 4, 5, 0, 0, 4, 6, 9, 7, 5, 2, 4, 4, 4, 2, 0, 4, 0, 8, 9, 5, 9, 8, 4, 1, 10, 7, 3, 10, 6, 3, 0, 8, 5, 5, 10, 4, 7, 8, 8, 10, 6, 10, 8, 10, 4, 9, 8, 1, 6, 10, 8, 7, 10, 8, 0, 3, 6, 9, 7, 7, 0, 6, 9, 4, 3, 1, 0, 8, 2, 9, 1, 0, 7, 8, 4, 8, 8, 6, 8, 9, 4, 7, 4, 4, 10, 0, 2, 5, 1, 9, 10, 0, 4, 9, 4, 6, 6, 0, 1, 9, 4, 1, 2, 0, 4, 10, 3, 6, 2, 5, 9, 6, 3, 9, 7, 4, 2, 3, 8, 0, 9, 0, 6, 7, 1, 1, 8, 3, 5, 4, 2, 1, 8, 1, 2, 8, 2, 5, 9, 2, 2, 2, 0, 10, 8, 7, 3, 2, 7, 8, 7, 7, 0, 2, 9, 6, 6, 7, 7, 9, 4, 4, 7, 4, 0, 8, 2, 3, 9, 2, 1, 2, 9, 3, 8, 4, 8, 9, 3, 9, 3, 0, 9, 0, 4, 0, 5, 1, 3, 10, 8, 2, 3, 7, 1, 6, 4, 8, 1, 4, 0, 5, 1, 9, 3, 9, 8, 5, 4, 2, 7, 1, 3, 0, 4, 3, 7, 2, 6, 0, 2, 6, 2, 0, 2, 4, 8, 0, 5, 2, 7, 4, 0, 7, 3, 1, 6, 8, 10, 9, 1, 3, 5, 10, 0, 7, 3, 1, 4, 3, 9, 7, 8, 3, 1, 1, 0, 0, 7, 7, 8, 3, 7, 8, 4, 0, 9, 5, 4, 6, 4, 5, 10, 7, 2, 5, 0, 4, 3, 10, 1, 2, 4, 10, 3, 8, 2, 10, 6, 0, 6, 0, 3, 1, 2, 6, 6, 6, 2, 4, 10, 1, 9, 10, 10, 10, 0, 7, 0, 5, 7, 0, 8, 6, 3, 8, 10, 0, 0, 10, 3, 9, 1, 1]}, {\"name\": \"True uniform distribution\", \"type\": \"scatter\", \"x\": [0, 1, 2, 3, 4, 5, 6, 7, 8, 9], \"y\": [0.1, 0.1, 0.1, 0.1, 0.1, 0.1, 0.1, 0.1, 0.1, 0.1]}],\n",
              "                        {\"template\": {\"data\": {\"bar\": [{\"error_x\": {\"color\": \"#2a3f5f\"}, \"error_y\": {\"color\": \"#2a3f5f\"}, \"marker\": {\"line\": {\"color\": \"#E5ECF6\", \"width\": 0.5}}, \"type\": \"bar\"}], \"barpolar\": [{\"marker\": {\"line\": {\"color\": \"#E5ECF6\", \"width\": 0.5}}, \"type\": \"barpolar\"}], \"carpet\": [{\"aaxis\": {\"endlinecolor\": \"#2a3f5f\", \"gridcolor\": \"white\", \"linecolor\": \"white\", \"minorgridcolor\": \"white\", \"startlinecolor\": \"#2a3f5f\"}, \"baxis\": {\"endlinecolor\": \"#2a3f5f\", \"gridcolor\": \"white\", \"linecolor\": \"white\", \"minorgridcolor\": \"white\", \"startlinecolor\": \"#2a3f5f\"}, \"type\": \"carpet\"}], \"choropleth\": [{\"colorbar\": {\"outlinewidth\": 0, \"ticks\": \"\"}, \"type\": \"choropleth\"}], \"contour\": [{\"colorbar\": {\"outlinewidth\": 0, \"ticks\": \"\"}, \"colorscale\": [[0.0, \"#0d0887\"], [0.1111111111111111, \"#46039f\"], [0.2222222222222222, \"#7201a8\"], [0.3333333333333333, \"#9c179e\"], [0.4444444444444444, \"#bd3786\"], [0.5555555555555556, \"#d8576b\"], [0.6666666666666666, \"#ed7953\"], [0.7777777777777778, \"#fb9f3a\"], [0.8888888888888888, \"#fdca26\"], [1.0, \"#f0f921\"]], \"type\": \"contour\"}], \"contourcarpet\": [{\"colorbar\": {\"outlinewidth\": 0, \"ticks\": \"\"}, \"type\": \"contourcarpet\"}], \"heatmap\": [{\"colorbar\": {\"outlinewidth\": 0, \"ticks\": \"\"}, \"colorscale\": [[0.0, \"#0d0887\"], [0.1111111111111111, \"#46039f\"], [0.2222222222222222, \"#7201a8\"], [0.3333333333333333, \"#9c179e\"], [0.4444444444444444, \"#bd3786\"], [0.5555555555555556, \"#d8576b\"], [0.6666666666666666, \"#ed7953\"], [0.7777777777777778, \"#fb9f3a\"], [0.8888888888888888, \"#fdca26\"], [1.0, \"#f0f921\"]], \"type\": \"heatmap\"}], \"heatmapgl\": [{\"colorbar\": {\"outlinewidth\": 0, \"ticks\": \"\"}, \"colorscale\": [[0.0, \"#0d0887\"], [0.1111111111111111, \"#46039f\"], [0.2222222222222222, \"#7201a8\"], [0.3333333333333333, \"#9c179e\"], [0.4444444444444444, \"#bd3786\"], [0.5555555555555556, \"#d8576b\"], [0.6666666666666666, \"#ed7953\"], [0.7777777777777778, \"#fb9f3a\"], [0.8888888888888888, \"#fdca26\"], [1.0, \"#f0f921\"]], \"type\": \"heatmapgl\"}], \"histogram\": [{\"marker\": {\"colorbar\": {\"outlinewidth\": 0, \"ticks\": \"\"}}, \"type\": \"histogram\"}], \"histogram2d\": [{\"colorbar\": {\"outlinewidth\": 0, \"ticks\": \"\"}, \"colorscale\": [[0.0, \"#0d0887\"], [0.1111111111111111, \"#46039f\"], [0.2222222222222222, \"#7201a8\"], [0.3333333333333333, \"#9c179e\"], [0.4444444444444444, \"#bd3786\"], [0.5555555555555556, \"#d8576b\"], [0.6666666666666666, \"#ed7953\"], [0.7777777777777778, \"#fb9f3a\"], [0.8888888888888888, \"#fdca26\"], [1.0, \"#f0f921\"]], \"type\": \"histogram2d\"}], \"histogram2dcontour\": [{\"colorbar\": {\"outlinewidth\": 0, \"ticks\": \"\"}, \"colorscale\": [[0.0, \"#0d0887\"], [0.1111111111111111, \"#46039f\"], [0.2222222222222222, \"#7201a8\"], [0.3333333333333333, \"#9c179e\"], [0.4444444444444444, \"#bd3786\"], [0.5555555555555556, \"#d8576b\"], [0.6666666666666666, \"#ed7953\"], [0.7777777777777778, \"#fb9f3a\"], [0.8888888888888888, \"#fdca26\"], [1.0, \"#f0f921\"]], \"type\": \"histogram2dcontour\"}], \"mesh3d\": [{\"colorbar\": {\"outlinewidth\": 0, \"ticks\": \"\"}, \"type\": \"mesh3d\"}], \"parcoords\": [{\"line\": {\"colorbar\": {\"outlinewidth\": 0, \"ticks\": \"\"}}, \"type\": \"parcoords\"}], \"pie\": [{\"automargin\": true, \"type\": \"pie\"}], \"scatter\": [{\"marker\": {\"colorbar\": {\"outlinewidth\": 0, \"ticks\": \"\"}}, \"type\": \"scatter\"}], \"scatter3d\": [{\"line\": {\"colorbar\": {\"outlinewidth\": 0, \"ticks\": \"\"}}, \"marker\": {\"colorbar\": {\"outlinewidth\": 0, \"ticks\": \"\"}}, \"type\": \"scatter3d\"}], \"scattercarpet\": [{\"marker\": {\"colorbar\": {\"outlinewidth\": 0, \"ticks\": \"\"}}, \"type\": \"scattercarpet\"}], \"scattergeo\": [{\"marker\": {\"colorbar\": {\"outlinewidth\": 0, \"ticks\": \"\"}}, \"type\": \"scattergeo\"}], \"scattergl\": [{\"marker\": {\"colorbar\": {\"outlinewidth\": 0, \"ticks\": \"\"}}, \"type\": \"scattergl\"}], \"scattermapbox\": [{\"marker\": {\"colorbar\": {\"outlinewidth\": 0, \"ticks\": \"\"}}, \"type\": \"scattermapbox\"}], \"scatterpolar\": [{\"marker\": {\"colorbar\": {\"outlinewidth\": 0, \"ticks\": \"\"}}, \"type\": \"scatterpolar\"}], \"scatterpolargl\": [{\"marker\": {\"colorbar\": {\"outlinewidth\": 0, \"ticks\": \"\"}}, \"type\": \"scatterpolargl\"}], \"scatterternary\": [{\"marker\": {\"colorbar\": {\"outlinewidth\": 0, \"ticks\": \"\"}}, \"type\": \"scatterternary\"}], \"surface\": [{\"colorbar\": {\"outlinewidth\": 0, \"ticks\": \"\"}, \"colorscale\": [[0.0, \"#0d0887\"], [0.1111111111111111, \"#46039f\"], [0.2222222222222222, \"#7201a8\"], [0.3333333333333333, \"#9c179e\"], [0.4444444444444444, \"#bd3786\"], [0.5555555555555556, \"#d8576b\"], [0.6666666666666666, \"#ed7953\"], [0.7777777777777778, \"#fb9f3a\"], [0.8888888888888888, \"#fdca26\"], [1.0, \"#f0f921\"]], \"type\": \"surface\"}], \"table\": [{\"cells\": {\"fill\": {\"color\": \"#EBF0F8\"}, \"line\": {\"color\": \"white\"}}, \"header\": {\"fill\": {\"color\": \"#C8D4E3\"}, \"line\": {\"color\": \"white\"}}, \"type\": \"table\"}]}, \"layout\": {\"annotationdefaults\": {\"arrowcolor\": \"#2a3f5f\", \"arrowhead\": 0, \"arrowwidth\": 1}, \"coloraxis\": {\"colorbar\": {\"outlinewidth\": 0, \"ticks\": \"\"}}, \"colorscale\": {\"diverging\": [[0, \"#8e0152\"], [0.1, \"#c51b7d\"], [0.2, \"#de77ae\"], [0.3, \"#f1b6da\"], [0.4, \"#fde0ef\"], [0.5, \"#f7f7f7\"], [0.6, \"#e6f5d0\"], [0.7, \"#b8e186\"], [0.8, \"#7fbc41\"], [0.9, \"#4d9221\"], [1, \"#276419\"]], \"sequential\": [[0.0, \"#0d0887\"], [0.1111111111111111, \"#46039f\"], [0.2222222222222222, \"#7201a8\"], [0.3333333333333333, \"#9c179e\"], [0.4444444444444444, \"#bd3786\"], [0.5555555555555556, \"#d8576b\"], [0.6666666666666666, \"#ed7953\"], [0.7777777777777778, \"#fb9f3a\"], [0.8888888888888888, \"#fdca26\"], [1.0, \"#f0f921\"]], \"sequentialminus\": [[0.0, \"#0d0887\"], [0.1111111111111111, \"#46039f\"], [0.2222222222222222, \"#7201a8\"], [0.3333333333333333, \"#9c179e\"], [0.4444444444444444, \"#bd3786\"], [0.5555555555555556, \"#d8576b\"], [0.6666666666666666, \"#ed7953\"], [0.7777777777777778, \"#fb9f3a\"], [0.8888888888888888, \"#fdca26\"], [1.0, \"#f0f921\"]]}, \"colorway\": [\"#636efa\", \"#EF553B\", \"#00cc96\", \"#ab63fa\", \"#FFA15A\", \"#19d3f3\", \"#FF6692\", \"#B6E880\", \"#FF97FF\", \"#FECB52\"], \"font\": {\"color\": \"#2a3f5f\"}, \"geo\": {\"bgcolor\": \"white\", \"lakecolor\": \"white\", \"landcolor\": \"#E5ECF6\", \"showlakes\": true, \"showland\": true, \"subunitcolor\": \"white\"}, \"hoverlabel\": {\"align\": \"left\"}, \"hovermode\": \"closest\", \"mapbox\": {\"style\": \"light\"}, \"paper_bgcolor\": \"white\", \"plot_bgcolor\": \"#E5ECF6\", \"polar\": {\"angularaxis\": {\"gridcolor\": \"white\", \"linecolor\": \"white\", \"ticks\": \"\"}, \"bgcolor\": \"#E5ECF6\", \"radialaxis\": {\"gridcolor\": \"white\", \"linecolor\": \"white\", \"ticks\": \"\"}}, \"scene\": {\"xaxis\": {\"backgroundcolor\": \"#E5ECF6\", \"gridcolor\": \"white\", \"gridwidth\": 2, \"linecolor\": \"white\", \"showbackground\": true, \"ticks\": \"\", \"zerolinecolor\": \"white\"}, \"yaxis\": {\"backgroundcolor\": \"#E5ECF6\", \"gridcolor\": \"white\", \"gridwidth\": 2, \"linecolor\": \"white\", \"showbackground\": true, \"ticks\": \"\", \"zerolinecolor\": \"white\"}, \"zaxis\": {\"backgroundcolor\": \"#E5ECF6\", \"gridcolor\": \"white\", \"gridwidth\": 2, \"linecolor\": \"white\", \"showbackground\": true, \"ticks\": \"\", \"zerolinecolor\": \"white\"}}, \"shapedefaults\": {\"line\": {\"color\": \"#2a3f5f\"}}, \"ternary\": {\"aaxis\": {\"gridcolor\": \"white\", \"linecolor\": \"white\", \"ticks\": \"\"}, \"baxis\": {\"gridcolor\": \"white\", \"linecolor\": \"white\", \"ticks\": \"\"}, \"bgcolor\": \"#E5ECF6\", \"caxis\": {\"gridcolor\": \"white\", \"linecolor\": \"white\", \"ticks\": \"\"}}, \"title\": {\"x\": 0.05}, \"xaxis\": {\"automargin\": true, \"gridcolor\": \"white\", \"linecolor\": \"white\", \"ticks\": \"\", \"title\": {\"standoff\": 15}, \"zerolinecolor\": \"white\", \"zerolinewidth\": 2}, \"yaxis\": {\"automargin\": true, \"gridcolor\": \"white\", \"linecolor\": \"white\", \"ticks\": \"\", \"title\": {\"standoff\": 15}, \"zerolinecolor\": \"white\", \"zerolinewidth\": 2}}}},\n",
              "                        {\"responsive\": true}\n",
              "                    ).then(function(){\n",
              "                            \n",
              "var gd = document.getElementById('f7dcdbd2-71a6-4088-a83d-167a0529acdc');\n",
              "var x = new MutationObserver(function (mutations, observer) {{\n",
              "        var display = window.getComputedStyle(gd).display;\n",
              "        if (!display || display === 'none') {{\n",
              "            console.log([gd, 'removed!']);\n",
              "            Plotly.purge(gd);\n",
              "            observer.disconnect();\n",
              "        }}\n",
              "}});\n",
              "\n",
              "// Listen for the removal of the full notebook cells\n",
              "var notebookContainer = gd.closest('#notebook-container');\n",
              "if (notebookContainer) {{\n",
              "    x.observe(notebookContainer, {childList: true});\n",
              "}}\n",
              "\n",
              "// Listen for the clearing of the current output cell\n",
              "var outputEl = gd.closest('.output');\n",
              "if (outputEl) {{\n",
              "    x.observe(outputEl, {childList: true});\n",
              "}}\n",
              "\n",
              "                        })\n",
              "                };\n",
              "                \n",
              "            </script>\n",
              "        </div>\n",
              "</body>\n",
              "</html>"
            ]
          },
          "metadata": {
            "tags": []
          }
        }
      ]
    },
    {
      "cell_type": "markdown",
      "metadata": {
        "id": "xbsxAtcQ5_wT",
        "colab_type": "text"
      },
      "source": [
        "# Probability Distribution\n",
        "\n",
        "A *probability distribution* is a mathematical function which\n",
        "- takes as inputs a random variable's domain/sample space. \n",
        "- and outputs the probability for each outcome.\n",
        "\n",
        "Example:\n",
        "For a toin coss the domain is {heads, tails}, and the respective probabilites are {0.5, 0.5}.\n",
        "\n",
        "`P({heads, tails}) = {0.5, 0.5}`\n",
        "\n",
        "The probability distribution \n",
        "- for discrete random variables is called *probability mass function*.\n",
        "- for continous random variables ias valled *probability density function*."
      ]
    },
    {
      "cell_type": "markdown",
      "metadata": {
        "id": "XE2fBu-FHiqy",
        "colab_type": "text"
      },
      "source": [
        "A *univariate distribution* is a distribution where the sample space is one-dimensional. It maps the probabiliies of a single variable to various alternative values.\n",
        "\n",
        "Examples:\n",
        "- uniform distribution\n",
        "- binomial distribution\n",
        "- hypergeometric distribution\n",
        "- normal distribution\n",
        "\n",
        "A *random vector* is a list of two or more random variables.\n",
        "\n",
        "A *multivariate distribution* or *joint probability distribution* gives the probabilities of a *random vector*  taking on a combination of values."
      ]
    },
    {
      "cell_type": "code",
      "metadata": {
        "id": "riqxsLioAEJL",
        "colab_type": "code",
        "colab": {}
      },
      "source": [
        "§"
      ],
      "execution_count": 0,
      "outputs": []
    }
  ]
}