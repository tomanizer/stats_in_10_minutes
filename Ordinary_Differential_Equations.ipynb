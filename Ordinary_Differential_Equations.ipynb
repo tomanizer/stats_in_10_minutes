{
  "nbformat": 4,
  "nbformat_minor": 0,
  "metadata": {
    "colab": {
      "name": "Ordinary_Differential_Equations.ipynb",
      "provenance": [],
      "collapsed_sections": [],
      "authorship_tag": "ABX9TyNDKqtEJ4MbEh2YUimokxDl",
      "include_colab_link": true
    },
    "kernelspec": {
      "name": "python3",
      "display_name": "Python 3"
    }
  },
  "cells": [
    {
      "cell_type": "markdown",
      "metadata": {
        "id": "view-in-github",
        "colab_type": "text"
      },
      "source": [
        "<a href=\"https://colab.research.google.com/github/tomanizer/stats_in_10_minutes/blob/master/Ordinary_Differential_Equations.ipynb\" target=\"_parent\"><img src=\"https://colab.research.google.com/assets/colab-badge.svg\" alt=\"Open In Colab\"/></a>"
      ]
    },
    {
      "cell_type": "markdown",
      "metadata": {
        "id": "nIO4bf25xqOX",
        "colab_type": "text"
      },
      "source": [
        "# Solving Ordinary Differntial Equations\n",
        "\n"
      ]
    },
    {
      "cell_type": "code",
      "metadata": {
        "id": "ILyUoQ-5xvg6",
        "colab_type": "code",
        "colab": {}
      },
      "source": [
        "import numpy as np\n",
        "import plotly.graph_objects as go"
      ],
      "execution_count": 0,
      "outputs": []
    },
    {
      "cell_type": "markdown",
      "metadata": {
        "id": "jmh07WtTx2Xx",
        "colab_type": "text"
      },
      "source": [
        "First-order ordinary differential equation (ODE):\n",
        "\n",
        "$\\frac{dy}{dx} + y = x, \\quad y(0) =1$\n",
        "\n",
        "This has a closed solution:\n",
        "\n",
        "$y = x -1 + 2e^{-x}$"
      ]
    },
    {
      "cell_type": "code",
      "metadata": {
        "id": "cG7ENyN7xxn_",
        "colab_type": "code",
        "colab": {}
      },
      "source": [
        "from scipy.integrate import odeint\n",
        "\n",
        "# Define a function which calculates the derivative\n",
        "def dy_dx(y, x):\n",
        "    return x - y\n",
        "\n",
        "xs = np.linspace(0,5,100)\n",
        "y0 = 1.0  # the initial condition\n",
        "ys = odeint(dy_dx, y0, xs)\n",
        "ys = np.array(ys).flatten()"
      ],
      "execution_count": 0,
      "outputs": []
    },
    {
      "cell_type": "code",
      "metadata": {
        "id": "rnACkaWoyk38",
        "colab_type": "code",
        "colab": {
          "base_uri": "https://localhost:8080/",
          "height": 542
        },
        "outputId": "761cf0d8-de49-4cbc-d177-dbf1a6e9fbd2"
      },
      "source": [
        "fig = go.Figure(layout={\"title\":\"Numerical Integration of ODEs\"})\n",
        "fig.add_scatter(x=xs, y=ys, name='numerical integration')"
      ],
      "execution_count": 61,
      "outputs": [
        {
          "output_type": "display_data",
          "data": {
            "text/html": [
              "<html>\n",
              "<head><meta charset=\"utf-8\" /></head>\n",
              "<body>\n",
              "    <div>\n",
              "            <script src=\"https://cdnjs.cloudflare.com/ajax/libs/mathjax/2.7.5/MathJax.js?config=TeX-AMS-MML_SVG\"></script><script type=\"text/javascript\">if (window.MathJax) {MathJax.Hub.Config({SVG: {font: \"STIX-Web\"}});}</script>\n",
              "                <script type=\"text/javascript\">window.PlotlyConfig = {MathJaxConfig: 'local'};</script>\n",
              "        <script src=\"https://cdn.plot.ly/plotly-latest.min.js\"></script>    \n",
              "            <div id=\"38a6b8b9-4047-429b-9fe3-004f4e8e19a3\" class=\"plotly-graph-div\" style=\"height:525px; width:100%;\"></div>\n",
              "            <script type=\"text/javascript\">\n",
              "                \n",
              "                    window.PLOTLYENV=window.PLOTLYENV || {};\n",
              "                    \n",
              "                if (document.getElementById(\"38a6b8b9-4047-429b-9fe3-004f4e8e19a3\")) {\n",
              "                    Plotly.newPlot(\n",
              "                        '38a6b8b9-4047-429b-9fe3-004f4e8e19a3',\n",
              "                        [{\"name\": \"numerical integration\", \"type\": \"scatter\", \"x\": [0.0, 0.050505050505050504, 0.10101010101010101, 0.15151515151515152, 0.20202020202020202, 0.25252525252525254, 0.30303030303030304, 0.35353535353535354, 0.40404040404040403, 0.45454545454545453, 0.5050505050505051, 0.5555555555555556, 0.6060606060606061, 0.6565656565656566, 0.7070707070707071, 0.7575757575757576, 0.8080808080808081, 0.8585858585858586, 0.9090909090909091, 0.9595959595959596, 1.0101010101010102, 1.0606060606060606, 1.1111111111111112, 1.1616161616161615, 1.2121212121212122, 1.2626262626262625, 1.3131313131313131, 1.3636363636363635, 1.4141414141414141, 1.4646464646464645, 1.5151515151515151, 1.5656565656565655, 1.6161616161616161, 1.6666666666666667, 1.7171717171717171, 1.7676767676767677, 1.8181818181818181, 1.8686868686868687, 1.9191919191919191, 1.9696969696969697, 2.0202020202020203, 2.0707070707070705, 2.121212121212121, 2.1717171717171717, 2.2222222222222223, 2.2727272727272725, 2.323232323232323, 2.3737373737373737, 2.4242424242424243, 2.474747474747475, 2.525252525252525, 2.5757575757575757, 2.6262626262626263, 2.676767676767677, 2.727272727272727, 2.7777777777777777, 2.8282828282828283, 2.878787878787879, 2.929292929292929, 2.9797979797979797, 3.0303030303030303, 3.080808080808081, 3.131313131313131, 3.1818181818181817, 3.2323232323232323, 3.282828282828283, 3.3333333333333335, 3.3838383838383836, 3.4343434343434343, 3.484848484848485, 3.5353535353535355, 3.5858585858585856, 3.6363636363636362, 3.686868686868687, 3.7373737373737375, 3.7878787878787876, 3.8383838383838382, 3.888888888888889, 3.9393939393939394, 3.9898989898989896, 4.040404040404041, 4.090909090909091, 4.141414141414141, 4.191919191919192, 4.242424242424242, 4.292929292929293, 4.343434343434343, 4.393939393939394, 4.444444444444445, 4.494949494949495, 4.545454545454545, 4.595959595959596, 4.646464646464646, 4.696969696969697, 4.747474747474747, 4.797979797979798, 4.848484848484849, 4.898989898989899, 4.94949494949495, 5.0], \"y\": [1.0, 0.9520033279971118, 0.908857928081726, 0.870324892902647, 0.8361770568293609, 0.8061984376535476, 0.7801837479254469, 0.7579377106215157, 0.7392747245271101, 0.7240183218352624, 0.7120007272260239, 0.7030624284702491, 0.6970517664060253, 0.6938245544279211, 0.6932437147707994, 0.6951788864214975, 0.6995061478015099, 0.7061077097212279, 0.7148715743850519, 0.7256912269286553, 0.7384654127482719, 0.7530978786578835, 0.7694971028793567, 0.7875760686421398, 0.8072520469407399, 0.8284463839546815, 0.8510842987496059, 0.8750946949119824, 0.9004099757971503, 0.9269658748840485, 0.9547012904366163, 0.9835581290684761, 1.0134811584801255, 1.0444178725954696, 1.0763183446480151, 1.1091351065862185, 1.1428230348486592, 1.1773392202365058, 1.2126428698925455, 1.2486952043724147, 1.2854593462540476, 1.3229002393571292, 1.360984555812953, 1.399680602696391, 1.4389582535363605, 1.4787888648419183, 1.519145200139338, 1.560001369384188, 1.601332754822, 1.6431159501941959, 1.6853287056237138, 1.7279498627796392, 1.7709593066148912, 1.8143379163916493, 1.858067513728849, 1.9021308107219315, 1.9465113712914532, 1.9911935651360255, 2.036162539033742, 2.0814041709249986, 2.1269050301647088, 2.172652347212292, 2.2186339872215273, 2.264838409698019, 2.3112546413533503, 2.3578722510610635, 2.404681321322803, 2.4516724218422743, 2.498836586557552, 2.5461652927260037, 2.5936504366299906, 2.6412843136611475, 2.6890595987522086, 2.736969327506507, 2.7850068781701918, 2.833165954972532, 2.8814405731755386, 2.9298250422214585, 2.978313951513813, 3.02690215753379, 3.075584770116992, 3.1243571395074174, 3.1732148445523576, 3.2221536827162107, 3.2711696584422083, 3.320258972501991, 3.3694180124641324, 3.4186433445683235, 3.4679317041131785, 3.5172799868383042, 3.5666852411293792, 3.616144661359215, 3.665655579976568, 3.7152154605239414, 3.7648218912567506, 3.8144725797891117, 3.8641653465185475, 3.9138981189741586, 3.9636689266152016, 4.013475896386509]}],\n",
              "                        {\"template\": {\"data\": {\"bar\": [{\"error_x\": {\"color\": \"#2a3f5f\"}, \"error_y\": {\"color\": \"#2a3f5f\"}, \"marker\": {\"line\": {\"color\": \"#E5ECF6\", \"width\": 0.5}}, \"type\": \"bar\"}], \"barpolar\": [{\"marker\": {\"line\": {\"color\": \"#E5ECF6\", \"width\": 0.5}}, \"type\": \"barpolar\"}], \"carpet\": [{\"aaxis\": {\"endlinecolor\": \"#2a3f5f\", \"gridcolor\": \"white\", \"linecolor\": \"white\", \"minorgridcolor\": \"white\", \"startlinecolor\": \"#2a3f5f\"}, \"baxis\": {\"endlinecolor\": \"#2a3f5f\", \"gridcolor\": \"white\", \"linecolor\": \"white\", \"minorgridcolor\": \"white\", \"startlinecolor\": \"#2a3f5f\"}, \"type\": \"carpet\"}], \"choropleth\": [{\"colorbar\": {\"outlinewidth\": 0, \"ticks\": \"\"}, \"type\": \"choropleth\"}], \"contour\": [{\"colorbar\": {\"outlinewidth\": 0, \"ticks\": \"\"}, \"colorscale\": [[0.0, \"#0d0887\"], [0.1111111111111111, \"#46039f\"], [0.2222222222222222, \"#7201a8\"], [0.3333333333333333, \"#9c179e\"], [0.4444444444444444, \"#bd3786\"], [0.5555555555555556, \"#d8576b\"], [0.6666666666666666, \"#ed7953\"], [0.7777777777777778, \"#fb9f3a\"], [0.8888888888888888, \"#fdca26\"], [1.0, \"#f0f921\"]], \"type\": \"contour\"}], \"contourcarpet\": [{\"colorbar\": {\"outlinewidth\": 0, \"ticks\": \"\"}, \"type\": \"contourcarpet\"}], \"heatmap\": [{\"colorbar\": {\"outlinewidth\": 0, \"ticks\": \"\"}, \"colorscale\": [[0.0, \"#0d0887\"], [0.1111111111111111, \"#46039f\"], [0.2222222222222222, \"#7201a8\"], [0.3333333333333333, \"#9c179e\"], [0.4444444444444444, \"#bd3786\"], [0.5555555555555556, \"#d8576b\"], [0.6666666666666666, \"#ed7953\"], [0.7777777777777778, \"#fb9f3a\"], [0.8888888888888888, \"#fdca26\"], [1.0, \"#f0f921\"]], \"type\": \"heatmap\"}], \"heatmapgl\": [{\"colorbar\": {\"outlinewidth\": 0, \"ticks\": \"\"}, \"colorscale\": [[0.0, \"#0d0887\"], [0.1111111111111111, \"#46039f\"], [0.2222222222222222, \"#7201a8\"], [0.3333333333333333, \"#9c179e\"], [0.4444444444444444, \"#bd3786\"], [0.5555555555555556, \"#d8576b\"], [0.6666666666666666, \"#ed7953\"], [0.7777777777777778, \"#fb9f3a\"], [0.8888888888888888, \"#fdca26\"], [1.0, \"#f0f921\"]], \"type\": \"heatmapgl\"}], \"histogram\": [{\"marker\": {\"colorbar\": {\"outlinewidth\": 0, \"ticks\": \"\"}}, \"type\": \"histogram\"}], \"histogram2d\": [{\"colorbar\": {\"outlinewidth\": 0, \"ticks\": \"\"}, \"colorscale\": [[0.0, \"#0d0887\"], [0.1111111111111111, \"#46039f\"], [0.2222222222222222, \"#7201a8\"], [0.3333333333333333, \"#9c179e\"], [0.4444444444444444, \"#bd3786\"], [0.5555555555555556, \"#d8576b\"], [0.6666666666666666, \"#ed7953\"], [0.7777777777777778, \"#fb9f3a\"], [0.8888888888888888, \"#fdca26\"], [1.0, \"#f0f921\"]], \"type\": \"histogram2d\"}], \"histogram2dcontour\": [{\"colorbar\": {\"outlinewidth\": 0, \"ticks\": \"\"}, \"colorscale\": [[0.0, \"#0d0887\"], [0.1111111111111111, \"#46039f\"], [0.2222222222222222, \"#7201a8\"], [0.3333333333333333, \"#9c179e\"], [0.4444444444444444, \"#bd3786\"], [0.5555555555555556, \"#d8576b\"], [0.6666666666666666, \"#ed7953\"], [0.7777777777777778, \"#fb9f3a\"], [0.8888888888888888, \"#fdca26\"], [1.0, \"#f0f921\"]], \"type\": \"histogram2dcontour\"}], \"mesh3d\": [{\"colorbar\": {\"outlinewidth\": 0, \"ticks\": \"\"}, \"type\": \"mesh3d\"}], \"parcoords\": [{\"line\": {\"colorbar\": {\"outlinewidth\": 0, \"ticks\": \"\"}}, \"type\": \"parcoords\"}], \"pie\": [{\"automargin\": true, \"type\": \"pie\"}], \"scatter\": [{\"marker\": {\"colorbar\": {\"outlinewidth\": 0, \"ticks\": \"\"}}, \"type\": \"scatter\"}], \"scatter3d\": [{\"line\": {\"colorbar\": {\"outlinewidth\": 0, \"ticks\": \"\"}}, \"marker\": {\"colorbar\": {\"outlinewidth\": 0, \"ticks\": \"\"}}, \"type\": \"scatter3d\"}], \"scattercarpet\": [{\"marker\": {\"colorbar\": {\"outlinewidth\": 0, \"ticks\": \"\"}}, \"type\": \"scattercarpet\"}], \"scattergeo\": [{\"marker\": {\"colorbar\": {\"outlinewidth\": 0, \"ticks\": \"\"}}, \"type\": \"scattergeo\"}], \"scattergl\": [{\"marker\": {\"colorbar\": {\"outlinewidth\": 0, \"ticks\": \"\"}}, \"type\": \"scattergl\"}], \"scattermapbox\": [{\"marker\": {\"colorbar\": {\"outlinewidth\": 0, \"ticks\": \"\"}}, \"type\": \"scattermapbox\"}], \"scatterpolar\": [{\"marker\": {\"colorbar\": {\"outlinewidth\": 0, \"ticks\": \"\"}}, \"type\": \"scatterpolar\"}], \"scatterpolargl\": [{\"marker\": {\"colorbar\": {\"outlinewidth\": 0, \"ticks\": \"\"}}, \"type\": \"scatterpolargl\"}], \"scatterternary\": [{\"marker\": {\"colorbar\": {\"outlinewidth\": 0, \"ticks\": \"\"}}, \"type\": \"scatterternary\"}], \"surface\": [{\"colorbar\": {\"outlinewidth\": 0, \"ticks\": \"\"}, \"colorscale\": [[0.0, \"#0d0887\"], [0.1111111111111111, \"#46039f\"], [0.2222222222222222, \"#7201a8\"], [0.3333333333333333, \"#9c179e\"], [0.4444444444444444, \"#bd3786\"], [0.5555555555555556, \"#d8576b\"], [0.6666666666666666, \"#ed7953\"], [0.7777777777777778, \"#fb9f3a\"], [0.8888888888888888, \"#fdca26\"], [1.0, \"#f0f921\"]], \"type\": \"surface\"}], \"table\": [{\"cells\": {\"fill\": {\"color\": \"#EBF0F8\"}, \"line\": {\"color\": \"white\"}}, \"header\": {\"fill\": {\"color\": \"#C8D4E3\"}, \"line\": {\"color\": \"white\"}}, \"type\": \"table\"}]}, \"layout\": {\"annotationdefaults\": {\"arrowcolor\": \"#2a3f5f\", \"arrowhead\": 0, \"arrowwidth\": 1}, \"coloraxis\": {\"colorbar\": {\"outlinewidth\": 0, \"ticks\": \"\"}}, \"colorscale\": {\"diverging\": [[0, \"#8e0152\"], [0.1, \"#c51b7d\"], [0.2, \"#de77ae\"], [0.3, \"#f1b6da\"], [0.4, \"#fde0ef\"], [0.5, \"#f7f7f7\"], [0.6, \"#e6f5d0\"], [0.7, \"#b8e186\"], [0.8, \"#7fbc41\"], [0.9, \"#4d9221\"], [1, \"#276419\"]], \"sequential\": [[0.0, \"#0d0887\"], [0.1111111111111111, \"#46039f\"], [0.2222222222222222, \"#7201a8\"], [0.3333333333333333, \"#9c179e\"], [0.4444444444444444, \"#bd3786\"], [0.5555555555555556, \"#d8576b\"], [0.6666666666666666, \"#ed7953\"], [0.7777777777777778, \"#fb9f3a\"], [0.8888888888888888, \"#fdca26\"], [1.0, \"#f0f921\"]], \"sequentialminus\": [[0.0, \"#0d0887\"], [0.1111111111111111, \"#46039f\"], [0.2222222222222222, \"#7201a8\"], [0.3333333333333333, \"#9c179e\"], [0.4444444444444444, \"#bd3786\"], [0.5555555555555556, \"#d8576b\"], [0.6666666666666666, \"#ed7953\"], [0.7777777777777778, \"#fb9f3a\"], [0.8888888888888888, \"#fdca26\"], [1.0, \"#f0f921\"]]}, \"colorway\": [\"#636efa\", \"#EF553B\", \"#00cc96\", \"#ab63fa\", \"#FFA15A\", \"#19d3f3\", \"#FF6692\", \"#B6E880\", \"#FF97FF\", \"#FECB52\"], \"font\": {\"color\": \"#2a3f5f\"}, \"geo\": {\"bgcolor\": \"white\", \"lakecolor\": \"white\", \"landcolor\": \"#E5ECF6\", \"showlakes\": true, \"showland\": true, \"subunitcolor\": \"white\"}, \"hoverlabel\": {\"align\": \"left\"}, \"hovermode\": \"closest\", \"mapbox\": {\"style\": \"light\"}, \"paper_bgcolor\": \"white\", \"plot_bgcolor\": \"#E5ECF6\", \"polar\": {\"angularaxis\": {\"gridcolor\": \"white\", \"linecolor\": \"white\", \"ticks\": \"\"}, \"bgcolor\": \"#E5ECF6\", \"radialaxis\": {\"gridcolor\": \"white\", \"linecolor\": \"white\", \"ticks\": \"\"}}, \"scene\": {\"xaxis\": {\"backgroundcolor\": \"#E5ECF6\", \"gridcolor\": \"white\", \"gridwidth\": 2, \"linecolor\": \"white\", \"showbackground\": true, \"ticks\": \"\", \"zerolinecolor\": \"white\"}, \"yaxis\": {\"backgroundcolor\": \"#E5ECF6\", \"gridcolor\": \"white\", \"gridwidth\": 2, \"linecolor\": \"white\", \"showbackground\": true, \"ticks\": \"\", \"zerolinecolor\": \"white\"}, \"zaxis\": {\"backgroundcolor\": \"#E5ECF6\", \"gridcolor\": \"white\", \"gridwidth\": 2, \"linecolor\": \"white\", \"showbackground\": true, \"ticks\": \"\", \"zerolinecolor\": \"white\"}}, \"shapedefaults\": {\"line\": {\"color\": \"#2a3f5f\"}}, \"ternary\": {\"aaxis\": {\"gridcolor\": \"white\", \"linecolor\": \"white\", \"ticks\": \"\"}, \"baxis\": {\"gridcolor\": \"white\", \"linecolor\": \"white\", \"ticks\": \"\"}, \"bgcolor\": \"#E5ECF6\", \"caxis\": {\"gridcolor\": \"white\", \"linecolor\": \"white\", \"ticks\": \"\"}}, \"title\": {\"x\": 0.05}, \"xaxis\": {\"automargin\": true, \"gridcolor\": \"white\", \"linecolor\": \"white\", \"ticks\": \"\", \"title\": {\"standoff\": 15}, \"zerolinecolor\": \"white\", \"zerolinewidth\": 2}, \"yaxis\": {\"automargin\": true, \"gridcolor\": \"white\", \"linecolor\": \"white\", \"ticks\": \"\", \"title\": {\"standoff\": 15}, \"zerolinecolor\": \"white\", \"zerolinewidth\": 2}}}, \"title\": {\"text\": \"Numerical Integration of ODEs\"}},\n",
              "                        {\"responsive\": true}\n",
              "                    ).then(function(){\n",
              "                            \n",
              "var gd = document.getElementById('38a6b8b9-4047-429b-9fe3-004f4e8e19a3');\n",
              "var x = new MutationObserver(function (mutations, observer) {{\n",
              "        var display = window.getComputedStyle(gd).display;\n",
              "        if (!display || display === 'none') {{\n",
              "            console.log([gd, 'removed!']);\n",
              "            Plotly.purge(gd);\n",
              "            observer.disconnect();\n",
              "        }}\n",
              "}});\n",
              "\n",
              "// Listen for the removal of the full notebook cells\n",
              "var notebookContainer = gd.closest('#notebook-container');\n",
              "if (notebookContainer) {{\n",
              "    x.observe(notebookContainer, {childList: true});\n",
              "}}\n",
              "\n",
              "// Listen for the clearing of the current output cell\n",
              "var outputEl = gd.closest('.output');\n",
              "if (outputEl) {{\n",
              "    x.observe(outputEl, {childList: true});\n",
              "}}\n",
              "\n",
              "                        })\n",
              "                };\n",
              "                \n",
              "            </script>\n",
              "        </div>\n",
              "</body>\n",
              "</html>"
            ]
          },
          "metadata": {
            "tags": []
          }
        }
      ]
    },
    {
      "cell_type": "code",
      "metadata": {
        "id": "kT676nno0sVa",
        "colab_type": "code",
        "colab": {}
      },
      "source": [
        "# exact solution\n",
        "y_exact = xs - 1 + 2*np.exp(-xs)\n",
        "y_difference = ys - y_exact"
      ],
      "execution_count": 0,
      "outputs": []
    },
    {
      "cell_type": "code",
      "metadata": {
        "id": "SOwk0DqC1HAa",
        "colab_type": "code",
        "colab": {
          "base_uri": "https://localhost:8080/",
          "height": 542
        },
        "outputId": "229e19e3-b6f0-4a67-9eaa-9ab02ac95120"
      },
      "source": [
        "fig.add_scatter(x=xs, y=y_exact, name='analytic solution')"
      ],
      "execution_count": 63,
      "outputs": [
        {
          "output_type": "display_data",
          "data": {
            "text/html": [
              "<html>\n",
              "<head><meta charset=\"utf-8\" /></head>\n",
              "<body>\n",
              "    <div>\n",
              "            <script src=\"https://cdnjs.cloudflare.com/ajax/libs/mathjax/2.7.5/MathJax.js?config=TeX-AMS-MML_SVG\"></script><script type=\"text/javascript\">if (window.MathJax) {MathJax.Hub.Config({SVG: {font: \"STIX-Web\"}});}</script>\n",
              "                <script type=\"text/javascript\">window.PlotlyConfig = {MathJaxConfig: 'local'};</script>\n",
              "        <script src=\"https://cdn.plot.ly/plotly-latest.min.js\"></script>    \n",
              "            <div id=\"42ddf9ef-0103-4718-82e8-b67b93b938b4\" class=\"plotly-graph-div\" style=\"height:525px; width:100%;\"></div>\n",
              "            <script type=\"text/javascript\">\n",
              "                \n",
              "                    window.PLOTLYENV=window.PLOTLYENV || {};\n",
              "                    \n",
              "                if (document.getElementById(\"42ddf9ef-0103-4718-82e8-b67b93b938b4\")) {\n",
              "                    Plotly.newPlot(\n",
              "                        '42ddf9ef-0103-4718-82e8-b67b93b938b4',\n",
              "                        [{\"name\": \"numerical integration\", \"type\": \"scatter\", \"x\": [0.0, 0.050505050505050504, 0.10101010101010101, 0.15151515151515152, 0.20202020202020202, 0.25252525252525254, 0.30303030303030304, 0.35353535353535354, 0.40404040404040403, 0.45454545454545453, 0.5050505050505051, 0.5555555555555556, 0.6060606060606061, 0.6565656565656566, 0.7070707070707071, 0.7575757575757576, 0.8080808080808081, 0.8585858585858586, 0.9090909090909091, 0.9595959595959596, 1.0101010101010102, 1.0606060606060606, 1.1111111111111112, 1.1616161616161615, 1.2121212121212122, 1.2626262626262625, 1.3131313131313131, 1.3636363636363635, 1.4141414141414141, 1.4646464646464645, 1.5151515151515151, 1.5656565656565655, 1.6161616161616161, 1.6666666666666667, 1.7171717171717171, 1.7676767676767677, 1.8181818181818181, 1.8686868686868687, 1.9191919191919191, 1.9696969696969697, 2.0202020202020203, 2.0707070707070705, 2.121212121212121, 2.1717171717171717, 2.2222222222222223, 2.2727272727272725, 2.323232323232323, 2.3737373737373737, 2.4242424242424243, 2.474747474747475, 2.525252525252525, 2.5757575757575757, 2.6262626262626263, 2.676767676767677, 2.727272727272727, 2.7777777777777777, 2.8282828282828283, 2.878787878787879, 2.929292929292929, 2.9797979797979797, 3.0303030303030303, 3.080808080808081, 3.131313131313131, 3.1818181818181817, 3.2323232323232323, 3.282828282828283, 3.3333333333333335, 3.3838383838383836, 3.4343434343434343, 3.484848484848485, 3.5353535353535355, 3.5858585858585856, 3.6363636363636362, 3.686868686868687, 3.7373737373737375, 3.7878787878787876, 3.8383838383838382, 3.888888888888889, 3.9393939393939394, 3.9898989898989896, 4.040404040404041, 4.090909090909091, 4.141414141414141, 4.191919191919192, 4.242424242424242, 4.292929292929293, 4.343434343434343, 4.393939393939394, 4.444444444444445, 4.494949494949495, 4.545454545454545, 4.595959595959596, 4.646464646464646, 4.696969696969697, 4.747474747474747, 4.797979797979798, 4.848484848484849, 4.898989898989899, 4.94949494949495, 5.0], \"y\": [1.0, 0.9520033279971118, 0.908857928081726, 0.870324892902647, 0.8361770568293609, 0.8061984376535476, 0.7801837479254469, 0.7579377106215157, 0.7392747245271101, 0.7240183218352624, 0.7120007272260239, 0.7030624284702491, 0.6970517664060253, 0.6938245544279211, 0.6932437147707994, 0.6951788864214975, 0.6995061478015099, 0.7061077097212279, 0.7148715743850519, 0.7256912269286553, 0.7384654127482719, 0.7530978786578835, 0.7694971028793567, 0.7875760686421398, 0.8072520469407399, 0.8284463839546815, 0.8510842987496059, 0.8750946949119824, 0.9004099757971503, 0.9269658748840485, 0.9547012904366163, 0.9835581290684761, 1.0134811584801255, 1.0444178725954696, 1.0763183446480151, 1.1091351065862185, 1.1428230348486592, 1.1773392202365058, 1.2126428698925455, 1.2486952043724147, 1.2854593462540476, 1.3229002393571292, 1.360984555812953, 1.399680602696391, 1.4389582535363605, 1.4787888648419183, 1.519145200139338, 1.560001369384188, 1.601332754822, 1.6431159501941959, 1.6853287056237138, 1.7279498627796392, 1.7709593066148912, 1.8143379163916493, 1.858067513728849, 1.9021308107219315, 1.9465113712914532, 1.9911935651360255, 2.036162539033742, 2.0814041709249986, 2.1269050301647088, 2.172652347212292, 2.2186339872215273, 2.264838409698019, 2.3112546413533503, 2.3578722510610635, 2.404681321322803, 2.4516724218422743, 2.498836586557552, 2.5461652927260037, 2.5936504366299906, 2.6412843136611475, 2.6890595987522086, 2.736969327506507, 2.7850068781701918, 2.833165954972532, 2.8814405731755386, 2.9298250422214585, 2.978313951513813, 3.02690215753379, 3.075584770116992, 3.1243571395074174, 3.1732148445523576, 3.2221536827162107, 3.2711696584422083, 3.320258972501991, 3.3694180124641324, 3.4186433445683235, 3.4679317041131785, 3.5172799868383042, 3.5666852411293792, 3.616144661359215, 3.665655579976568, 3.7152154605239414, 3.7648218912567506, 3.8144725797891117, 3.8641653465185475, 3.9138981189741586, 3.9636689266152016, 4.013475896386509]}, {\"name\": \"analytic solution\", \"type\": \"scatter\", \"x\": [0.0, 0.050505050505050504, 0.10101010101010101, 0.15151515151515152, 0.20202020202020202, 0.25252525252525254, 0.30303030303030304, 0.35353535353535354, 0.40404040404040403, 0.45454545454545453, 0.5050505050505051, 0.5555555555555556, 0.6060606060606061, 0.6565656565656566, 0.7070707070707071, 0.7575757575757576, 0.8080808080808081, 0.8585858585858586, 0.9090909090909091, 0.9595959595959596, 1.0101010101010102, 1.0606060606060606, 1.1111111111111112, 1.1616161616161615, 1.2121212121212122, 1.2626262626262625, 1.3131313131313131, 1.3636363636363635, 1.4141414141414141, 1.4646464646464645, 1.5151515151515151, 1.5656565656565655, 1.6161616161616161, 1.6666666666666667, 1.7171717171717171, 1.7676767676767677, 1.8181818181818181, 1.8686868686868687, 1.9191919191919191, 1.9696969696969697, 2.0202020202020203, 2.0707070707070705, 2.121212121212121, 2.1717171717171717, 2.2222222222222223, 2.2727272727272725, 2.323232323232323, 2.3737373737373737, 2.4242424242424243, 2.474747474747475, 2.525252525252525, 2.5757575757575757, 2.6262626262626263, 2.676767676767677, 2.727272727272727, 2.7777777777777777, 2.8282828282828283, 2.878787878787879, 2.929292929292929, 2.9797979797979797, 3.0303030303030303, 3.080808080808081, 3.131313131313131, 3.1818181818181817, 3.2323232323232323, 3.282828282828283, 3.3333333333333335, 3.3838383838383836, 3.4343434343434343, 3.484848484848485, 3.5353535353535355, 3.5858585858585856, 3.6363636363636362, 3.686868686868687, 3.7373737373737375, 3.7878787878787876, 3.8383838383838382, 3.888888888888889, 3.9393939393939394, 3.9898989898989896, 4.040404040404041, 4.090909090909091, 4.141414141414141, 4.191919191919192, 4.242424242424242, 4.292929292929293, 4.343434343434343, 4.393939393939394, 4.444444444444445, 4.494949494949495, 4.545454545454545, 4.595959595959596, 4.646464646464646, 4.696969696969697, 4.747474747474747, 4.797979797979798, 4.848484848484849, 4.898989898989899, 4.94949494949495, 5.0], \"y\": [1.0, 0.9520033042989186, 0.9088579056006658, 0.8703248732921701, 0.8361770443016647, 0.806198443537004, 0.7801837328678991, 0.7579376872462598, 0.7392746966280646, 0.7240182924260183, 0.7120006972848242, 0.7030623970304211, 0.697051733701093, 0.6938245186221512, 0.6932436645370267, 0.6951788358562282, 0.6995061161318433, 0.7061076919092107, 0.7148715521491751, 0.725691202454056, 0.73846539336824, 0.7530978620602032, 0.7694970867269223, 0.7875760530940802, 0.8072520324163428, 0.8284463704113143, 0.8510842865886802, 0.8750946834625648, 0.9004099651603479, 0.9269658649651531, 0.9547012813520224, 0.9835581220994494, 1.0134811560785577, 1.0444178723417905, 1.0763183461516053, 1.1091351116073733, 1.1428230405455144, 1.1773392274039065, 1.212642879756822, 1.2486952142411178, 1.2854593576081463, 1.3229002526489504, 1.360984568752723, 1.39968061687034, 1.438958268666014, 1.4787888796508009, 1.519145216101847, 1.560001385580926, 1.6013327708750018, 1.6431159671902735, 1.6853287224394689, 1.727949880470044, 1.7709593270884376, 1.814337938742684, 1.8580675337324475, 1.9021308258220104, 1.9465113801378549, 1.9911935712383344, 2.036162543248445, 2.081404171957999, 2.1269050287864903, 2.17265234652273, 2.2186339867518234, 2.264838408886412, 2.311254640723137, 2.3578722504492378, 2.404681320027838, 2.451672419894038, 2.498836584897243, 2.546165291428351, 2.5936504356734513, 2.6412843129385433, 2.6890595979925336, 2.7369693263783557, 2.785006876644533, 2.8331659534518563, 2.88144057151207, 2.92982504031759, 2.9783139496232978, 3.0269021556433717, 3.0755847679279342, 3.1243571368860317, 3.173214841923126, 3.2221536801628203, 3.2711696557240475, 3.3202589695263747, 3.369418009597394, 3.4186433418574955, 3.4679317013584874, 3.517279983953725, 3.5666852383784984, 3.6161446587204615, 3.6656555772608987, 3.715215457668574, 3.764821888528775, 3.814472577191072, 3.864165343920072, 3.9138981163342486, 3.96366892411868, 4.013475893998171]}],\n",
              "                        {\"template\": {\"data\": {\"bar\": [{\"error_x\": {\"color\": \"#2a3f5f\"}, \"error_y\": {\"color\": \"#2a3f5f\"}, \"marker\": {\"line\": {\"color\": \"#E5ECF6\", \"width\": 0.5}}, \"type\": \"bar\"}], \"barpolar\": [{\"marker\": {\"line\": {\"color\": \"#E5ECF6\", \"width\": 0.5}}, \"type\": \"barpolar\"}], \"carpet\": [{\"aaxis\": {\"endlinecolor\": \"#2a3f5f\", \"gridcolor\": \"white\", \"linecolor\": \"white\", \"minorgridcolor\": \"white\", \"startlinecolor\": \"#2a3f5f\"}, \"baxis\": {\"endlinecolor\": \"#2a3f5f\", \"gridcolor\": \"white\", \"linecolor\": \"white\", \"minorgridcolor\": \"white\", \"startlinecolor\": \"#2a3f5f\"}, \"type\": \"carpet\"}], \"choropleth\": [{\"colorbar\": {\"outlinewidth\": 0, \"ticks\": \"\"}, \"type\": \"choropleth\"}], \"contour\": [{\"colorbar\": {\"outlinewidth\": 0, \"ticks\": \"\"}, \"colorscale\": [[0.0, \"#0d0887\"], [0.1111111111111111, \"#46039f\"], [0.2222222222222222, \"#7201a8\"], [0.3333333333333333, \"#9c179e\"], [0.4444444444444444, \"#bd3786\"], [0.5555555555555556, \"#d8576b\"], [0.6666666666666666, \"#ed7953\"], [0.7777777777777778, \"#fb9f3a\"], [0.8888888888888888, \"#fdca26\"], [1.0, \"#f0f921\"]], \"type\": \"contour\"}], \"contourcarpet\": [{\"colorbar\": {\"outlinewidth\": 0, \"ticks\": \"\"}, \"type\": \"contourcarpet\"}], \"heatmap\": [{\"colorbar\": {\"outlinewidth\": 0, \"ticks\": \"\"}, \"colorscale\": [[0.0, \"#0d0887\"], [0.1111111111111111, \"#46039f\"], [0.2222222222222222, \"#7201a8\"], [0.3333333333333333, \"#9c179e\"], [0.4444444444444444, \"#bd3786\"], [0.5555555555555556, \"#d8576b\"], [0.6666666666666666, \"#ed7953\"], [0.7777777777777778, \"#fb9f3a\"], [0.8888888888888888, \"#fdca26\"], [1.0, \"#f0f921\"]], \"type\": \"heatmap\"}], \"heatmapgl\": [{\"colorbar\": {\"outlinewidth\": 0, \"ticks\": \"\"}, \"colorscale\": [[0.0, \"#0d0887\"], [0.1111111111111111, \"#46039f\"], [0.2222222222222222, \"#7201a8\"], [0.3333333333333333, \"#9c179e\"], [0.4444444444444444, \"#bd3786\"], [0.5555555555555556, \"#d8576b\"], [0.6666666666666666, \"#ed7953\"], [0.7777777777777778, \"#fb9f3a\"], [0.8888888888888888, \"#fdca26\"], [1.0, \"#f0f921\"]], \"type\": \"heatmapgl\"}], \"histogram\": [{\"marker\": {\"colorbar\": {\"outlinewidth\": 0, \"ticks\": \"\"}}, \"type\": \"histogram\"}], \"histogram2d\": [{\"colorbar\": {\"outlinewidth\": 0, \"ticks\": \"\"}, \"colorscale\": [[0.0, \"#0d0887\"], [0.1111111111111111, \"#46039f\"], [0.2222222222222222, \"#7201a8\"], [0.3333333333333333, \"#9c179e\"], [0.4444444444444444, \"#bd3786\"], [0.5555555555555556, \"#d8576b\"], [0.6666666666666666, \"#ed7953\"], [0.7777777777777778, \"#fb9f3a\"], [0.8888888888888888, \"#fdca26\"], [1.0, \"#f0f921\"]], \"type\": \"histogram2d\"}], \"histogram2dcontour\": [{\"colorbar\": {\"outlinewidth\": 0, \"ticks\": \"\"}, \"colorscale\": [[0.0, \"#0d0887\"], [0.1111111111111111, \"#46039f\"], [0.2222222222222222, \"#7201a8\"], [0.3333333333333333, \"#9c179e\"], [0.4444444444444444, \"#bd3786\"], [0.5555555555555556, \"#d8576b\"], [0.6666666666666666, \"#ed7953\"], [0.7777777777777778, \"#fb9f3a\"], [0.8888888888888888, \"#fdca26\"], [1.0, \"#f0f921\"]], \"type\": \"histogram2dcontour\"}], \"mesh3d\": [{\"colorbar\": {\"outlinewidth\": 0, \"ticks\": \"\"}, \"type\": \"mesh3d\"}], \"parcoords\": [{\"line\": {\"colorbar\": {\"outlinewidth\": 0, \"ticks\": \"\"}}, \"type\": \"parcoords\"}], \"pie\": [{\"automargin\": true, \"type\": \"pie\"}], \"scatter\": [{\"marker\": {\"colorbar\": {\"outlinewidth\": 0, \"ticks\": \"\"}}, \"type\": \"scatter\"}], \"scatter3d\": [{\"line\": {\"colorbar\": {\"outlinewidth\": 0, \"ticks\": \"\"}}, \"marker\": {\"colorbar\": {\"outlinewidth\": 0, \"ticks\": \"\"}}, \"type\": \"scatter3d\"}], \"scattercarpet\": [{\"marker\": {\"colorbar\": {\"outlinewidth\": 0, \"ticks\": \"\"}}, \"type\": \"scattercarpet\"}], \"scattergeo\": [{\"marker\": {\"colorbar\": {\"outlinewidth\": 0, \"ticks\": \"\"}}, \"type\": \"scattergeo\"}], \"scattergl\": [{\"marker\": {\"colorbar\": {\"outlinewidth\": 0, \"ticks\": \"\"}}, \"type\": \"scattergl\"}], \"scattermapbox\": [{\"marker\": {\"colorbar\": {\"outlinewidth\": 0, \"ticks\": \"\"}}, \"type\": \"scattermapbox\"}], \"scatterpolar\": [{\"marker\": {\"colorbar\": {\"outlinewidth\": 0, \"ticks\": \"\"}}, \"type\": \"scatterpolar\"}], \"scatterpolargl\": [{\"marker\": {\"colorbar\": {\"outlinewidth\": 0, \"ticks\": \"\"}}, \"type\": \"scatterpolargl\"}], \"scatterternary\": [{\"marker\": {\"colorbar\": {\"outlinewidth\": 0, \"ticks\": \"\"}}, \"type\": \"scatterternary\"}], \"surface\": [{\"colorbar\": {\"outlinewidth\": 0, \"ticks\": \"\"}, \"colorscale\": [[0.0, \"#0d0887\"], [0.1111111111111111, \"#46039f\"], [0.2222222222222222, \"#7201a8\"], [0.3333333333333333, \"#9c179e\"], [0.4444444444444444, \"#bd3786\"], [0.5555555555555556, \"#d8576b\"], [0.6666666666666666, \"#ed7953\"], [0.7777777777777778, \"#fb9f3a\"], [0.8888888888888888, \"#fdca26\"], [1.0, \"#f0f921\"]], \"type\": \"surface\"}], \"table\": [{\"cells\": {\"fill\": {\"color\": \"#EBF0F8\"}, \"line\": {\"color\": \"white\"}}, \"header\": {\"fill\": {\"color\": \"#C8D4E3\"}, \"line\": {\"color\": \"white\"}}, \"type\": \"table\"}]}, \"layout\": {\"annotationdefaults\": {\"arrowcolor\": \"#2a3f5f\", \"arrowhead\": 0, \"arrowwidth\": 1}, \"coloraxis\": {\"colorbar\": {\"outlinewidth\": 0, \"ticks\": \"\"}}, \"colorscale\": {\"diverging\": [[0, \"#8e0152\"], [0.1, \"#c51b7d\"], [0.2, \"#de77ae\"], [0.3, \"#f1b6da\"], [0.4, \"#fde0ef\"], [0.5, \"#f7f7f7\"], [0.6, \"#e6f5d0\"], [0.7, \"#b8e186\"], [0.8, \"#7fbc41\"], [0.9, \"#4d9221\"], [1, \"#276419\"]], \"sequential\": [[0.0, \"#0d0887\"], [0.1111111111111111, \"#46039f\"], [0.2222222222222222, \"#7201a8\"], [0.3333333333333333, \"#9c179e\"], [0.4444444444444444, \"#bd3786\"], [0.5555555555555556, \"#d8576b\"], [0.6666666666666666, \"#ed7953\"], [0.7777777777777778, \"#fb9f3a\"], [0.8888888888888888, \"#fdca26\"], [1.0, \"#f0f921\"]], \"sequentialminus\": [[0.0, \"#0d0887\"], [0.1111111111111111, \"#46039f\"], [0.2222222222222222, \"#7201a8\"], [0.3333333333333333, \"#9c179e\"], [0.4444444444444444, \"#bd3786\"], [0.5555555555555556, \"#d8576b\"], [0.6666666666666666, \"#ed7953\"], [0.7777777777777778, \"#fb9f3a\"], [0.8888888888888888, \"#fdca26\"], [1.0, \"#f0f921\"]]}, \"colorway\": [\"#636efa\", \"#EF553B\", \"#00cc96\", \"#ab63fa\", \"#FFA15A\", \"#19d3f3\", \"#FF6692\", \"#B6E880\", \"#FF97FF\", \"#FECB52\"], \"font\": {\"color\": \"#2a3f5f\"}, \"geo\": {\"bgcolor\": \"white\", \"lakecolor\": \"white\", \"landcolor\": \"#E5ECF6\", \"showlakes\": true, \"showland\": true, \"subunitcolor\": \"white\"}, \"hoverlabel\": {\"align\": \"left\"}, \"hovermode\": \"closest\", \"mapbox\": {\"style\": \"light\"}, \"paper_bgcolor\": \"white\", \"plot_bgcolor\": \"#E5ECF6\", \"polar\": {\"angularaxis\": {\"gridcolor\": \"white\", \"linecolor\": \"white\", \"ticks\": \"\"}, \"bgcolor\": \"#E5ECF6\", \"radialaxis\": {\"gridcolor\": \"white\", \"linecolor\": \"white\", \"ticks\": \"\"}}, \"scene\": {\"xaxis\": {\"backgroundcolor\": \"#E5ECF6\", \"gridcolor\": \"white\", \"gridwidth\": 2, \"linecolor\": \"white\", \"showbackground\": true, \"ticks\": \"\", \"zerolinecolor\": \"white\"}, \"yaxis\": {\"backgroundcolor\": \"#E5ECF6\", \"gridcolor\": \"white\", \"gridwidth\": 2, \"linecolor\": \"white\", \"showbackground\": true, \"ticks\": \"\", \"zerolinecolor\": \"white\"}, \"zaxis\": {\"backgroundcolor\": \"#E5ECF6\", \"gridcolor\": \"white\", \"gridwidth\": 2, \"linecolor\": \"white\", \"showbackground\": true, \"ticks\": \"\", \"zerolinecolor\": \"white\"}}, \"shapedefaults\": {\"line\": {\"color\": \"#2a3f5f\"}}, \"ternary\": {\"aaxis\": {\"gridcolor\": \"white\", \"linecolor\": \"white\", \"ticks\": \"\"}, \"baxis\": {\"gridcolor\": \"white\", \"linecolor\": \"white\", \"ticks\": \"\"}, \"bgcolor\": \"#E5ECF6\", \"caxis\": {\"gridcolor\": \"white\", \"linecolor\": \"white\", \"ticks\": \"\"}}, \"title\": {\"x\": 0.05}, \"xaxis\": {\"automargin\": true, \"gridcolor\": \"white\", \"linecolor\": \"white\", \"ticks\": \"\", \"title\": {\"standoff\": 15}, \"zerolinecolor\": \"white\", \"zerolinewidth\": 2}, \"yaxis\": {\"automargin\": true, \"gridcolor\": \"white\", \"linecolor\": \"white\", \"ticks\": \"\", \"title\": {\"standoff\": 15}, \"zerolinecolor\": \"white\", \"zerolinewidth\": 2}}}, \"title\": {\"text\": \"Numerical Integration of ODEs\"}},\n",
              "                        {\"responsive\": true}\n",
              "                    ).then(function(){\n",
              "                            \n",
              "var gd = document.getElementById('42ddf9ef-0103-4718-82e8-b67b93b938b4');\n",
              "var x = new MutationObserver(function (mutations, observer) {{\n",
              "        var display = window.getComputedStyle(gd).display;\n",
              "        if (!display || display === 'none') {{\n",
              "            console.log([gd, 'removed!']);\n",
              "            Plotly.purge(gd);\n",
              "            observer.disconnect();\n",
              "        }}\n",
              "}});\n",
              "\n",
              "// Listen for the removal of the full notebook cells\n",
              "var notebookContainer = gd.closest('#notebook-container');\n",
              "if (notebookContainer) {{\n",
              "    x.observe(notebookContainer, {childList: true});\n",
              "}}\n",
              "\n",
              "// Listen for the clearing of the current output cell\n",
              "var outputEl = gd.closest('.output');\n",
              "if (outputEl) {{\n",
              "    x.observe(outputEl, {childList: true});\n",
              "}}\n",
              "\n",
              "                        })\n",
              "                };\n",
              "                \n",
              "            </script>\n",
              "        </div>\n",
              "</body>\n",
              "</html>"
            ]
          },
          "metadata": {
            "tags": []
          }
        }
      ]
    },
    {
      "cell_type": "code",
      "metadata": {
        "id": "dbvj2Icm1QQ_",
        "colab_type": "code",
        "colab": {}
      },
      "source": [
        "y_diff = np.abs(y_exact - ys)"
      ],
      "execution_count": 0,
      "outputs": []
    },
    {
      "cell_type": "code",
      "metadata": {
        "id": "7eLCe7tk15Tx",
        "colab_type": "code",
        "colab": {
          "base_uri": "https://localhost:8080/",
          "height": 542
        },
        "outputId": "497c1617-de5c-4d2c-849f-50af88cd5e02"
      },
      "source": [
        "fig_err = go.Figure(layout={\"title\":\"Error Numerical Integration vs Analytic Solution\"})\n",
        "fig_err.add_scatter(x=xs, y=y_diff)\n",
        "fig_err = fig_err.update_layout(yaxis_type=\"log\")\n",
        "fig_err.show()"
      ],
      "execution_count": 67,
      "outputs": [
        {
          "output_type": "display_data",
          "data": {
            "text/html": [
              "<html>\n",
              "<head><meta charset=\"utf-8\" /></head>\n",
              "<body>\n",
              "    <div>\n",
              "            <script src=\"https://cdnjs.cloudflare.com/ajax/libs/mathjax/2.7.5/MathJax.js?config=TeX-AMS-MML_SVG\"></script><script type=\"text/javascript\">if (window.MathJax) {MathJax.Hub.Config({SVG: {font: \"STIX-Web\"}});}</script>\n",
              "                <script type=\"text/javascript\">window.PlotlyConfig = {MathJaxConfig: 'local'};</script>\n",
              "        <script src=\"https://cdn.plot.ly/plotly-latest.min.js\"></script>    \n",
              "            <div id=\"e7349817-81d6-4bed-9460-cf4238be4e9c\" class=\"plotly-graph-div\" style=\"height:525px; width:100%;\"></div>\n",
              "            <script type=\"text/javascript\">\n",
              "                \n",
              "                    window.PLOTLYENV=window.PLOTLYENV || {};\n",
              "                    \n",
              "                if (document.getElementById(\"e7349817-81d6-4bed-9460-cf4238be4e9c\")) {\n",
              "                    Plotly.newPlot(\n",
              "                        'e7349817-81d6-4bed-9460-cf4238be4e9c',\n",
              "                        [{\"type\": \"scatter\", \"x\": [0.0, 0.050505050505050504, 0.10101010101010101, 0.15151515151515152, 0.20202020202020202, 0.25252525252525254, 0.30303030303030304, 0.35353535353535354, 0.40404040404040403, 0.45454545454545453, 0.5050505050505051, 0.5555555555555556, 0.6060606060606061, 0.6565656565656566, 0.7070707070707071, 0.7575757575757576, 0.8080808080808081, 0.8585858585858586, 0.9090909090909091, 0.9595959595959596, 1.0101010101010102, 1.0606060606060606, 1.1111111111111112, 1.1616161616161615, 1.2121212121212122, 1.2626262626262625, 1.3131313131313131, 1.3636363636363635, 1.4141414141414141, 1.4646464646464645, 1.5151515151515151, 1.5656565656565655, 1.6161616161616161, 1.6666666666666667, 1.7171717171717171, 1.7676767676767677, 1.8181818181818181, 1.8686868686868687, 1.9191919191919191, 1.9696969696969697, 2.0202020202020203, 2.0707070707070705, 2.121212121212121, 2.1717171717171717, 2.2222222222222223, 2.2727272727272725, 2.323232323232323, 2.3737373737373737, 2.4242424242424243, 2.474747474747475, 2.525252525252525, 2.5757575757575757, 2.6262626262626263, 2.676767676767677, 2.727272727272727, 2.7777777777777777, 2.8282828282828283, 2.878787878787879, 2.929292929292929, 2.9797979797979797, 3.0303030303030303, 3.080808080808081, 3.131313131313131, 3.1818181818181817, 3.2323232323232323, 3.282828282828283, 3.3333333333333335, 3.3838383838383836, 3.4343434343434343, 3.484848484848485, 3.5353535353535355, 3.5858585858585856, 3.6363636363636362, 3.686868686868687, 3.7373737373737375, 3.7878787878787876, 3.8383838383838382, 3.888888888888889, 3.9393939393939394, 3.9898989898989896, 4.040404040404041, 4.090909090909091, 4.141414141414141, 4.191919191919192, 4.242424242424242, 4.292929292929293, 4.343434343434343, 4.393939393939394, 4.444444444444445, 4.494949494949495, 4.545454545454545, 4.595959595959596, 4.646464646464646, 4.696969696969697, 4.747474747474747, 4.797979797979798, 4.848484848484849, 4.898989898989899, 4.94949494949495, 5.0], \"y\": [0.0, 2.3698193296617376e-08, 2.2481060235612915e-08, 1.9610476909015517e-08, 1.2527696213737727e-08, 5.883456388744435e-09, 1.5057547764207868e-08, 2.3375255953084206e-08, 2.789904551825373e-08, 2.940924404004619e-08, 2.9941199741756463e-08, 3.143982807429779e-08, 3.270493231788407e-08, 3.5805769904584395e-08, 5.023377269708362e-08, 5.056526930502514e-08, 3.1669666555877996e-08, 1.7812017194529517e-08, 2.2235876806497856e-08, 2.4474599236157246e-08, 1.9380031912596962e-08, 1.6597680230212575e-08, 1.6152434390015458e-08, 1.5548059617565002e-08, 1.452439712945619e-08, 1.3543367205492984e-08, 1.2160925710880122e-08, 1.144941763620011e-08, 1.0636802438845905e-08, 9.918895371718861e-09, 9.084593965980048e-09, 6.969026689063185e-09, 2.401567833487661e-09, 2.536790777440956e-10, 1.5035901412829844e-09, 5.021154825257668e-09, 5.696855209791352e-09, 7.167400672969393e-09, 9.864276506732494e-09, 9.86870318797628e-09, 1.1354098772287102e-08, 1.3291821199246101e-08, 1.2939769922226674e-08, 1.417394890346202e-08, 1.51296535300105e-08, 1.4808882564665282e-08, 1.5962509092304344e-08, 1.6196737950835427e-08, 1.6053001816729306e-08, 1.6996077656372677e-08, 1.6815755010668454e-08, 1.7690404696679707e-08, 2.0473546413768418e-08, 2.2351034578704798e-08, 2.00035985553626e-08, 1.5100078964991326e-08, 8.846401611251054e-09, 6.102308880429064e-09, 4.214702808980064e-09, 1.0330003519243292e-09, 1.3782184282717935e-09, 6.895621851299438e-10, 4.697038313850044e-10, 8.116072258701479e-10, 6.302132149471618e-10, 6.118257012133199e-10, 1.2949650241012023e-09, 1.948236239002199e-09, 1.6603092234390715e-09, 1.2976526519992149e-09, 9.565392922183946e-10, 7.226041986996279e-10, 7.596749895810717e-10, 1.1281513501160134e-09, 1.5256587104772734e-09, 1.5206755854535459e-09, 1.6634684740779448e-09, 1.903868618313709e-09, 1.8905152998627273e-09, 1.89041848841498e-09, 2.1890578238981107e-09, 2.6213857751145042e-09, 2.6292314991849253e-09, 2.5533903880159414e-09, 2.71816080754661e-09, 2.9756161978866658e-09, 2.866738402218516e-09, 2.710828006513566e-09, 2.7546911418596665e-09, 2.8845792421350325e-09, 2.750880856439153e-09, 2.6387536600225303e-09, 2.7156694670793513e-09, 2.855367498000305e-09, 2.7279756231735064e-09, 2.5980395612634766e-09, 2.5984756568675493e-09, 2.63991006832498e-09, 2.496521656070172e-09, 2.388337527747808e-09]}],\n",
              "                        {\"template\": {\"data\": {\"bar\": [{\"error_x\": {\"color\": \"#2a3f5f\"}, \"error_y\": {\"color\": \"#2a3f5f\"}, \"marker\": {\"line\": {\"color\": \"#E5ECF6\", \"width\": 0.5}}, \"type\": \"bar\"}], \"barpolar\": [{\"marker\": {\"line\": {\"color\": \"#E5ECF6\", \"width\": 0.5}}, \"type\": \"barpolar\"}], \"carpet\": [{\"aaxis\": {\"endlinecolor\": \"#2a3f5f\", \"gridcolor\": \"white\", \"linecolor\": \"white\", \"minorgridcolor\": \"white\", \"startlinecolor\": \"#2a3f5f\"}, \"baxis\": {\"endlinecolor\": \"#2a3f5f\", \"gridcolor\": \"white\", \"linecolor\": \"white\", \"minorgridcolor\": \"white\", \"startlinecolor\": \"#2a3f5f\"}, \"type\": \"carpet\"}], \"choropleth\": [{\"colorbar\": {\"outlinewidth\": 0, \"ticks\": \"\"}, \"type\": \"choropleth\"}], \"contour\": [{\"colorbar\": {\"outlinewidth\": 0, \"ticks\": \"\"}, \"colorscale\": [[0.0, \"#0d0887\"], [0.1111111111111111, \"#46039f\"], [0.2222222222222222, \"#7201a8\"], [0.3333333333333333, \"#9c179e\"], [0.4444444444444444, \"#bd3786\"], [0.5555555555555556, \"#d8576b\"], [0.6666666666666666, \"#ed7953\"], [0.7777777777777778, \"#fb9f3a\"], [0.8888888888888888, \"#fdca26\"], [1.0, \"#f0f921\"]], \"type\": \"contour\"}], \"contourcarpet\": [{\"colorbar\": {\"outlinewidth\": 0, \"ticks\": \"\"}, \"type\": \"contourcarpet\"}], \"heatmap\": [{\"colorbar\": {\"outlinewidth\": 0, \"ticks\": \"\"}, \"colorscale\": [[0.0, \"#0d0887\"], [0.1111111111111111, \"#46039f\"], [0.2222222222222222, \"#7201a8\"], [0.3333333333333333, \"#9c179e\"], [0.4444444444444444, \"#bd3786\"], [0.5555555555555556, \"#d8576b\"], [0.6666666666666666, \"#ed7953\"], [0.7777777777777778, \"#fb9f3a\"], [0.8888888888888888, \"#fdca26\"], [1.0, \"#f0f921\"]], \"type\": \"heatmap\"}], \"heatmapgl\": [{\"colorbar\": {\"outlinewidth\": 0, \"ticks\": \"\"}, \"colorscale\": [[0.0, \"#0d0887\"], [0.1111111111111111, \"#46039f\"], [0.2222222222222222, \"#7201a8\"], [0.3333333333333333, \"#9c179e\"], [0.4444444444444444, \"#bd3786\"], [0.5555555555555556, \"#d8576b\"], [0.6666666666666666, \"#ed7953\"], [0.7777777777777778, \"#fb9f3a\"], [0.8888888888888888, \"#fdca26\"], [1.0, \"#f0f921\"]], \"type\": \"heatmapgl\"}], \"histogram\": [{\"marker\": {\"colorbar\": {\"outlinewidth\": 0, \"ticks\": \"\"}}, \"type\": \"histogram\"}], \"histogram2d\": [{\"colorbar\": {\"outlinewidth\": 0, \"ticks\": \"\"}, \"colorscale\": [[0.0, \"#0d0887\"], [0.1111111111111111, \"#46039f\"], [0.2222222222222222, \"#7201a8\"], [0.3333333333333333, \"#9c179e\"], [0.4444444444444444, \"#bd3786\"], [0.5555555555555556, \"#d8576b\"], [0.6666666666666666, \"#ed7953\"], [0.7777777777777778, \"#fb9f3a\"], [0.8888888888888888, \"#fdca26\"], [1.0, \"#f0f921\"]], \"type\": \"histogram2d\"}], \"histogram2dcontour\": [{\"colorbar\": {\"outlinewidth\": 0, \"ticks\": \"\"}, \"colorscale\": [[0.0, \"#0d0887\"], [0.1111111111111111, \"#46039f\"], [0.2222222222222222, \"#7201a8\"], [0.3333333333333333, \"#9c179e\"], [0.4444444444444444, \"#bd3786\"], [0.5555555555555556, \"#d8576b\"], [0.6666666666666666, \"#ed7953\"], [0.7777777777777778, \"#fb9f3a\"], [0.8888888888888888, \"#fdca26\"], [1.0, \"#f0f921\"]], \"type\": \"histogram2dcontour\"}], \"mesh3d\": [{\"colorbar\": {\"outlinewidth\": 0, \"ticks\": \"\"}, \"type\": \"mesh3d\"}], \"parcoords\": [{\"line\": {\"colorbar\": {\"outlinewidth\": 0, \"ticks\": \"\"}}, \"type\": \"parcoords\"}], \"pie\": [{\"automargin\": true, \"type\": \"pie\"}], \"scatter\": [{\"marker\": {\"colorbar\": {\"outlinewidth\": 0, \"ticks\": \"\"}}, \"type\": \"scatter\"}], \"scatter3d\": [{\"line\": {\"colorbar\": {\"outlinewidth\": 0, \"ticks\": \"\"}}, \"marker\": {\"colorbar\": {\"outlinewidth\": 0, \"ticks\": \"\"}}, \"type\": \"scatter3d\"}], \"scattercarpet\": [{\"marker\": {\"colorbar\": {\"outlinewidth\": 0, \"ticks\": \"\"}}, \"type\": \"scattercarpet\"}], \"scattergeo\": [{\"marker\": {\"colorbar\": {\"outlinewidth\": 0, \"ticks\": \"\"}}, \"type\": \"scattergeo\"}], \"scattergl\": [{\"marker\": {\"colorbar\": {\"outlinewidth\": 0, \"ticks\": \"\"}}, \"type\": \"scattergl\"}], \"scattermapbox\": [{\"marker\": {\"colorbar\": {\"outlinewidth\": 0, \"ticks\": \"\"}}, \"type\": \"scattermapbox\"}], \"scatterpolar\": [{\"marker\": {\"colorbar\": {\"outlinewidth\": 0, \"ticks\": \"\"}}, \"type\": \"scatterpolar\"}], \"scatterpolargl\": [{\"marker\": {\"colorbar\": {\"outlinewidth\": 0, \"ticks\": \"\"}}, \"type\": \"scatterpolargl\"}], \"scatterternary\": [{\"marker\": {\"colorbar\": {\"outlinewidth\": 0, \"ticks\": \"\"}}, \"type\": \"scatterternary\"}], \"surface\": [{\"colorbar\": {\"outlinewidth\": 0, \"ticks\": \"\"}, \"colorscale\": [[0.0, \"#0d0887\"], [0.1111111111111111, \"#46039f\"], [0.2222222222222222, \"#7201a8\"], [0.3333333333333333, \"#9c179e\"], [0.4444444444444444, \"#bd3786\"], [0.5555555555555556, \"#d8576b\"], [0.6666666666666666, \"#ed7953\"], [0.7777777777777778, \"#fb9f3a\"], [0.8888888888888888, \"#fdca26\"], [1.0, \"#f0f921\"]], \"type\": \"surface\"}], \"table\": [{\"cells\": {\"fill\": {\"color\": \"#EBF0F8\"}, \"line\": {\"color\": \"white\"}}, \"header\": {\"fill\": {\"color\": \"#C8D4E3\"}, \"line\": {\"color\": \"white\"}}, \"type\": \"table\"}]}, \"layout\": {\"annotationdefaults\": {\"arrowcolor\": \"#2a3f5f\", \"arrowhead\": 0, \"arrowwidth\": 1}, \"coloraxis\": {\"colorbar\": {\"outlinewidth\": 0, \"ticks\": \"\"}}, \"colorscale\": {\"diverging\": [[0, \"#8e0152\"], [0.1, \"#c51b7d\"], [0.2, \"#de77ae\"], [0.3, \"#f1b6da\"], [0.4, \"#fde0ef\"], [0.5, \"#f7f7f7\"], [0.6, \"#e6f5d0\"], [0.7, \"#b8e186\"], [0.8, \"#7fbc41\"], [0.9, \"#4d9221\"], [1, \"#276419\"]], \"sequential\": [[0.0, \"#0d0887\"], [0.1111111111111111, \"#46039f\"], [0.2222222222222222, \"#7201a8\"], [0.3333333333333333, \"#9c179e\"], [0.4444444444444444, \"#bd3786\"], [0.5555555555555556, \"#d8576b\"], [0.6666666666666666, \"#ed7953\"], [0.7777777777777778, \"#fb9f3a\"], [0.8888888888888888, \"#fdca26\"], [1.0, \"#f0f921\"]], \"sequentialminus\": [[0.0, \"#0d0887\"], [0.1111111111111111, \"#46039f\"], [0.2222222222222222, \"#7201a8\"], [0.3333333333333333, \"#9c179e\"], [0.4444444444444444, \"#bd3786\"], [0.5555555555555556, \"#d8576b\"], [0.6666666666666666, \"#ed7953\"], [0.7777777777777778, \"#fb9f3a\"], [0.8888888888888888, \"#fdca26\"], [1.0, \"#f0f921\"]]}, \"colorway\": [\"#636efa\", \"#EF553B\", \"#00cc96\", \"#ab63fa\", \"#FFA15A\", \"#19d3f3\", \"#FF6692\", \"#B6E880\", \"#FF97FF\", \"#FECB52\"], \"font\": {\"color\": \"#2a3f5f\"}, \"geo\": {\"bgcolor\": \"white\", \"lakecolor\": \"white\", \"landcolor\": \"#E5ECF6\", \"showlakes\": true, \"showland\": true, \"subunitcolor\": \"white\"}, \"hoverlabel\": {\"align\": \"left\"}, \"hovermode\": \"closest\", \"mapbox\": {\"style\": \"light\"}, \"paper_bgcolor\": \"white\", \"plot_bgcolor\": \"#E5ECF6\", \"polar\": {\"angularaxis\": {\"gridcolor\": \"white\", \"linecolor\": \"white\", \"ticks\": \"\"}, \"bgcolor\": \"#E5ECF6\", \"radialaxis\": {\"gridcolor\": \"white\", \"linecolor\": \"white\", \"ticks\": \"\"}}, \"scene\": {\"xaxis\": {\"backgroundcolor\": \"#E5ECF6\", \"gridcolor\": \"white\", \"gridwidth\": 2, \"linecolor\": \"white\", \"showbackground\": true, \"ticks\": \"\", \"zerolinecolor\": \"white\"}, \"yaxis\": {\"backgroundcolor\": \"#E5ECF6\", \"gridcolor\": \"white\", \"gridwidth\": 2, \"linecolor\": \"white\", \"showbackground\": true, \"ticks\": \"\", \"zerolinecolor\": \"white\"}, \"zaxis\": {\"backgroundcolor\": \"#E5ECF6\", \"gridcolor\": \"white\", \"gridwidth\": 2, \"linecolor\": \"white\", \"showbackground\": true, \"ticks\": \"\", \"zerolinecolor\": \"white\"}}, \"shapedefaults\": {\"line\": {\"color\": \"#2a3f5f\"}}, \"ternary\": {\"aaxis\": {\"gridcolor\": \"white\", \"linecolor\": \"white\", \"ticks\": \"\"}, \"baxis\": {\"gridcolor\": \"white\", \"linecolor\": \"white\", \"ticks\": \"\"}, \"bgcolor\": \"#E5ECF6\", \"caxis\": {\"gridcolor\": \"white\", \"linecolor\": \"white\", \"ticks\": \"\"}}, \"title\": {\"x\": 0.05}, \"xaxis\": {\"automargin\": true, \"gridcolor\": \"white\", \"linecolor\": \"white\", \"ticks\": \"\", \"title\": {\"standoff\": 15}, \"zerolinecolor\": \"white\", \"zerolinewidth\": 2}, \"yaxis\": {\"automargin\": true, \"gridcolor\": \"white\", \"linecolor\": \"white\", \"ticks\": \"\", \"title\": {\"standoff\": 15}, \"zerolinecolor\": \"white\", \"zerolinewidth\": 2}}}, \"title\": {\"text\": \"Error Numerical Integration vs Analytic Solution\"}, \"yaxis\": {\"type\": \"log\"}},\n",
              "                        {\"responsive\": true}\n",
              "                    ).then(function(){\n",
              "                            \n",
              "var gd = document.getElementById('e7349817-81d6-4bed-9460-cf4238be4e9c');\n",
              "var x = new MutationObserver(function (mutations, observer) {{\n",
              "        var display = window.getComputedStyle(gd).display;\n",
              "        if (!display || display === 'none') {{\n",
              "            console.log([gd, 'removed!']);\n",
              "            Plotly.purge(gd);\n",
              "            observer.disconnect();\n",
              "        }}\n",
              "}});\n",
              "\n",
              "// Listen for the removal of the full notebook cells\n",
              "var notebookContainer = gd.closest('#notebook-container');\n",
              "if (notebookContainer) {{\n",
              "    x.observe(notebookContainer, {childList: true});\n",
              "}}\n",
              "\n",
              "// Listen for the clearing of the current output cell\n",
              "var outputEl = gd.closest('.output');\n",
              "if (outputEl) {{\n",
              "    x.observe(outputEl, {childList: true});\n",
              "}}\n",
              "\n",
              "                        })\n",
              "                };\n",
              "                \n",
              "            </script>\n",
              "        </div>\n",
              "</body>\n",
              "</html>"
            ]
          },
          "metadata": {
            "tags": []
          }
        }
      ]
    },
    {
      "cell_type": "markdown",
      "metadata": {
        "id": "LuaId1we2IKY",
        "colab_type": "text"
      },
      "source": [
        "# Second Order Differntial Equations\n",
        "\n",
        "Suppose we have a second-order ODE such as a damped simple harmonic motion equation,\n",
        "$y″+2y′+2y = cos(2x), \\quad y(0)=0,\\ y′(0)=0$\n",
        " \n",
        "We can turn this into two first-order equations by defining a new dependent variable. For example,\n",
        "$z≡y′⇒z′+2z+2y=cos(2x), \\quad z(0)=y(0)=0$.\n",
        " \n",
        "We can solve this system of ODEs using \"odeint\" with lists, as follows:"
      ]
    },
    {
      "cell_type": "code",
      "metadata": {
        "id": "ljD9Cyfu3q_r",
        "colab_type": "code",
        "colab": {}
      },
      "source": [
        "def dU_dx(U, x):\n",
        "    # Here U is a vector such that y=U[0] and z=U[1]. This function should return [y', z']\n",
        "    return [U[1], -2*U[1] - 2*U[0] + np.cos(2*x)]\n",
        "    \n",
        "U0 = [0, 0]\n",
        "xs = np.linspace(0, 10, 200)\n",
        "Us = odeint(dU_dx, U0, xs)\n",
        "ys = Us[:,0]"
      ],
      "execution_count": 0,
      "outputs": []
    },
    {
      "cell_type": "code",
      "metadata": {
        "id": "3gfcFz3d6FFm",
        "colab_type": "code",
        "colab": {}
      },
      "source": [
        "fig_damped = go.Figure(layout={\"title\":\"Damped Harmonic Oscillator\"})"
      ],
      "execution_count": 0,
      "outputs": []
    },
    {
      "cell_type": "code",
      "metadata": {
        "id": "n7-pbPg46erZ",
        "colab_type": "code",
        "colab": {
          "base_uri": "https://localhost:8080/",
          "height": 542
        },
        "outputId": "50803e4b-e0d3-4203-fbf2-3a7d5979760a"
      },
      "source": [
        "fig_damped.add_scatter(x=xs, y=ys)\n",
        "fig_damped.show()"
      ],
      "execution_count": 79,
      "outputs": [
        {
          "output_type": "display_data",
          "data": {
            "text/html": [
              "<html>\n",
              "<head><meta charset=\"utf-8\" /></head>\n",
              "<body>\n",
              "    <div>\n",
              "            <script src=\"https://cdnjs.cloudflare.com/ajax/libs/mathjax/2.7.5/MathJax.js?config=TeX-AMS-MML_SVG\"></script><script type=\"text/javascript\">if (window.MathJax) {MathJax.Hub.Config({SVG: {font: \"STIX-Web\"}});}</script>\n",
              "                <script type=\"text/javascript\">window.PlotlyConfig = {MathJaxConfig: 'local'};</script>\n",
              "        <script src=\"https://cdn.plot.ly/plotly-latest.min.js\"></script>    \n",
              "            <div id=\"844214f0-2173-4815-859e-0cf95c441908\" class=\"plotly-graph-div\" style=\"height:525px; width:100%;\"></div>\n",
              "            <script type=\"text/javascript\">\n",
              "                \n",
              "                    window.PLOTLYENV=window.PLOTLYENV || {};\n",
              "                    \n",
              "                if (document.getElementById(\"844214f0-2173-4815-859e-0cf95c441908\")) {\n",
              "                    Plotly.newPlot(\n",
              "                        '844214f0-2173-4815-859e-0cf95c441908',\n",
              "                        [{\"type\": \"scatter\", \"x\": [0.0, 0.05025125628140704, 0.10050251256281408, 0.15075376884422112, 0.20100502512562815, 0.2512562814070352, 0.30150753768844224, 0.35175879396984927, 0.4020100502512563, 0.45226130653266333, 0.5025125628140704, 0.5527638190954774, 0.6030150753768845, 0.6532663316582915, 0.7035175879396985, 0.7537688442211056, 0.8040201005025126, 0.8542713567839196, 0.9045226130653267, 0.9547738693467337, 1.0050251256281408, 1.0552763819095479, 1.105527638190955, 1.155778894472362, 1.206030150753769, 1.256281407035176, 1.306532663316583, 1.35678391959799, 1.407035175879397, 1.4572864321608041, 1.5075376884422111, 1.5577889447236182, 1.6080402010050252, 1.6582914572864322, 1.7085427135678393, 1.7587939698492463, 1.8090452261306533, 1.8592964824120604, 1.9095477386934674, 1.9597989949748744, 2.0100502512562817, 2.0603015075376887, 2.1105527638190957, 2.1608040201005028, 2.21105527638191, 2.261306532663317, 2.311557788944724, 2.361809045226131, 2.412060301507538, 2.462311557788945, 2.512562814070352, 2.562814070351759, 2.613065326633166, 2.663316582914573, 2.71356783919598, 2.763819095477387, 2.814070351758794, 2.864321608040201, 2.9145728643216082, 2.9648241206030153, 3.0150753768844223, 3.0653266331658293, 3.1155778894472363, 3.1658291457286434, 3.2160804020100504, 3.2663316582914574, 3.3165829145728645, 3.3668341708542715, 3.4170854271356785, 3.4673366834170856, 3.5175879396984926, 3.5678391959798996, 3.6180904522613067, 3.6683417085427137, 3.7185929648241207, 3.7688442211055277, 3.819095477386935, 3.869346733668342, 3.919597989949749, 3.969849246231156, 4.020100502512563, 4.07035175879397, 4.120603015075377, 4.170854271356784, 4.2211055276381915, 4.2713567839195985, 4.3216080402010055, 4.371859296482413, 4.42211055276382, 4.472361809045227, 4.522613065326634, 4.572864321608041, 4.623115577889448, 4.673366834170855, 4.723618090452262, 4.773869346733669, 4.824120603015076, 4.874371859296483, 4.92462311557789, 4.974874371859297, 5.025125628140704, 5.075376884422111, 5.125628140703518, 5.175879396984925, 5.226130653266332, 5.276381909547739, 5.326633165829146, 5.376884422110553, 5.42713567839196, 5.477386934673367, 5.527638190954774, 5.577889447236181, 5.628140703517588, 5.678391959798995, 5.728643216080402, 5.778894472361809, 5.8291457286432165, 5.8793969849246235, 5.9296482412060305, 5.9798994974874375, 6.030150753768845, 6.080402010050252, 6.130653266331659, 6.180904522613066, 6.231155778894473, 6.28140703517588, 6.331658291457287, 6.381909547738694, 6.432160804020101, 6.482412060301508, 6.532663316582915, 6.582914572864322, 6.633165829145729, 6.683417085427136, 6.733668341708543, 6.78391959798995, 6.834170854271357, 6.884422110552764, 6.934673366834171, 6.984924623115578, 7.035175879396985, 7.085427135678392, 7.135678391959799, 7.185929648241206, 7.236180904522613, 7.28643216080402, 7.336683417085427, 7.386934673366834, 7.437185929648241, 7.4874371859296485, 7.5376884422110555, 7.5879396984924625, 7.63819095477387, 7.688442211055277, 7.738693467336684, 7.788944723618091, 7.839195979899498, 7.889447236180905, 7.939698492462312, 7.989949748743719, 8.040201005025127, 8.090452261306533, 8.14070351758794, 8.190954773869347, 8.241206030150755, 8.291457286432161, 8.341708542713569, 8.391959798994975, 8.442211055276383, 8.492462311557789, 8.542713567839197, 8.592964824120603, 8.643216080402011, 8.693467336683417, 8.743718592964825, 8.793969849246231, 8.84422110552764, 8.894472361809045, 8.944723618090453, 8.99497487437186, 9.045226130653267, 9.095477386934673, 9.145728643216081, 9.195979899497488, 9.246231155778895, 9.296482412060302, 9.34673366834171, 9.396984924623116, 9.447236180904524, 9.49748743718593, 9.547738693467338, 9.597989949748744, 9.648241206030152, 9.698492462311558, 9.748743718592966, 9.798994974874372, 9.84924623115578, 9.899497487437186, 9.949748743718594, 10.0], \"y\": [0.0, 0.0012197955791494323, 0.004704191934338188, 0.010183523952515788, 0.017380597010769182, 0.026013357344102914, 0.03579754981647965, 0.0464493528917429, 0.05768798095972473, 0.0692382321947031, 0.08083293567559842, 0.0922152951711682, 0.10314112923705561, 0.11338094860834604, 0.12272188567774404, 0.13096943542307715, 0.13794901584873379, 0.14350731747656187, 0.14751343684405938, 0.14985979007483086, 0.15046278399903454, 0.14926325828582324, 0.1462266834623121, 0.14134311694605212, 0.1346269202312955, 0.12611624067287946, 0.11587226245977808, 0.10397823665437458, 0.09053830175514728, 0.07567609946003878, 0.05953321795784666, 0.04226745589149624, 0.024050942229115593, 0.005068121555791394, -0.014486370436997523, -0.03440992274025834, -0.05449422633673058, -0.07452760176501419, -0.09429734646161847, -0.11359207784611132, -0.13220405192106038, -0.14993143309346071, -0.1665804923981606, -0.18196771199744488, -0.19592177635813965, -0.20828542867377364, -0.21891717549658735, -0.22769282325428666, -0.23450682898761477, -0.23927345514811196, -0.24192771627283652, -0.2424261061301546, -0.24074710270205693, -0.2368914429712051, -0.23088216495423183, -0.22276442113075573, -0.21260506012888672, -0.20049198344372313, -0.18653328873994351, -0.1708561982256409, -0.1536057937215489, -0.13494356619363695, -0.11504579533482885, -0.09410177699597486, -0.07231191580826052, -0.049885703898964615, -0.027039603055163786, -0.003994852235222533, 0.01902476925192082, 0.04179520556113597, 0.06409440267324483, 0.08570456037625626, 0.10641433745891322, 0.12602100631674393, 0.14433251405259398, 0.16116942946896784, 0.17636677772952483, 0.1897757229759758, 0.2012650807292502, 0.21072266564621223, 0.21805644219385667, 0.22319546561452985, 0.22609062018776294, 0.2267151328564084, 0.22506485728076364, 0.22115833565248852, 0.21503662789544475, 0.20676291237744718, 0.196421865993195, 0.18411882354046444, 0.16997873002492572, 0.15414489585702085, 0.13677756147191464, 0.11805229477211021, 0.09815823477328199, 0.07729619036717401, 0.055676626775202326, 0.03351755693345048, 0.01104234559977256, -0.011522533951524146, -0.03394977002964115, -0.05601350502967657, -0.07749160625628637, -0.09816789248512299, -0.11783431610380639, -0.13629305646918516, -0.1533585021046577, -0.1688591253517114, -0.1826392090707826, -0.19456040584117876, -0.20450313575238374, -0.21236779018844698, -0.21807572752754045, -0.221570067889712, -0.22281626485219688, -0.22180244774898325, -0.21853954191186903, -0.21306115620191174, -0.20542324053112804, -0.19570352143828146, -0.18400071506568957, -0.1704335298713514, -0.15513946959365088, -0.1382734420260277, -0.12000619599847588, -0.10052260077820341, -0.08001977559752987, -0.058705101175576965, -0.03679413154777639, -0.014508412726969396, 0.00792675238281245, 0.030284570933273778, 0.05233905571153365, 0.07386730550871803, 0.09465174628142711, 0.11448233387368184, 0.1331586740325209, 0.15049203583691956, 0.1663072627562733, 0.18044454094955767, 0.19276100370577223, 0.2031321783824566, 0.2114532432159559, 0.21764007836658752, 0.22163011833309798, 0.22338298357782804, 0.2228808834302853, 0.22012879753546133, 0.21515442501366802, 0.20800790246935622, 0.19876129904757572, 0.18750788737862387, 0.1743612013291583, 0.15945389153043893, 0.14293638347921966, 0.12497535891395824, 0.10575207715573276, 0.08546053630434242, 0.06430552680743457, 0.04250055551852486, 0.020265695170793206, -0.0021746409197665947, -0.024593962149436564, -0.04676598812584529, -0.06846693110423943, -0.08947775489588379, -0.10958638704006118, -0.12858985867057807, -0.14629635265016608, -0.16252714086879358, -0.17711838722055157, -0.18992280185886345, -0.20081112812139157, -0.20967344580138872, -0.2164202829202255, -0.22098351724215398, -0.22331706371737634, -0.22339734132779984, -0.22122350936530288, -0.21681747678644503, -0.2102236819437841, -0.20150864248762781, -0.19076028554403715, -0.17808706015885153, -0.16361684167226342, -0.14749564298263804, -0.12988613940602833, -0.11096602906785652, -0.09092623638975227, -0.06996898766997799, -0.04830576930283623, -0.026155193578208027, -0.003740792342692468, 0.018711238983207108, 0.040974321810690856, 0.06282378947845263, 0.08403914318778694, 0.10440628533232317, 0.12371967919434569, 0.1417844177892408]}],\n",
              "                        {\"template\": {\"data\": {\"bar\": [{\"error_x\": {\"color\": \"#2a3f5f\"}, \"error_y\": {\"color\": \"#2a3f5f\"}, \"marker\": {\"line\": {\"color\": \"#E5ECF6\", \"width\": 0.5}}, \"type\": \"bar\"}], \"barpolar\": [{\"marker\": {\"line\": {\"color\": \"#E5ECF6\", \"width\": 0.5}}, \"type\": \"barpolar\"}], \"carpet\": [{\"aaxis\": {\"endlinecolor\": \"#2a3f5f\", \"gridcolor\": \"white\", \"linecolor\": \"white\", \"minorgridcolor\": \"white\", \"startlinecolor\": \"#2a3f5f\"}, \"baxis\": {\"endlinecolor\": \"#2a3f5f\", \"gridcolor\": \"white\", \"linecolor\": \"white\", \"minorgridcolor\": \"white\", \"startlinecolor\": \"#2a3f5f\"}, \"type\": \"carpet\"}], \"choropleth\": [{\"colorbar\": {\"outlinewidth\": 0, \"ticks\": \"\"}, \"type\": \"choropleth\"}], \"contour\": [{\"colorbar\": {\"outlinewidth\": 0, \"ticks\": \"\"}, \"colorscale\": [[0.0, \"#0d0887\"], [0.1111111111111111, \"#46039f\"], [0.2222222222222222, \"#7201a8\"], [0.3333333333333333, \"#9c179e\"], [0.4444444444444444, \"#bd3786\"], [0.5555555555555556, \"#d8576b\"], [0.6666666666666666, \"#ed7953\"], [0.7777777777777778, \"#fb9f3a\"], [0.8888888888888888, \"#fdca26\"], [1.0, \"#f0f921\"]], \"type\": \"contour\"}], \"contourcarpet\": [{\"colorbar\": {\"outlinewidth\": 0, \"ticks\": \"\"}, \"type\": \"contourcarpet\"}], \"heatmap\": [{\"colorbar\": {\"outlinewidth\": 0, \"ticks\": \"\"}, \"colorscale\": [[0.0, \"#0d0887\"], [0.1111111111111111, \"#46039f\"], [0.2222222222222222, \"#7201a8\"], [0.3333333333333333, \"#9c179e\"], [0.4444444444444444, \"#bd3786\"], [0.5555555555555556, \"#d8576b\"], [0.6666666666666666, \"#ed7953\"], [0.7777777777777778, \"#fb9f3a\"], [0.8888888888888888, \"#fdca26\"], [1.0, \"#f0f921\"]], \"type\": \"heatmap\"}], \"heatmapgl\": [{\"colorbar\": {\"outlinewidth\": 0, \"ticks\": \"\"}, \"colorscale\": [[0.0, \"#0d0887\"], [0.1111111111111111, \"#46039f\"], [0.2222222222222222, \"#7201a8\"], [0.3333333333333333, \"#9c179e\"], [0.4444444444444444, \"#bd3786\"], [0.5555555555555556, \"#d8576b\"], [0.6666666666666666, \"#ed7953\"], [0.7777777777777778, \"#fb9f3a\"], [0.8888888888888888, \"#fdca26\"], [1.0, \"#f0f921\"]], \"type\": \"heatmapgl\"}], \"histogram\": [{\"marker\": {\"colorbar\": {\"outlinewidth\": 0, \"ticks\": \"\"}}, \"type\": \"histogram\"}], \"histogram2d\": [{\"colorbar\": {\"outlinewidth\": 0, \"ticks\": \"\"}, \"colorscale\": [[0.0, \"#0d0887\"], [0.1111111111111111, \"#46039f\"], [0.2222222222222222, \"#7201a8\"], [0.3333333333333333, \"#9c179e\"], [0.4444444444444444, \"#bd3786\"], [0.5555555555555556, \"#d8576b\"], [0.6666666666666666, \"#ed7953\"], [0.7777777777777778, \"#fb9f3a\"], [0.8888888888888888, \"#fdca26\"], [1.0, \"#f0f921\"]], \"type\": \"histogram2d\"}], \"histogram2dcontour\": [{\"colorbar\": {\"outlinewidth\": 0, \"ticks\": \"\"}, \"colorscale\": [[0.0, \"#0d0887\"], [0.1111111111111111, \"#46039f\"], [0.2222222222222222, \"#7201a8\"], [0.3333333333333333, \"#9c179e\"], [0.4444444444444444, \"#bd3786\"], [0.5555555555555556, \"#d8576b\"], [0.6666666666666666, \"#ed7953\"], [0.7777777777777778, \"#fb9f3a\"], [0.8888888888888888, \"#fdca26\"], [1.0, \"#f0f921\"]], \"type\": \"histogram2dcontour\"}], \"mesh3d\": [{\"colorbar\": {\"outlinewidth\": 0, \"ticks\": \"\"}, \"type\": \"mesh3d\"}], \"parcoords\": [{\"line\": {\"colorbar\": {\"outlinewidth\": 0, \"ticks\": \"\"}}, \"type\": \"parcoords\"}], \"pie\": [{\"automargin\": true, \"type\": \"pie\"}], \"scatter\": [{\"marker\": {\"colorbar\": {\"outlinewidth\": 0, \"ticks\": \"\"}}, \"type\": \"scatter\"}], \"scatter3d\": [{\"line\": {\"colorbar\": {\"outlinewidth\": 0, \"ticks\": \"\"}}, \"marker\": {\"colorbar\": {\"outlinewidth\": 0, \"ticks\": \"\"}}, \"type\": \"scatter3d\"}], \"scattercarpet\": [{\"marker\": {\"colorbar\": {\"outlinewidth\": 0, \"ticks\": \"\"}}, \"type\": \"scattercarpet\"}], \"scattergeo\": [{\"marker\": {\"colorbar\": {\"outlinewidth\": 0, \"ticks\": \"\"}}, \"type\": \"scattergeo\"}], \"scattergl\": [{\"marker\": {\"colorbar\": {\"outlinewidth\": 0, \"ticks\": \"\"}}, \"type\": \"scattergl\"}], \"scattermapbox\": [{\"marker\": {\"colorbar\": {\"outlinewidth\": 0, \"ticks\": \"\"}}, \"type\": \"scattermapbox\"}], \"scatterpolar\": [{\"marker\": {\"colorbar\": {\"outlinewidth\": 0, \"ticks\": \"\"}}, \"type\": \"scatterpolar\"}], \"scatterpolargl\": [{\"marker\": {\"colorbar\": {\"outlinewidth\": 0, \"ticks\": \"\"}}, \"type\": \"scatterpolargl\"}], \"scatterternary\": [{\"marker\": {\"colorbar\": {\"outlinewidth\": 0, \"ticks\": \"\"}}, \"type\": \"scatterternary\"}], \"surface\": [{\"colorbar\": {\"outlinewidth\": 0, \"ticks\": \"\"}, \"colorscale\": [[0.0, \"#0d0887\"], [0.1111111111111111, \"#46039f\"], [0.2222222222222222, \"#7201a8\"], [0.3333333333333333, \"#9c179e\"], [0.4444444444444444, \"#bd3786\"], [0.5555555555555556, \"#d8576b\"], [0.6666666666666666, \"#ed7953\"], [0.7777777777777778, \"#fb9f3a\"], [0.8888888888888888, \"#fdca26\"], [1.0, \"#f0f921\"]], \"type\": \"surface\"}], \"table\": [{\"cells\": {\"fill\": {\"color\": \"#EBF0F8\"}, \"line\": {\"color\": \"white\"}}, \"header\": {\"fill\": {\"color\": \"#C8D4E3\"}, \"line\": {\"color\": \"white\"}}, \"type\": \"table\"}]}, \"layout\": {\"annotationdefaults\": {\"arrowcolor\": \"#2a3f5f\", \"arrowhead\": 0, \"arrowwidth\": 1}, \"coloraxis\": {\"colorbar\": {\"outlinewidth\": 0, \"ticks\": \"\"}}, \"colorscale\": {\"diverging\": [[0, \"#8e0152\"], [0.1, \"#c51b7d\"], [0.2, \"#de77ae\"], [0.3, \"#f1b6da\"], [0.4, \"#fde0ef\"], [0.5, \"#f7f7f7\"], [0.6, \"#e6f5d0\"], [0.7, \"#b8e186\"], [0.8, \"#7fbc41\"], [0.9, \"#4d9221\"], [1, \"#276419\"]], \"sequential\": [[0.0, \"#0d0887\"], [0.1111111111111111, \"#46039f\"], [0.2222222222222222, \"#7201a8\"], [0.3333333333333333, \"#9c179e\"], [0.4444444444444444, \"#bd3786\"], [0.5555555555555556, \"#d8576b\"], [0.6666666666666666, \"#ed7953\"], [0.7777777777777778, \"#fb9f3a\"], [0.8888888888888888, \"#fdca26\"], [1.0, \"#f0f921\"]], \"sequentialminus\": [[0.0, \"#0d0887\"], [0.1111111111111111, \"#46039f\"], [0.2222222222222222, \"#7201a8\"], [0.3333333333333333, \"#9c179e\"], [0.4444444444444444, \"#bd3786\"], [0.5555555555555556, \"#d8576b\"], [0.6666666666666666, \"#ed7953\"], [0.7777777777777778, \"#fb9f3a\"], [0.8888888888888888, \"#fdca26\"], [1.0, \"#f0f921\"]]}, \"colorway\": [\"#636efa\", \"#EF553B\", \"#00cc96\", \"#ab63fa\", \"#FFA15A\", \"#19d3f3\", \"#FF6692\", \"#B6E880\", \"#FF97FF\", \"#FECB52\"], \"font\": {\"color\": \"#2a3f5f\"}, \"geo\": {\"bgcolor\": \"white\", \"lakecolor\": \"white\", \"landcolor\": \"#E5ECF6\", \"showlakes\": true, \"showland\": true, \"subunitcolor\": \"white\"}, \"hoverlabel\": {\"align\": \"left\"}, \"hovermode\": \"closest\", \"mapbox\": {\"style\": \"light\"}, \"paper_bgcolor\": \"white\", \"plot_bgcolor\": \"#E5ECF6\", \"polar\": {\"angularaxis\": {\"gridcolor\": \"white\", \"linecolor\": \"white\", \"ticks\": \"\"}, \"bgcolor\": \"#E5ECF6\", \"radialaxis\": {\"gridcolor\": \"white\", \"linecolor\": \"white\", \"ticks\": \"\"}}, \"scene\": {\"xaxis\": {\"backgroundcolor\": \"#E5ECF6\", \"gridcolor\": \"white\", \"gridwidth\": 2, \"linecolor\": \"white\", \"showbackground\": true, \"ticks\": \"\", \"zerolinecolor\": \"white\"}, \"yaxis\": {\"backgroundcolor\": \"#E5ECF6\", \"gridcolor\": \"white\", \"gridwidth\": 2, \"linecolor\": \"white\", \"showbackground\": true, \"ticks\": \"\", \"zerolinecolor\": \"white\"}, \"zaxis\": {\"backgroundcolor\": \"#E5ECF6\", \"gridcolor\": \"white\", \"gridwidth\": 2, \"linecolor\": \"white\", \"showbackground\": true, \"ticks\": \"\", \"zerolinecolor\": \"white\"}}, \"shapedefaults\": {\"line\": {\"color\": \"#2a3f5f\"}}, \"ternary\": {\"aaxis\": {\"gridcolor\": \"white\", \"linecolor\": \"white\", \"ticks\": \"\"}, \"baxis\": {\"gridcolor\": \"white\", \"linecolor\": \"white\", \"ticks\": \"\"}, \"bgcolor\": \"#E5ECF6\", \"caxis\": {\"gridcolor\": \"white\", \"linecolor\": \"white\", \"ticks\": \"\"}}, \"title\": {\"x\": 0.05}, \"xaxis\": {\"automargin\": true, \"gridcolor\": \"white\", \"linecolor\": \"white\", \"ticks\": \"\", \"title\": {\"standoff\": 15}, \"zerolinecolor\": \"white\", \"zerolinewidth\": 2}, \"yaxis\": {\"automargin\": true, \"gridcolor\": \"white\", \"linecolor\": \"white\", \"ticks\": \"\", \"title\": {\"standoff\": 15}, \"zerolinecolor\": \"white\", \"zerolinewidth\": 2}}}, \"title\": {\"text\": \"Damped Harmonic Oscillator\"}},\n",
              "                        {\"responsive\": true}\n",
              "                    ).then(function(){\n",
              "                            \n",
              "var gd = document.getElementById('844214f0-2173-4815-859e-0cf95c441908');\n",
              "var x = new MutationObserver(function (mutations, observer) {{\n",
              "        var display = window.getComputedStyle(gd).display;\n",
              "        if (!display || display === 'none') {{\n",
              "            console.log([gd, 'removed!']);\n",
              "            Plotly.purge(gd);\n",
              "            observer.disconnect();\n",
              "        }}\n",
              "}});\n",
              "\n",
              "// Listen for the removal of the full notebook cells\n",
              "var notebookContainer = gd.closest('#notebook-container');\n",
              "if (notebookContainer) {{\n",
              "    x.observe(notebookContainer, {childList: true});\n",
              "}}\n",
              "\n",
              "// Listen for the clearing of the current output cell\n",
              "var outputEl = gd.closest('.output');\n",
              "if (outputEl) {{\n",
              "    x.observe(outputEl, {childList: true});\n",
              "}}\n",
              "\n",
              "                        })\n",
              "                };\n",
              "                \n",
              "            </script>\n",
              "        </div>\n",
              "</body>\n",
              "</html>"
            ]
          },
          "metadata": {
            "tags": []
          }
        }
      ]
    },
    {
      "cell_type": "markdown",
      "metadata": {
        "id": "rED6BuGb6irr",
        "colab_type": "text"
      },
      "source": [
        "## Predator-Prey Equations\n",
        "\n",
        "Also known as Lotka-Volterra equations, the predator-prey equations are a pair of first-order non-linear ordinary differential equations. They represent a simplified model of the change in populations of two species which interact via predation. For example, foxes (predators) and rabbits (prey). Let  x  and  y  represent rabbit and fox populations, respectively. Then\n",
        "\n",
        "$\\frac{dx}{dt}=x(a−by)$\n",
        "\n",
        "$ \\frac{dy}{dt}=−y(c−dx)$\n",
        " \n",
        "Here  a ,  b ,  c  and  d  are parameters, which are assumed to be positive."
      ]
    },
    {
      "cell_type": "code",
      "metadata": {
        "id": "BekBFLc58G4T",
        "colab_type": "code",
        "colab": {}
      },
      "source": [
        "a,b,c,d = 1,1,1,1\n",
        "\n",
        "def dP_dt(P, t):\n",
        "    return [P[0]*(a - b*P[1]), -P[1]*(c - d*P[0])]\n",
        "\n",
        "ts = np.linspace(0, 12, 100)\n",
        "P0 = [1.5, 1.0]\n",
        "Ps = odeint(dP_dt, P0, ts)\n",
        "prey = Ps[:,0]\n",
        "predators = Ps[:,1]"
      ],
      "execution_count": 0,
      "outputs": []
    },
    {
      "cell_type": "code",
      "metadata": {
        "id": "Oac0gtXt8tXC",
        "colab_type": "code",
        "colab": {
          "base_uri": "https://localhost:8080/",
          "height": 542
        },
        "outputId": "25560546-282f-41ce-ae5b-40d141bb04ae"
      },
      "source": [
        "fig_prey = go.Figure(layout={\"title\":\"Rabbits and Foxes\"})\n",
        "fig_prey.add_scatter(x=ts, y=prey, name=\"Rabbits\")\n",
        "fig_prey.add_scatter(x=ts, y=predators, name=\"Foxes\")\n",
        "fig_prey.show()"
      ],
      "execution_count": 87,
      "outputs": [
        {
          "output_type": "display_data",
          "data": {
            "text/html": [
              "<html>\n",
              "<head><meta charset=\"utf-8\" /></head>\n",
              "<body>\n",
              "    <div>\n",
              "            <script src=\"https://cdnjs.cloudflare.com/ajax/libs/mathjax/2.7.5/MathJax.js?config=TeX-AMS-MML_SVG\"></script><script type=\"text/javascript\">if (window.MathJax) {MathJax.Hub.Config({SVG: {font: \"STIX-Web\"}});}</script>\n",
              "                <script type=\"text/javascript\">window.PlotlyConfig = {MathJaxConfig: 'local'};</script>\n",
              "        <script src=\"https://cdn.plot.ly/plotly-latest.min.js\"></script>    \n",
              "            <div id=\"25b22873-5933-4333-9d28-d77b4d3e8f4f\" class=\"plotly-graph-div\" style=\"height:525px; width:100%;\"></div>\n",
              "            <script type=\"text/javascript\">\n",
              "                \n",
              "                    window.PLOTLYENV=window.PLOTLYENV || {};\n",
              "                    \n",
              "                if (document.getElementById(\"25b22873-5933-4333-9d28-d77b4d3e8f4f\")) {\n",
              "                    Plotly.newPlot(\n",
              "                        '25b22873-5933-4333-9d28-d77b4d3e8f4f',\n",
              "                        [{\"name\": \"Rabbits\", \"type\": \"scatter\", \"x\": [0.0, 0.12121212121212122, 0.24242424242424243, 0.36363636363636365, 0.48484848484848486, 0.6060606060606061, 0.7272727272727273, 0.8484848484848485, 0.9696969696969697, 1.0909090909090908, 1.2121212121212122, 1.3333333333333335, 1.4545454545454546, 1.5757575757575757, 1.696969696969697, 1.8181818181818183, 1.9393939393939394, 2.0606060606060606, 2.1818181818181817, 2.303030303030303, 2.4242424242424243, 2.5454545454545454, 2.666666666666667, 2.787878787878788, 2.909090909090909, 3.0303030303030303, 3.1515151515151514, 3.272727272727273, 3.393939393939394, 3.515151515151515, 3.6363636363636367, 3.757575757575758, 3.878787878787879, 4.0, 4.121212121212121, 4.242424242424242, 4.363636363636363, 4.484848484848485, 4.606060606060606, 4.7272727272727275, 4.848484848484849, 4.96969696969697, 5.090909090909091, 5.212121212121212, 5.333333333333334, 5.454545454545455, 5.575757575757576, 5.696969696969697, 5.818181818181818, 5.9393939393939394, 6.0606060606060606, 6.181818181818182, 6.303030303030303, 6.424242424242425, 6.545454545454546, 6.666666666666667, 6.787878787878788, 6.909090909090909, 7.03030303030303, 7.151515151515151, 7.272727272727273, 7.3939393939393945, 7.515151515151516, 7.636363636363637, 7.757575757575758, 7.878787878787879, 8.0, 8.121212121212121, 8.242424242424242, 8.363636363636363, 8.484848484848484, 8.606060606060606, 8.727272727272727, 8.84848484848485, 8.96969696969697, 9.090909090909092, 9.212121212121213, 9.333333333333334, 9.454545454545455, 9.575757575757576, 9.696969696969697, 9.818181818181818, 9.93939393939394, 10.06060606060606, 10.181818181818182, 10.303030303030303, 10.424242424242424, 10.545454545454545, 10.666666666666668, 10.787878787878789, 10.90909090909091, 11.030303030303031, 11.151515151515152, 11.272727272727273, 11.393939393939394, 11.515151515151516, 11.636363636363637, 11.757575757575758, 11.878787878787879, 12.0], \"y\": [1.5, 1.4943986175595163, 1.4773970293558094, 1.4491177805470208, 1.410273863523341, 1.3621512634550246, 1.3065177683524112, 1.2454686455788042, 1.1812359545294877, 1.115995408271943, 1.0517036070242873, 0.9899872932465065, 0.9320913432470249, 0.8788794995454606, 0.8308733434046222, 0.7883129141819245, 0.7512244067196635, 0.7194846194229798, 0.6928762206786543, 0.6711315457404511, 0.653965040280717, 0.6410957824994425, 0.6322620215669973, 0.6272296528054955, 0.6257963207056201, 0.6277924736615872, 0.6330803799474269, 0.6415518000755078, 0.6531247784212474, 0.6677398290332957, 0.685355655838249, 0.7059444393596491, 0.7294866786345122, 0.7559654499782957, 0.7853599978003062, 0.8176384786662142, 0.8527496861114578, 0.8906135782745094, 0.9311104420312466, 0.9740685703399847, 1.0192504231364807, 1.0663373587352627, 1.1149132535700752, 1.164447600063738, 1.2142794062875213, 1.2636031836418127, 1.3114599532646491, 1.3567362803247014, 1.3981758502614108, 1.4344078298293925, 1.4639971675820251, 1.4855197260570958, 1.497662584474968, 1.4993445768681115, 1.4898450745456617, 1.468922805908474, 1.4369007495382273, 1.3946946512356597, 1.343770002706538, 1.2860270962903433, 1.223630628431906, 1.1588141338525626, 1.0936940177639136, 1.0301230001298265, 0.969599472019733, 0.9132349239538907, 0.8617696323366575, 0.8156209203872823, 0.7749476570270565, 0.7397177939429594, 0.7097700951967353, 0.6848655797109167, 0.6647273141036686, 0.6490692360951016, 0.6376157161421782, 0.6301138019726747, 0.6263400218154711, 0.6261032988552011, 0.6292452113366682, 0.6356384843088768, 0.6451843082015539, 0.6578089095196374, 0.6734595607247672, 0.692100154567928, 0.7137063428424296, 0.7382601850608623, 0.7657441999147069, 0.7961346886796294, 0.8293941418791074, 0.8654625745141424, 0.9042475984074028, 0.945613089308471, 0.9893663439297667, 1.0352437265951, 1.0828949682709492, 1.131866530090244, 1.1815847614684305, 1.2313403975754285, 1.2802758559894825, 1.3273786446266516]}, {\"name\": \"Foxes\", \"type\": \"scatter\", \"x\": [0.0, 0.12121212121212122, 0.24242424242424243, 0.36363636363636365, 0.48484848484848486, 0.6060606060606061, 0.7272727272727273, 0.8484848484848485, 0.9696969696969697, 1.0909090909090908, 1.2121212121212122, 1.3333333333333335, 1.4545454545454546, 1.5757575757575757, 1.696969696969697, 1.8181818181818183, 1.9393939393939394, 2.0606060606060606, 2.1818181818181817, 2.303030303030303, 2.4242424242424243, 2.5454545454545454, 2.666666666666667, 2.787878787878788, 2.909090909090909, 3.0303030303030303, 3.1515151515151514, 3.272727272727273, 3.393939393939394, 3.515151515151515, 3.6363636363636367, 3.757575757575758, 3.878787878787879, 4.0, 4.121212121212121, 4.242424242424242, 4.363636363636363, 4.484848484848485, 4.606060606060606, 4.7272727272727275, 4.848484848484849, 4.96969696969697, 5.090909090909091, 5.212121212121212, 5.333333333333334, 5.454545454545455, 5.575757575757576, 5.696969696969697, 5.818181818181818, 5.9393939393939394, 6.0606060606060606, 6.181818181818182, 6.303030303030303, 6.424242424242425, 6.545454545454546, 6.666666666666667, 6.787878787878788, 6.909090909090909, 7.03030303030303, 7.151515151515151, 7.272727272727273, 7.3939393939393945, 7.515151515151516, 7.636363636363637, 7.757575757575758, 7.878787878787879, 8.0, 8.121212121212121, 8.242424242424242, 8.363636363636363, 8.484848484848484, 8.606060606060606, 8.727272727272727, 8.84848484848485, 8.96969696969697, 9.090909090909092, 9.212121212121213, 9.333333333333334, 9.454545454545455, 9.575757575757576, 9.696969696969697, 9.818181818181818, 9.93939393939394, 10.06060606060606, 10.181818181818182, 10.303030303030303, 10.424242424242424, 10.545454545454545, 10.666666666666668, 10.787878787878789, 10.90909090909091, 11.030303030303031, 11.151515151515152, 11.272727272727273, 11.393939393939394, 11.515151515151516, 11.636363636363637, 11.757575757575758, 11.878787878787879, 12.0], \"y\": [1.0, 1.0622406911855928, 1.1268125237824003, 1.1920287799097495, 1.2558872374223613, 1.3161903953932126, 1.3707151409372849, 1.4174079518272429, 1.4545718479166607, 1.4810116244442975, 1.4961131170982795, 1.4998486273217628, 1.4927171483037023, 1.4756391293662408, 1.4498298462897325, 1.4166728962027133, 1.3776089811682608, 1.3340481759469895, 1.287307747055663, 1.238573529975542, 1.1888807291083185, 1.1391093407139439, 1.089989687362252, 1.0421143054236068, 0.9959532620004661, 0.9518708902421409, 0.9101424944345732, 0.8709702278671044, 0.8344976544892455, 0.8008228194627105, 0.7700097985537953, 0.7420988256086656, 0.71711512020911, 0.6950766343697052, 0.6760008531005428, 0.6599108393657264, 0.6468406649485877, 0.6368403374294713, 0.6299802912854336, 0.6263554411243655, 0.6260887094284947, 0.6293338305298656, 0.6362770648383489, 0.647137286602771, 0.6621634093948687, 0.6816283763906882, 0.7058177389734703, 0.7350113533563449, 0.7694559380573018, 0.8093270469987464, 0.8546792795998387, 0.9053858589951845, 0.9610715132284146, 1.0210467409202657, 1.0842563642092617, 1.1492578395046154, 1.2142460619650441, 1.2771352382438255, 1.3356980255595654, 1.38774726628793, 1.4313323949164778, 1.4649155425859355, 1.4874960858865753, 1.4986644955172612, 1.4985836916749125, 1.487911006758138, 1.4676829286618434, 1.4391863499226083, 1.4038359581636124, 1.3630705175768967, 1.3182739464243738, 1.2707215933118394, 1.221548846415544, 1.1717374707063266, 1.122114993670387, 1.0733628005710951, 1.0260294808991686, 0.9805468432365553, 0.937246754214224, 0.8963776337598421, 0.858119925246013, 0.8226001427138063, 0.7899034233556138, 0.7600845694760979, 0.733177713279454, 0.7092047570748774, 0.6881827693535075, 0.6701304994743893, 0.655074211409721, 0.6430529219136941, 0.6341231789476908, 0.6283634002511237, 0.6258777618856352, 0.6267995090077897, 0.631293435631214, 0.6395571048615765, 0.6518201834943279, 0.6683407434745976, 0.6893976671995278, 0.715277018757792]}],\n",
              "                        {\"template\": {\"data\": {\"bar\": [{\"error_x\": {\"color\": \"#2a3f5f\"}, \"error_y\": {\"color\": \"#2a3f5f\"}, \"marker\": {\"line\": {\"color\": \"#E5ECF6\", \"width\": 0.5}}, \"type\": \"bar\"}], \"barpolar\": [{\"marker\": {\"line\": {\"color\": \"#E5ECF6\", \"width\": 0.5}}, \"type\": \"barpolar\"}], \"carpet\": [{\"aaxis\": {\"endlinecolor\": \"#2a3f5f\", \"gridcolor\": \"white\", \"linecolor\": \"white\", \"minorgridcolor\": \"white\", \"startlinecolor\": \"#2a3f5f\"}, \"baxis\": {\"endlinecolor\": \"#2a3f5f\", \"gridcolor\": \"white\", \"linecolor\": \"white\", \"minorgridcolor\": \"white\", \"startlinecolor\": \"#2a3f5f\"}, \"type\": \"carpet\"}], \"choropleth\": [{\"colorbar\": {\"outlinewidth\": 0, \"ticks\": \"\"}, \"type\": \"choropleth\"}], \"contour\": [{\"colorbar\": {\"outlinewidth\": 0, \"ticks\": \"\"}, \"colorscale\": [[0.0, \"#0d0887\"], [0.1111111111111111, \"#46039f\"], [0.2222222222222222, \"#7201a8\"], [0.3333333333333333, \"#9c179e\"], [0.4444444444444444, \"#bd3786\"], [0.5555555555555556, \"#d8576b\"], [0.6666666666666666, \"#ed7953\"], [0.7777777777777778, \"#fb9f3a\"], [0.8888888888888888, \"#fdca26\"], [1.0, \"#f0f921\"]], \"type\": \"contour\"}], \"contourcarpet\": [{\"colorbar\": {\"outlinewidth\": 0, \"ticks\": \"\"}, \"type\": \"contourcarpet\"}], \"heatmap\": [{\"colorbar\": {\"outlinewidth\": 0, \"ticks\": \"\"}, \"colorscale\": [[0.0, \"#0d0887\"], [0.1111111111111111, \"#46039f\"], [0.2222222222222222, \"#7201a8\"], [0.3333333333333333, \"#9c179e\"], [0.4444444444444444, \"#bd3786\"], [0.5555555555555556, \"#d8576b\"], [0.6666666666666666, \"#ed7953\"], [0.7777777777777778, \"#fb9f3a\"], [0.8888888888888888, \"#fdca26\"], [1.0, \"#f0f921\"]], \"type\": \"heatmap\"}], \"heatmapgl\": [{\"colorbar\": {\"outlinewidth\": 0, \"ticks\": \"\"}, \"colorscale\": [[0.0, \"#0d0887\"], [0.1111111111111111, \"#46039f\"], [0.2222222222222222, \"#7201a8\"], [0.3333333333333333, \"#9c179e\"], [0.4444444444444444, \"#bd3786\"], [0.5555555555555556, \"#d8576b\"], [0.6666666666666666, \"#ed7953\"], [0.7777777777777778, \"#fb9f3a\"], [0.8888888888888888, \"#fdca26\"], [1.0, \"#f0f921\"]], \"type\": \"heatmapgl\"}], \"histogram\": [{\"marker\": {\"colorbar\": {\"outlinewidth\": 0, \"ticks\": \"\"}}, \"type\": \"histogram\"}], \"histogram2d\": [{\"colorbar\": {\"outlinewidth\": 0, \"ticks\": \"\"}, \"colorscale\": [[0.0, \"#0d0887\"], [0.1111111111111111, \"#46039f\"], [0.2222222222222222, \"#7201a8\"], [0.3333333333333333, \"#9c179e\"], [0.4444444444444444, \"#bd3786\"], [0.5555555555555556, \"#d8576b\"], [0.6666666666666666, \"#ed7953\"], [0.7777777777777778, \"#fb9f3a\"], [0.8888888888888888, \"#fdca26\"], [1.0, \"#f0f921\"]], \"type\": \"histogram2d\"}], \"histogram2dcontour\": [{\"colorbar\": {\"outlinewidth\": 0, \"ticks\": \"\"}, \"colorscale\": [[0.0, \"#0d0887\"], [0.1111111111111111, \"#46039f\"], [0.2222222222222222, \"#7201a8\"], [0.3333333333333333, \"#9c179e\"], [0.4444444444444444, \"#bd3786\"], [0.5555555555555556, \"#d8576b\"], [0.6666666666666666, \"#ed7953\"], [0.7777777777777778, \"#fb9f3a\"], [0.8888888888888888, \"#fdca26\"], [1.0, \"#f0f921\"]], \"type\": \"histogram2dcontour\"}], \"mesh3d\": [{\"colorbar\": {\"outlinewidth\": 0, \"ticks\": \"\"}, \"type\": \"mesh3d\"}], \"parcoords\": [{\"line\": {\"colorbar\": {\"outlinewidth\": 0, \"ticks\": \"\"}}, \"type\": \"parcoords\"}], \"pie\": [{\"automargin\": true, \"type\": \"pie\"}], \"scatter\": [{\"marker\": {\"colorbar\": {\"outlinewidth\": 0, \"ticks\": \"\"}}, \"type\": \"scatter\"}], \"scatter3d\": [{\"line\": {\"colorbar\": {\"outlinewidth\": 0, \"ticks\": \"\"}}, \"marker\": {\"colorbar\": {\"outlinewidth\": 0, \"ticks\": \"\"}}, \"type\": \"scatter3d\"}], \"scattercarpet\": [{\"marker\": {\"colorbar\": {\"outlinewidth\": 0, \"ticks\": \"\"}}, \"type\": \"scattercarpet\"}], \"scattergeo\": [{\"marker\": {\"colorbar\": {\"outlinewidth\": 0, \"ticks\": \"\"}}, \"type\": \"scattergeo\"}], \"scattergl\": [{\"marker\": {\"colorbar\": {\"outlinewidth\": 0, \"ticks\": \"\"}}, \"type\": \"scattergl\"}], \"scattermapbox\": [{\"marker\": {\"colorbar\": {\"outlinewidth\": 0, \"ticks\": \"\"}}, \"type\": \"scattermapbox\"}], \"scatterpolar\": [{\"marker\": {\"colorbar\": {\"outlinewidth\": 0, \"ticks\": \"\"}}, \"type\": \"scatterpolar\"}], \"scatterpolargl\": [{\"marker\": {\"colorbar\": {\"outlinewidth\": 0, \"ticks\": \"\"}}, \"type\": \"scatterpolargl\"}], \"scatterternary\": [{\"marker\": {\"colorbar\": {\"outlinewidth\": 0, \"ticks\": \"\"}}, \"type\": \"scatterternary\"}], \"surface\": [{\"colorbar\": {\"outlinewidth\": 0, \"ticks\": \"\"}, \"colorscale\": [[0.0, \"#0d0887\"], [0.1111111111111111, \"#46039f\"], [0.2222222222222222, \"#7201a8\"], [0.3333333333333333, \"#9c179e\"], [0.4444444444444444, \"#bd3786\"], [0.5555555555555556, \"#d8576b\"], [0.6666666666666666, \"#ed7953\"], [0.7777777777777778, \"#fb9f3a\"], [0.8888888888888888, \"#fdca26\"], [1.0, \"#f0f921\"]], \"type\": \"surface\"}], \"table\": [{\"cells\": {\"fill\": {\"color\": \"#EBF0F8\"}, \"line\": {\"color\": \"white\"}}, \"header\": {\"fill\": {\"color\": \"#C8D4E3\"}, \"line\": {\"color\": \"white\"}}, \"type\": \"table\"}]}, \"layout\": {\"annotationdefaults\": {\"arrowcolor\": \"#2a3f5f\", \"arrowhead\": 0, \"arrowwidth\": 1}, \"coloraxis\": {\"colorbar\": {\"outlinewidth\": 0, \"ticks\": \"\"}}, \"colorscale\": {\"diverging\": [[0, \"#8e0152\"], [0.1, \"#c51b7d\"], [0.2, \"#de77ae\"], [0.3, \"#f1b6da\"], [0.4, \"#fde0ef\"], [0.5, \"#f7f7f7\"], [0.6, \"#e6f5d0\"], [0.7, \"#b8e186\"], [0.8, \"#7fbc41\"], [0.9, \"#4d9221\"], [1, \"#276419\"]], \"sequential\": [[0.0, \"#0d0887\"], [0.1111111111111111, \"#46039f\"], [0.2222222222222222, \"#7201a8\"], [0.3333333333333333, \"#9c179e\"], [0.4444444444444444, \"#bd3786\"], [0.5555555555555556, \"#d8576b\"], [0.6666666666666666, \"#ed7953\"], [0.7777777777777778, \"#fb9f3a\"], [0.8888888888888888, \"#fdca26\"], [1.0, \"#f0f921\"]], \"sequentialminus\": [[0.0, \"#0d0887\"], [0.1111111111111111, \"#46039f\"], [0.2222222222222222, \"#7201a8\"], [0.3333333333333333, \"#9c179e\"], [0.4444444444444444, \"#bd3786\"], [0.5555555555555556, \"#d8576b\"], [0.6666666666666666, \"#ed7953\"], [0.7777777777777778, \"#fb9f3a\"], [0.8888888888888888, \"#fdca26\"], [1.0, \"#f0f921\"]]}, \"colorway\": [\"#636efa\", \"#EF553B\", \"#00cc96\", \"#ab63fa\", \"#FFA15A\", \"#19d3f3\", \"#FF6692\", \"#B6E880\", \"#FF97FF\", \"#FECB52\"], \"font\": {\"color\": \"#2a3f5f\"}, \"geo\": {\"bgcolor\": \"white\", \"lakecolor\": \"white\", \"landcolor\": \"#E5ECF6\", \"showlakes\": true, \"showland\": true, \"subunitcolor\": \"white\"}, \"hoverlabel\": {\"align\": \"left\"}, \"hovermode\": \"closest\", \"mapbox\": {\"style\": \"light\"}, \"paper_bgcolor\": \"white\", \"plot_bgcolor\": \"#E5ECF6\", \"polar\": {\"angularaxis\": {\"gridcolor\": \"white\", \"linecolor\": \"white\", \"ticks\": \"\"}, \"bgcolor\": \"#E5ECF6\", \"radialaxis\": {\"gridcolor\": \"white\", \"linecolor\": \"white\", \"ticks\": \"\"}}, \"scene\": {\"xaxis\": {\"backgroundcolor\": \"#E5ECF6\", \"gridcolor\": \"white\", \"gridwidth\": 2, \"linecolor\": \"white\", \"showbackground\": true, \"ticks\": \"\", \"zerolinecolor\": \"white\"}, \"yaxis\": {\"backgroundcolor\": \"#E5ECF6\", \"gridcolor\": \"white\", \"gridwidth\": 2, \"linecolor\": \"white\", \"showbackground\": true, \"ticks\": \"\", \"zerolinecolor\": \"white\"}, \"zaxis\": {\"backgroundcolor\": \"#E5ECF6\", \"gridcolor\": \"white\", \"gridwidth\": 2, \"linecolor\": \"white\", \"showbackground\": true, \"ticks\": \"\", \"zerolinecolor\": \"white\"}}, \"shapedefaults\": {\"line\": {\"color\": \"#2a3f5f\"}}, \"ternary\": {\"aaxis\": {\"gridcolor\": \"white\", \"linecolor\": \"white\", \"ticks\": \"\"}, \"baxis\": {\"gridcolor\": \"white\", \"linecolor\": \"white\", \"ticks\": \"\"}, \"bgcolor\": \"#E5ECF6\", \"caxis\": {\"gridcolor\": \"white\", \"linecolor\": \"white\", \"ticks\": \"\"}}, \"title\": {\"x\": 0.05}, \"xaxis\": {\"automargin\": true, \"gridcolor\": \"white\", \"linecolor\": \"white\", \"ticks\": \"\", \"title\": {\"standoff\": 15}, \"zerolinecolor\": \"white\", \"zerolinewidth\": 2}, \"yaxis\": {\"automargin\": true, \"gridcolor\": \"white\", \"linecolor\": \"white\", \"ticks\": \"\", \"title\": {\"standoff\": 15}, \"zerolinecolor\": \"white\", \"zerolinewidth\": 2}}}, \"title\": {\"text\": \"Rabbits and Foxes\"}},\n",
              "                        {\"responsive\": true}\n",
              "                    ).then(function(){\n",
              "                            \n",
              "var gd = document.getElementById('25b22873-5933-4333-9d28-d77b4d3e8f4f');\n",
              "var x = new MutationObserver(function (mutations, observer) {{\n",
              "        var display = window.getComputedStyle(gd).display;\n",
              "        if (!display || display === 'none') {{\n",
              "            console.log([gd, 'removed!']);\n",
              "            Plotly.purge(gd);\n",
              "            observer.disconnect();\n",
              "        }}\n",
              "}});\n",
              "\n",
              "// Listen for the removal of the full notebook cells\n",
              "var notebookContainer = gd.closest('#notebook-container');\n",
              "if (notebookContainer) {{\n",
              "    x.observe(notebookContainer, {childList: true});\n",
              "}}\n",
              "\n",
              "// Listen for the clearing of the current output cell\n",
              "var outputEl = gd.closest('.output');\n",
              "if (outputEl) {{\n",
              "    x.observe(outputEl, {childList: true});\n",
              "}}\n",
              "\n",
              "                        })\n",
              "                };\n",
              "                \n",
              "            </script>\n",
              "        </div>\n",
              "</body>\n",
              "</html>"
            ]
          },
          "metadata": {
            "tags": []
          }
        }
      ]
    },
    {
      "cell_type": "code",
      "metadata": {
        "id": "OzFGoSFB8-VN",
        "colab_type": "code",
        "colab": {
          "base_uri": "https://localhost:8080/",
          "height": 542
        },
        "outputId": "7d751192-da12-4eaa-e78e-829f7dd963f0"
      },
      "source": [
        "fig_prey_C = go.Figure(layout={\"title\":\"Rabbits and Foxes\"})\n",
        "fig_prey_C.add_scatter(x=prey, y=predators, name=\"Rabbits\")\n",
        "fig_prey_C.show()"
      ],
      "execution_count": 88,
      "outputs": [
        {
          "output_type": "display_data",
          "data": {
            "text/html": [
              "<html>\n",
              "<head><meta charset=\"utf-8\" /></head>\n",
              "<body>\n",
              "    <div>\n",
              "            <script src=\"https://cdnjs.cloudflare.com/ajax/libs/mathjax/2.7.5/MathJax.js?config=TeX-AMS-MML_SVG\"></script><script type=\"text/javascript\">if (window.MathJax) {MathJax.Hub.Config({SVG: {font: \"STIX-Web\"}});}</script>\n",
              "                <script type=\"text/javascript\">window.PlotlyConfig = {MathJaxConfig: 'local'};</script>\n",
              "        <script src=\"https://cdn.plot.ly/plotly-latest.min.js\"></script>    \n",
              "            <div id=\"21e22493-fb32-412a-a1f6-7a06ea9f83ba\" class=\"plotly-graph-div\" style=\"height:525px; width:100%;\"></div>\n",
              "            <script type=\"text/javascript\">\n",
              "                \n",
              "                    window.PLOTLYENV=window.PLOTLYENV || {};\n",
              "                    \n",
              "                if (document.getElementById(\"21e22493-fb32-412a-a1f6-7a06ea9f83ba\")) {\n",
              "                    Plotly.newPlot(\n",
              "                        '21e22493-fb32-412a-a1f6-7a06ea9f83ba',\n",
              "                        [{\"name\": \"Rabbits\", \"type\": \"scatter\", \"x\": [1.5, 1.4943986175595163, 1.4773970293558094, 1.4491177805470208, 1.410273863523341, 1.3621512634550246, 1.3065177683524112, 1.2454686455788042, 1.1812359545294877, 1.115995408271943, 1.0517036070242873, 0.9899872932465065, 0.9320913432470249, 0.8788794995454606, 0.8308733434046222, 0.7883129141819245, 0.7512244067196635, 0.7194846194229798, 0.6928762206786543, 0.6711315457404511, 0.653965040280717, 0.6410957824994425, 0.6322620215669973, 0.6272296528054955, 0.6257963207056201, 0.6277924736615872, 0.6330803799474269, 0.6415518000755078, 0.6531247784212474, 0.6677398290332957, 0.685355655838249, 0.7059444393596491, 0.7294866786345122, 0.7559654499782957, 0.7853599978003062, 0.8176384786662142, 0.8527496861114578, 0.8906135782745094, 0.9311104420312466, 0.9740685703399847, 1.0192504231364807, 1.0663373587352627, 1.1149132535700752, 1.164447600063738, 1.2142794062875213, 1.2636031836418127, 1.3114599532646491, 1.3567362803247014, 1.3981758502614108, 1.4344078298293925, 1.4639971675820251, 1.4855197260570958, 1.497662584474968, 1.4993445768681115, 1.4898450745456617, 1.468922805908474, 1.4369007495382273, 1.3946946512356597, 1.343770002706538, 1.2860270962903433, 1.223630628431906, 1.1588141338525626, 1.0936940177639136, 1.0301230001298265, 0.969599472019733, 0.9132349239538907, 0.8617696323366575, 0.8156209203872823, 0.7749476570270565, 0.7397177939429594, 0.7097700951967353, 0.6848655797109167, 0.6647273141036686, 0.6490692360951016, 0.6376157161421782, 0.6301138019726747, 0.6263400218154711, 0.6261032988552011, 0.6292452113366682, 0.6356384843088768, 0.6451843082015539, 0.6578089095196374, 0.6734595607247672, 0.692100154567928, 0.7137063428424296, 0.7382601850608623, 0.7657441999147069, 0.7961346886796294, 0.8293941418791074, 0.8654625745141424, 0.9042475984074028, 0.945613089308471, 0.9893663439297667, 1.0352437265951, 1.0828949682709492, 1.131866530090244, 1.1815847614684305, 1.2313403975754285, 1.2802758559894825, 1.3273786446266516], \"y\": [1.0, 1.0622406911855928, 1.1268125237824003, 1.1920287799097495, 1.2558872374223613, 1.3161903953932126, 1.3707151409372849, 1.4174079518272429, 1.4545718479166607, 1.4810116244442975, 1.4961131170982795, 1.4998486273217628, 1.4927171483037023, 1.4756391293662408, 1.4498298462897325, 1.4166728962027133, 1.3776089811682608, 1.3340481759469895, 1.287307747055663, 1.238573529975542, 1.1888807291083185, 1.1391093407139439, 1.089989687362252, 1.0421143054236068, 0.9959532620004661, 0.9518708902421409, 0.9101424944345732, 0.8709702278671044, 0.8344976544892455, 0.8008228194627105, 0.7700097985537953, 0.7420988256086656, 0.71711512020911, 0.6950766343697052, 0.6760008531005428, 0.6599108393657264, 0.6468406649485877, 0.6368403374294713, 0.6299802912854336, 0.6263554411243655, 0.6260887094284947, 0.6293338305298656, 0.6362770648383489, 0.647137286602771, 0.6621634093948687, 0.6816283763906882, 0.7058177389734703, 0.7350113533563449, 0.7694559380573018, 0.8093270469987464, 0.8546792795998387, 0.9053858589951845, 0.9610715132284146, 1.0210467409202657, 1.0842563642092617, 1.1492578395046154, 1.2142460619650441, 1.2771352382438255, 1.3356980255595654, 1.38774726628793, 1.4313323949164778, 1.4649155425859355, 1.4874960858865753, 1.4986644955172612, 1.4985836916749125, 1.487911006758138, 1.4676829286618434, 1.4391863499226083, 1.4038359581636124, 1.3630705175768967, 1.3182739464243738, 1.2707215933118394, 1.221548846415544, 1.1717374707063266, 1.122114993670387, 1.0733628005710951, 1.0260294808991686, 0.9805468432365553, 0.937246754214224, 0.8963776337598421, 0.858119925246013, 0.8226001427138063, 0.7899034233556138, 0.7600845694760979, 0.733177713279454, 0.7092047570748774, 0.6881827693535075, 0.6701304994743893, 0.655074211409721, 0.6430529219136941, 0.6341231789476908, 0.6283634002511237, 0.6258777618856352, 0.6267995090077897, 0.631293435631214, 0.6395571048615765, 0.6518201834943279, 0.6683407434745976, 0.6893976671995278, 0.715277018757792]}],\n",
              "                        {\"template\": {\"data\": {\"bar\": [{\"error_x\": {\"color\": \"#2a3f5f\"}, \"error_y\": {\"color\": \"#2a3f5f\"}, \"marker\": {\"line\": {\"color\": \"#E5ECF6\", \"width\": 0.5}}, \"type\": \"bar\"}], \"barpolar\": [{\"marker\": {\"line\": {\"color\": \"#E5ECF6\", \"width\": 0.5}}, \"type\": \"barpolar\"}], \"carpet\": [{\"aaxis\": {\"endlinecolor\": \"#2a3f5f\", \"gridcolor\": \"white\", \"linecolor\": \"white\", \"minorgridcolor\": \"white\", \"startlinecolor\": \"#2a3f5f\"}, \"baxis\": {\"endlinecolor\": \"#2a3f5f\", \"gridcolor\": \"white\", \"linecolor\": \"white\", \"minorgridcolor\": \"white\", \"startlinecolor\": \"#2a3f5f\"}, \"type\": \"carpet\"}], \"choropleth\": [{\"colorbar\": {\"outlinewidth\": 0, \"ticks\": \"\"}, \"type\": \"choropleth\"}], \"contour\": [{\"colorbar\": {\"outlinewidth\": 0, \"ticks\": \"\"}, \"colorscale\": [[0.0, \"#0d0887\"], [0.1111111111111111, \"#46039f\"], [0.2222222222222222, \"#7201a8\"], [0.3333333333333333, \"#9c179e\"], [0.4444444444444444, \"#bd3786\"], [0.5555555555555556, \"#d8576b\"], [0.6666666666666666, \"#ed7953\"], [0.7777777777777778, \"#fb9f3a\"], [0.8888888888888888, \"#fdca26\"], [1.0, \"#f0f921\"]], \"type\": \"contour\"}], \"contourcarpet\": [{\"colorbar\": {\"outlinewidth\": 0, \"ticks\": \"\"}, \"type\": \"contourcarpet\"}], \"heatmap\": [{\"colorbar\": {\"outlinewidth\": 0, \"ticks\": \"\"}, \"colorscale\": [[0.0, \"#0d0887\"], [0.1111111111111111, \"#46039f\"], [0.2222222222222222, \"#7201a8\"], [0.3333333333333333, \"#9c179e\"], [0.4444444444444444, \"#bd3786\"], [0.5555555555555556, \"#d8576b\"], [0.6666666666666666, \"#ed7953\"], [0.7777777777777778, \"#fb9f3a\"], [0.8888888888888888, \"#fdca26\"], [1.0, \"#f0f921\"]], \"type\": \"heatmap\"}], \"heatmapgl\": [{\"colorbar\": {\"outlinewidth\": 0, \"ticks\": \"\"}, \"colorscale\": [[0.0, \"#0d0887\"], [0.1111111111111111, \"#46039f\"], [0.2222222222222222, \"#7201a8\"], [0.3333333333333333, \"#9c179e\"], [0.4444444444444444, \"#bd3786\"], [0.5555555555555556, \"#d8576b\"], [0.6666666666666666, \"#ed7953\"], [0.7777777777777778, \"#fb9f3a\"], [0.8888888888888888, \"#fdca26\"], [1.0, \"#f0f921\"]], \"type\": \"heatmapgl\"}], \"histogram\": [{\"marker\": {\"colorbar\": {\"outlinewidth\": 0, \"ticks\": \"\"}}, \"type\": \"histogram\"}], \"histogram2d\": [{\"colorbar\": {\"outlinewidth\": 0, \"ticks\": \"\"}, \"colorscale\": [[0.0, \"#0d0887\"], [0.1111111111111111, \"#46039f\"], [0.2222222222222222, \"#7201a8\"], [0.3333333333333333, \"#9c179e\"], [0.4444444444444444, \"#bd3786\"], [0.5555555555555556, \"#d8576b\"], [0.6666666666666666, \"#ed7953\"], [0.7777777777777778, \"#fb9f3a\"], [0.8888888888888888, \"#fdca26\"], [1.0, \"#f0f921\"]], \"type\": \"histogram2d\"}], \"histogram2dcontour\": [{\"colorbar\": {\"outlinewidth\": 0, \"ticks\": \"\"}, \"colorscale\": [[0.0, \"#0d0887\"], [0.1111111111111111, \"#46039f\"], [0.2222222222222222, \"#7201a8\"], [0.3333333333333333, \"#9c179e\"], [0.4444444444444444, \"#bd3786\"], [0.5555555555555556, \"#d8576b\"], [0.6666666666666666, \"#ed7953\"], [0.7777777777777778, \"#fb9f3a\"], [0.8888888888888888, \"#fdca26\"], [1.0, \"#f0f921\"]], \"type\": \"histogram2dcontour\"}], \"mesh3d\": [{\"colorbar\": {\"outlinewidth\": 0, \"ticks\": \"\"}, \"type\": \"mesh3d\"}], \"parcoords\": [{\"line\": {\"colorbar\": {\"outlinewidth\": 0, \"ticks\": \"\"}}, \"type\": \"parcoords\"}], \"pie\": [{\"automargin\": true, \"type\": \"pie\"}], \"scatter\": [{\"marker\": {\"colorbar\": {\"outlinewidth\": 0, \"ticks\": \"\"}}, \"type\": \"scatter\"}], \"scatter3d\": [{\"line\": {\"colorbar\": {\"outlinewidth\": 0, \"ticks\": \"\"}}, \"marker\": {\"colorbar\": {\"outlinewidth\": 0, \"ticks\": \"\"}}, \"type\": \"scatter3d\"}], \"scattercarpet\": [{\"marker\": {\"colorbar\": {\"outlinewidth\": 0, \"ticks\": \"\"}}, \"type\": \"scattercarpet\"}], \"scattergeo\": [{\"marker\": {\"colorbar\": {\"outlinewidth\": 0, \"ticks\": \"\"}}, \"type\": \"scattergeo\"}], \"scattergl\": [{\"marker\": {\"colorbar\": {\"outlinewidth\": 0, \"ticks\": \"\"}}, \"type\": \"scattergl\"}], \"scattermapbox\": [{\"marker\": {\"colorbar\": {\"outlinewidth\": 0, \"ticks\": \"\"}}, \"type\": \"scattermapbox\"}], \"scatterpolar\": [{\"marker\": {\"colorbar\": {\"outlinewidth\": 0, \"ticks\": \"\"}}, \"type\": \"scatterpolar\"}], \"scatterpolargl\": [{\"marker\": {\"colorbar\": {\"outlinewidth\": 0, \"ticks\": \"\"}}, \"type\": \"scatterpolargl\"}], \"scatterternary\": [{\"marker\": {\"colorbar\": {\"outlinewidth\": 0, \"ticks\": \"\"}}, \"type\": \"scatterternary\"}], \"surface\": [{\"colorbar\": {\"outlinewidth\": 0, \"ticks\": \"\"}, \"colorscale\": [[0.0, \"#0d0887\"], [0.1111111111111111, \"#46039f\"], [0.2222222222222222, \"#7201a8\"], [0.3333333333333333, \"#9c179e\"], [0.4444444444444444, \"#bd3786\"], [0.5555555555555556, \"#d8576b\"], [0.6666666666666666, \"#ed7953\"], [0.7777777777777778, \"#fb9f3a\"], [0.8888888888888888, \"#fdca26\"], [1.0, \"#f0f921\"]], \"type\": \"surface\"}], \"table\": [{\"cells\": {\"fill\": {\"color\": \"#EBF0F8\"}, \"line\": {\"color\": \"white\"}}, \"header\": {\"fill\": {\"color\": \"#C8D4E3\"}, \"line\": {\"color\": \"white\"}}, \"type\": \"table\"}]}, \"layout\": {\"annotationdefaults\": {\"arrowcolor\": \"#2a3f5f\", \"arrowhead\": 0, \"arrowwidth\": 1}, \"coloraxis\": {\"colorbar\": {\"outlinewidth\": 0, \"ticks\": \"\"}}, \"colorscale\": {\"diverging\": [[0, \"#8e0152\"], [0.1, \"#c51b7d\"], [0.2, \"#de77ae\"], [0.3, \"#f1b6da\"], [0.4, \"#fde0ef\"], [0.5, \"#f7f7f7\"], [0.6, \"#e6f5d0\"], [0.7, \"#b8e186\"], [0.8, \"#7fbc41\"], [0.9, \"#4d9221\"], [1, \"#276419\"]], \"sequential\": [[0.0, \"#0d0887\"], [0.1111111111111111, \"#46039f\"], [0.2222222222222222, \"#7201a8\"], [0.3333333333333333, \"#9c179e\"], [0.4444444444444444, \"#bd3786\"], [0.5555555555555556, \"#d8576b\"], [0.6666666666666666, \"#ed7953\"], [0.7777777777777778, \"#fb9f3a\"], [0.8888888888888888, \"#fdca26\"], [1.0, \"#f0f921\"]], \"sequentialminus\": [[0.0, \"#0d0887\"], [0.1111111111111111, \"#46039f\"], [0.2222222222222222, \"#7201a8\"], [0.3333333333333333, \"#9c179e\"], [0.4444444444444444, \"#bd3786\"], [0.5555555555555556, \"#d8576b\"], [0.6666666666666666, \"#ed7953\"], [0.7777777777777778, \"#fb9f3a\"], [0.8888888888888888, \"#fdca26\"], [1.0, \"#f0f921\"]]}, \"colorway\": [\"#636efa\", \"#EF553B\", \"#00cc96\", \"#ab63fa\", \"#FFA15A\", \"#19d3f3\", \"#FF6692\", \"#B6E880\", \"#FF97FF\", \"#FECB52\"], \"font\": {\"color\": \"#2a3f5f\"}, \"geo\": {\"bgcolor\": \"white\", \"lakecolor\": \"white\", \"landcolor\": \"#E5ECF6\", \"showlakes\": true, \"showland\": true, \"subunitcolor\": \"white\"}, \"hoverlabel\": {\"align\": \"left\"}, \"hovermode\": \"closest\", \"mapbox\": {\"style\": \"light\"}, \"paper_bgcolor\": \"white\", \"plot_bgcolor\": \"#E5ECF6\", \"polar\": {\"angularaxis\": {\"gridcolor\": \"white\", \"linecolor\": \"white\", \"ticks\": \"\"}, \"bgcolor\": \"#E5ECF6\", \"radialaxis\": {\"gridcolor\": \"white\", \"linecolor\": \"white\", \"ticks\": \"\"}}, \"scene\": {\"xaxis\": {\"backgroundcolor\": \"#E5ECF6\", \"gridcolor\": \"white\", \"gridwidth\": 2, \"linecolor\": \"white\", \"showbackground\": true, \"ticks\": \"\", \"zerolinecolor\": \"white\"}, \"yaxis\": {\"backgroundcolor\": \"#E5ECF6\", \"gridcolor\": \"white\", \"gridwidth\": 2, \"linecolor\": \"white\", \"showbackground\": true, \"ticks\": \"\", \"zerolinecolor\": \"white\"}, \"zaxis\": {\"backgroundcolor\": \"#E5ECF6\", \"gridcolor\": \"white\", \"gridwidth\": 2, \"linecolor\": \"white\", \"showbackground\": true, \"ticks\": \"\", \"zerolinecolor\": \"white\"}}, \"shapedefaults\": {\"line\": {\"color\": \"#2a3f5f\"}}, \"ternary\": {\"aaxis\": {\"gridcolor\": \"white\", \"linecolor\": \"white\", \"ticks\": \"\"}, \"baxis\": {\"gridcolor\": \"white\", \"linecolor\": \"white\", \"ticks\": \"\"}, \"bgcolor\": \"#E5ECF6\", \"caxis\": {\"gridcolor\": \"white\", \"linecolor\": \"white\", \"ticks\": \"\"}}, \"title\": {\"x\": 0.05}, \"xaxis\": {\"automargin\": true, \"gridcolor\": \"white\", \"linecolor\": \"white\", \"ticks\": \"\", \"title\": {\"standoff\": 15}, \"zerolinecolor\": \"white\", \"zerolinewidth\": 2}, \"yaxis\": {\"automargin\": true, \"gridcolor\": \"white\", \"linecolor\": \"white\", \"ticks\": \"\", \"title\": {\"standoff\": 15}, \"zerolinecolor\": \"white\", \"zerolinewidth\": 2}}}, \"title\": {\"text\": \"Rabbits and Foxes\"}},\n",
              "                        {\"responsive\": true}\n",
              "                    ).then(function(){\n",
              "                            \n",
              "var gd = document.getElementById('21e22493-fb32-412a-a1f6-7a06ea9f83ba');\n",
              "var x = new MutationObserver(function (mutations, observer) {{\n",
              "        var display = window.getComputedStyle(gd).display;\n",
              "        if (!display || display === 'none') {{\n",
              "            console.log([gd, 'removed!']);\n",
              "            Plotly.purge(gd);\n",
              "            observer.disconnect();\n",
              "        }}\n",
              "}});\n",
              "\n",
              "// Listen for the removal of the full notebook cells\n",
              "var notebookContainer = gd.closest('#notebook-container');\n",
              "if (notebookContainer) {{\n",
              "    x.observe(notebookContainer, {childList: true});\n",
              "}}\n",
              "\n",
              "// Listen for the clearing of the current output cell\n",
              "var outputEl = gd.closest('.output');\n",
              "if (outputEl) {{\n",
              "    x.observe(outputEl, {childList: true});\n",
              "}}\n",
              "\n",
              "                        })\n",
              "                };\n",
              "                \n",
              "            </script>\n",
              "        </div>\n",
              "</body>\n",
              "</html>"
            ]
          },
          "metadata": {
            "tags": []
          }
        }
      ]
    },
    {
      "cell_type": "code",
      "metadata": {
        "id": "T8SzKYej9X1b",
        "colab_type": "code",
        "colab": {}
      },
      "source": [
        ""
      ],
      "execution_count": 0,
      "outputs": []
    }
  ]
}